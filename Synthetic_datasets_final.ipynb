{
  "nbformat": 4,
  "nbformat_minor": 0,
  "metadata": {
    "colab": {
      "provenance": [],
      "include_colab_link": true
    },
    "kernelspec": {
      "name": "python3",
      "display_name": "Python 3"
    },
    "language_info": {
      "name": "python"
    }
  },
  "cells": [
    {
      "cell_type": "markdown",
      "metadata": {
        "id": "view-in-github",
        "colab_type": "text"
      },
      "source": [
        "<a href=\"https://colab.research.google.com/github/gayathritela/RCA-of-Cloud-Microservices/blob/main/Synthetic_datasets_final.ipynb\" target=\"_parent\"><img src=\"https://colab.research.google.com/assets/colab-badge.svg\" alt=\"Open In Colab\"/></a>"
      ]
    },
    {
      "cell_type": "code",
      "source": [
        "!pip install sentence_transformers"
      ],
      "metadata": {
        "colab": {
          "base_uri": "https://localhost:8080/"
        },
        "id": "tbig-qcTvA60",
        "outputId": "8c2f49a0-a745-418d-fc21-afbdfa3dc05b",
        "collapsed": true
      },
      "execution_count": null,
      "outputs": [
        {
          "output_type": "stream",
          "name": "stdout",
          "text": [
            "Collecting sentence_transformers\n",
            "  Downloading sentence_transformers-3.0.0-py3-none-any.whl (224 kB)\n",
            "\u001b[?25l     \u001b[90m━━━━━━━━━━━━━━━━━━━━━━━━━━━━━━━━━━━━━━━━\u001b[0m \u001b[32m0.0/224.7 kB\u001b[0m \u001b[31m?\u001b[0m eta \u001b[36m-:--:--\u001b[0m\r\u001b[2K     \u001b[91m━━━━━━━━━━━━━━━━━━━━━━━━━━━━━━\u001b[0m\u001b[91m╸\u001b[0m\u001b[90m━━━━━━━━━\u001b[0m \u001b[32m174.1/224.7 kB\u001b[0m \u001b[31m5.0 MB/s\u001b[0m eta \u001b[36m0:00:01\u001b[0m\r\u001b[2K     \u001b[90m━━━━━━━━━━━━━━━━━━━━━━━━━━━━━━━━━━━━━━━━\u001b[0m \u001b[32m224.7/224.7 kB\u001b[0m \u001b[31m4.5 MB/s\u001b[0m eta \u001b[36m0:00:00\u001b[0m\n",
            "\u001b[?25hRequirement already satisfied: transformers<5.0.0,>=4.34.0 in /usr/local/lib/python3.10/dist-packages (from sentence_transformers) (4.41.1)\n",
            "Requirement already satisfied: tqdm in /usr/local/lib/python3.10/dist-packages (from sentence_transformers) (4.66.4)\n",
            "Requirement already satisfied: torch>=1.11.0 in /usr/local/lib/python3.10/dist-packages (from sentence_transformers) (2.3.0+cu121)\n",
            "Requirement already satisfied: numpy in /usr/local/lib/python3.10/dist-packages (from sentence_transformers) (1.25.2)\n",
            "Requirement already satisfied: scikit-learn in /usr/local/lib/python3.10/dist-packages (from sentence_transformers) (1.2.2)\n",
            "Requirement already satisfied: scipy in /usr/local/lib/python3.10/dist-packages (from sentence_transformers) (1.11.4)\n",
            "Requirement already satisfied: huggingface-hub>=0.15.1 in /usr/local/lib/python3.10/dist-packages (from sentence_transformers) (0.23.1)\n",
            "Requirement already satisfied: Pillow in /usr/local/lib/python3.10/dist-packages (from sentence_transformers) (9.4.0)\n",
            "Requirement already satisfied: filelock in /usr/local/lib/python3.10/dist-packages (from huggingface-hub>=0.15.1->sentence_transformers) (3.14.0)\n",
            "Requirement already satisfied: fsspec>=2023.5.0 in /usr/local/lib/python3.10/dist-packages (from huggingface-hub>=0.15.1->sentence_transformers) (2023.6.0)\n",
            "Requirement already satisfied: packaging>=20.9 in /usr/local/lib/python3.10/dist-packages (from huggingface-hub>=0.15.1->sentence_transformers) (24.0)\n",
            "Requirement already satisfied: pyyaml>=5.1 in /usr/local/lib/python3.10/dist-packages (from huggingface-hub>=0.15.1->sentence_transformers) (6.0.1)\n",
            "Requirement already satisfied: requests in /usr/local/lib/python3.10/dist-packages (from huggingface-hub>=0.15.1->sentence_transformers) (2.31.0)\n",
            "Requirement already satisfied: typing-extensions>=3.7.4.3 in /usr/local/lib/python3.10/dist-packages (from huggingface-hub>=0.15.1->sentence_transformers) (4.11.0)\n",
            "Requirement already satisfied: sympy in /usr/local/lib/python3.10/dist-packages (from torch>=1.11.0->sentence_transformers) (1.12)\n",
            "Requirement already satisfied: networkx in /usr/local/lib/python3.10/dist-packages (from torch>=1.11.0->sentence_transformers) (3.3)\n",
            "Requirement already satisfied: jinja2 in /usr/local/lib/python3.10/dist-packages (from torch>=1.11.0->sentence_transformers) (3.1.4)\n",
            "Collecting nvidia-cuda-nvrtc-cu12==12.1.105 (from torch>=1.11.0->sentence_transformers)\n",
            "  Using cached nvidia_cuda_nvrtc_cu12-12.1.105-py3-none-manylinux1_x86_64.whl (23.7 MB)\n",
            "Collecting nvidia-cuda-runtime-cu12==12.1.105 (from torch>=1.11.0->sentence_transformers)\n",
            "  Using cached nvidia_cuda_runtime_cu12-12.1.105-py3-none-manylinux1_x86_64.whl (823 kB)\n",
            "Collecting nvidia-cuda-cupti-cu12==12.1.105 (from torch>=1.11.0->sentence_transformers)\n",
            "  Using cached nvidia_cuda_cupti_cu12-12.1.105-py3-none-manylinux1_x86_64.whl (14.1 MB)\n",
            "Collecting nvidia-cudnn-cu12==8.9.2.26 (from torch>=1.11.0->sentence_transformers)\n",
            "  Using cached nvidia_cudnn_cu12-8.9.2.26-py3-none-manylinux1_x86_64.whl (731.7 MB)\n",
            "Collecting nvidia-cublas-cu12==12.1.3.1 (from torch>=1.11.0->sentence_transformers)\n",
            "  Using cached nvidia_cublas_cu12-12.1.3.1-py3-none-manylinux1_x86_64.whl (410.6 MB)\n",
            "Collecting nvidia-cufft-cu12==11.0.2.54 (from torch>=1.11.0->sentence_transformers)\n",
            "  Using cached nvidia_cufft_cu12-11.0.2.54-py3-none-manylinux1_x86_64.whl (121.6 MB)\n",
            "Collecting nvidia-curand-cu12==10.3.2.106 (from torch>=1.11.0->sentence_transformers)\n",
            "  Using cached nvidia_curand_cu12-10.3.2.106-py3-none-manylinux1_x86_64.whl (56.5 MB)\n",
            "Collecting nvidia-cusolver-cu12==11.4.5.107 (from torch>=1.11.0->sentence_transformers)\n",
            "  Using cached nvidia_cusolver_cu12-11.4.5.107-py3-none-manylinux1_x86_64.whl (124.2 MB)\n",
            "Collecting nvidia-cusparse-cu12==12.1.0.106 (from torch>=1.11.0->sentence_transformers)\n",
            "  Using cached nvidia_cusparse_cu12-12.1.0.106-py3-none-manylinux1_x86_64.whl (196.0 MB)\n",
            "Collecting nvidia-nccl-cu12==2.20.5 (from torch>=1.11.0->sentence_transformers)\n",
            "  Using cached nvidia_nccl_cu12-2.20.5-py3-none-manylinux2014_x86_64.whl (176.2 MB)\n",
            "Collecting nvidia-nvtx-cu12==12.1.105 (from torch>=1.11.0->sentence_transformers)\n",
            "  Using cached nvidia_nvtx_cu12-12.1.105-py3-none-manylinux1_x86_64.whl (99 kB)\n",
            "Requirement already satisfied: triton==2.3.0 in /usr/local/lib/python3.10/dist-packages (from torch>=1.11.0->sentence_transformers) (2.3.0)\n",
            "Collecting nvidia-nvjitlink-cu12 (from nvidia-cusolver-cu12==11.4.5.107->torch>=1.11.0->sentence_transformers)\n",
            "  Downloading nvidia_nvjitlink_cu12-12.5.40-py3-none-manylinux2014_x86_64.whl (21.3 MB)\n",
            "\u001b[2K     \u001b[90m━━━━━━━━━━━━━━━━━━━━━━━━━━━━━━━━━━━━━━━━\u001b[0m \u001b[32m21.3/21.3 MB\u001b[0m \u001b[31m51.6 MB/s\u001b[0m eta \u001b[36m0:00:00\u001b[0m\n",
            "\u001b[?25hRequirement already satisfied: regex!=2019.12.17 in /usr/local/lib/python3.10/dist-packages (from transformers<5.0.0,>=4.34.0->sentence_transformers) (2024.5.15)\n",
            "Requirement already satisfied: tokenizers<0.20,>=0.19 in /usr/local/lib/python3.10/dist-packages (from transformers<5.0.0,>=4.34.0->sentence_transformers) (0.19.1)\n",
            "Requirement already satisfied: safetensors>=0.4.1 in /usr/local/lib/python3.10/dist-packages (from transformers<5.0.0,>=4.34.0->sentence_transformers) (0.4.3)\n",
            "Requirement already satisfied: joblib>=1.1.1 in /usr/local/lib/python3.10/dist-packages (from scikit-learn->sentence_transformers) (1.4.2)\n",
            "Requirement already satisfied: threadpoolctl>=2.0.0 in /usr/local/lib/python3.10/dist-packages (from scikit-learn->sentence_transformers) (3.5.0)\n",
            "Requirement already satisfied: MarkupSafe>=2.0 in /usr/local/lib/python3.10/dist-packages (from jinja2->torch>=1.11.0->sentence_transformers) (2.1.5)\n",
            "Requirement already satisfied: charset-normalizer<4,>=2 in /usr/local/lib/python3.10/dist-packages (from requests->huggingface-hub>=0.15.1->sentence_transformers) (3.3.2)\n",
            "Requirement already satisfied: idna<4,>=2.5 in /usr/local/lib/python3.10/dist-packages (from requests->huggingface-hub>=0.15.1->sentence_transformers) (3.7)\n",
            "Requirement already satisfied: urllib3<3,>=1.21.1 in /usr/local/lib/python3.10/dist-packages (from requests->huggingface-hub>=0.15.1->sentence_transformers) (2.0.7)\n",
            "Requirement already satisfied: certifi>=2017.4.17 in /usr/local/lib/python3.10/dist-packages (from requests->huggingface-hub>=0.15.1->sentence_transformers) (2024.2.2)\n",
            "Requirement already satisfied: mpmath>=0.19 in /usr/local/lib/python3.10/dist-packages (from sympy->torch>=1.11.0->sentence_transformers) (1.3.0)\n",
            "Installing collected packages: nvidia-nvtx-cu12, nvidia-nvjitlink-cu12, nvidia-nccl-cu12, nvidia-curand-cu12, nvidia-cufft-cu12, nvidia-cuda-runtime-cu12, nvidia-cuda-nvrtc-cu12, nvidia-cuda-cupti-cu12, nvidia-cublas-cu12, nvidia-cusparse-cu12, nvidia-cudnn-cu12, nvidia-cusolver-cu12, sentence_transformers\n",
            "Successfully installed nvidia-cublas-cu12-12.1.3.1 nvidia-cuda-cupti-cu12-12.1.105 nvidia-cuda-nvrtc-cu12-12.1.105 nvidia-cuda-runtime-cu12-12.1.105 nvidia-cudnn-cu12-8.9.2.26 nvidia-cufft-cu12-11.0.2.54 nvidia-curand-cu12-10.3.2.106 nvidia-cusolver-cu12-11.4.5.107 nvidia-cusparse-cu12-12.1.0.106 nvidia-nccl-cu12-2.20.5 nvidia-nvjitlink-cu12-12.5.40 nvidia-nvtx-cu12-12.1.105 sentence_transformers-3.0.0\n"
          ]
        }
      ]
    },
    {
      "cell_type": "markdown",
      "source": [
        "### **Synthetic Datset Creation**"
      ],
      "metadata": {
        "id": "0iCwDG9ZgJ0R"
      }
    },
    {
      "cell_type": "code",
      "execution_count": null,
      "metadata": {
        "colab": {
          "base_uri": "https://localhost:8080/"
        },
        "id": "AJSxX6QHunD_",
        "outputId": "7292e4bc-1e88-432a-c7a2-6327848d030d"
      },
      "outputs": [
        {
          "output_type": "stream",
          "name": "stderr",
          "text": [
            "/usr/local/lib/python3.10/dist-packages/sklearn/base.py:439: UserWarning: X does not have valid feature names, but IsolationForest was fitted with feature names\n",
            "  warnings.warn(\n"
          ]
        },
        {
          "output_type": "stream",
          "name": "stdout",
          "text": [
            "Evaluation for dataset 0_0: {'correctly_detected': 3, 'false_negatives': 7, 'false_positives': 39, 'total_injected': 10, 'total_detected': 42, 'details': {'correctly_detected_indices': [176, 178, 179], 'false_negative_indices': [165, 166, 167, 168, 169, 175, 177], 'false_positive_indices': [128, 129, 130, 131, 132, 5, 6, 7, 8, 9, 133, 134, 135, 136, 137, 138, 139, 140, 141, 142, 143, 144, 37, 38, 171, 45, 46, 197, 203, 104, 119, 120, 121, 122, 123, 124, 125, 126, 127]}}\n"
          ]
        },
        {
          "output_type": "stream",
          "name": "stderr",
          "text": [
            "/usr/local/lib/python3.10/dist-packages/sklearn/base.py:439: UserWarning: X does not have valid feature names, but IsolationForest was fitted with feature names\n",
            "  warnings.warn(\n"
          ]
        },
        {
          "output_type": "stream",
          "name": "stdout",
          "text": [
            "Evaluation for dataset 0_1: {'correctly_detected': 5, 'false_negatives': 5, 'false_positives': 37, 'total_injected': 10, 'total_detected': 42, 'details': {'correctly_detected_indices': [5, 6, 7, 8, 9], 'false_negative_indices': [45, 46, 47, 48, 49], 'false_positive_indices': [128, 1, 129, 131, 130, 132, 133, 134, 135, 136, 137, 138, 139, 140, 141, 142, 143, 144, 156, 36, 171, 176, 179, 84, 86, 87, 88, 102, 119, 120, 121, 122, 123, 124, 125, 126, 127]}}\n"
          ]
        },
        {
          "output_type": "stream",
          "name": "stderr",
          "text": [
            "/usr/local/lib/python3.10/dist-packages/sklearn/base.py:439: UserWarning: X does not have valid feature names, but IsolationForest was fitted with feature names\n",
            "  warnings.warn(\n"
          ]
        },
        {
          "output_type": "stream",
          "name": "stdout",
          "text": [
            "Evaluation for dataset 0_2: {'correctly_detected': 3, 'false_negatives': 7, 'false_positives': 39, 'total_injected': 10, 'total_detected': 42, 'details': {'correctly_detected_indices': [36, 37, 38], 'false_negative_indices': [35, 39, 180, 181, 182, 183, 184], 'false_positive_indices': [128, 129, 130, 131, 132, 5, 6, 7, 8, 9, 133, 134, 135, 136, 137, 138, 139, 140, 141, 142, 143, 144, 174, 47, 49, 177, 178, 60, 84, 110, 119, 120, 121, 122, 123, 124, 125, 126, 127]}}\n"
          ]
        },
        {
          "output_type": "stream",
          "name": "stderr",
          "text": [
            "/usr/local/lib/python3.10/dist-packages/sklearn/base.py:439: UserWarning: X does not have valid feature names, but IsolationForest was fitted with feature names\n",
            "  warnings.warn(\n"
          ]
        },
        {
          "output_type": "stream",
          "name": "stdout",
          "text": [
            "Evaluation for dataset 0_3: {'correctly_detected': 5, 'false_negatives': 5, 'false_positives': 37, 'total_injected': 10, 'total_detected': 42, 'details': {'correctly_detected_indices': [5, 6, 7, 8, 9], 'false_negative_indices': [80, 81, 82, 83, 84], 'false_positive_indices': [128, 1, 129, 131, 130, 132, 133, 134, 135, 136, 137, 138, 139, 140, 141, 142, 143, 144, 160, 35, 37, 38, 39, 175, 177, 178, 205, 104, 119, 120, 121, 122, 123, 124, 125, 126, 127]}}\n"
          ]
        },
        {
          "output_type": "stream",
          "name": "stderr",
          "text": [
            "/usr/local/lib/python3.10/dist-packages/sklearn/base.py:439: UserWarning: X does not have valid feature names, but IsolationForest was fitted with feature names\n",
            "  warnings.warn(\n"
          ]
        },
        {
          "output_type": "stream",
          "name": "stdout",
          "text": [
            "Evaluation for dataset 0_4: {'correctly_detected': 1, 'false_negatives': 9, 'false_positives': 41, 'total_injected': 10, 'total_detected': 42, 'details': {'correctly_detected_indices': [36], 'false_negative_indices': [35, 37, 38, 39, 10, 11, 12, 13, 14], 'false_positive_indices': [0, 129, 130, 131, 128, 5, 6, 7, 8, 9, 132, 133, 134, 135, 136, 137, 138, 139, 140, 141, 142, 143, 144, 47, 176, 49, 177, 178, 203, 81, 84, 116, 119, 120, 121, 122, 123, 124, 125, 126, 127]}}\n"
          ]
        },
        {
          "output_type": "stream",
          "name": "stderr",
          "text": [
            "/usr/local/lib/python3.10/dist-packages/sklearn/base.py:439: UserWarning: X does not have valid feature names, but IsolationForest was fitted with feature names\n",
            "  warnings.warn(\n"
          ]
        },
        {
          "output_type": "stream",
          "name": "stdout",
          "text": [
            "Evaluation for dataset 0_5: {'correctly_detected': 5, 'false_negatives': 5, 'false_positives': 37, 'total_injected': 10, 'total_detected': 42, 'details': {'correctly_detected_indices': [135, 136, 137, 138, 139], 'false_negative_indices': [45, 46, 47, 48, 49], 'false_positive_indices': [128, 129, 130, 131, 132, 5, 6, 7, 8, 9, 133, 140, 141, 142, 143, 144, 162, 35, 36, 37, 179, 59, 63, 198, 84, 104, 111, 115, 119, 120, 121, 122, 123, 124, 125, 126, 127]}}\n"
          ]
        },
        {
          "output_type": "stream",
          "name": "stderr",
          "text": [
            "/usr/local/lib/python3.10/dist-packages/sklearn/base.py:439: UserWarning: X does not have valid feature names, but IsolationForest was fitted with feature names\n",
            "  warnings.warn(\n"
          ]
        },
        {
          "output_type": "stream",
          "name": "stdout",
          "text": [
            "Evaluation for dataset 0_6: {'correctly_detected': 0, 'false_negatives': 10, 'false_positives': 42, 'total_injected': 10, 'total_detected': 42, 'details': {'correctly_detected_indices': [], 'false_negative_indices': [35, 36, 37, 38, 39, 40, 41, 42, 43, 44], 'false_positive_indices': [128, 129, 130, 131, 132, 5, 6, 7, 8, 9, 133, 134, 135, 136, 137, 138, 139, 140, 141, 142, 143, 144, 154, 159, 170, 46, 176, 177, 54, 60, 202, 84, 113, 119, 120, 121, 122, 123, 124, 125, 126, 127]}}\n"
          ]
        },
        {
          "output_type": "stream",
          "name": "stderr",
          "text": [
            "/usr/local/lib/python3.10/dist-packages/sklearn/base.py:439: UserWarning: X does not have valid feature names, but IsolationForest was fitted with feature names\n",
            "  warnings.warn(\n"
          ]
        },
        {
          "output_type": "stream",
          "name": "stdout",
          "text": [
            "Evaluation for dataset 0_7: {'correctly_detected': 10, 'false_negatives': 0, 'false_positives': 32, 'total_injected': 10, 'total_detected': 42, 'details': {'correctly_detected_indices': [5, 6, 7, 8, 9, 135, 136, 137, 138, 139], 'false_negative_indices': [], 'false_positive_indices': [128, 129, 131, 4, 132, 133, 140, 141, 142, 143, 144, 35, 38, 175, 176, 177, 178, 179, 81, 84, 88, 100, 116, 119, 120, 121, 122, 123, 124, 125, 126, 127]}}\n"
          ]
        },
        {
          "output_type": "stream",
          "name": "stderr",
          "text": [
            "/usr/local/lib/python3.10/dist-packages/sklearn/base.py:439: UserWarning: X does not have valid feature names, but IsolationForest was fitted with feature names\n",
            "  warnings.warn(\n"
          ]
        },
        {
          "output_type": "stream",
          "name": "stdout",
          "text": [
            "Evaluation for dataset 0_8: {'correctly_detected': 5, 'false_negatives': 0, 'false_positives': 37, 'total_injected': 5, 'total_detected': 42, 'details': {'correctly_detected_indices': [5, 6, 7, 8, 9], 'false_negative_indices': [], 'false_positive_indices': [128, 1, 129, 130, 131, 132, 133, 134, 135, 136, 137, 138, 140, 141, 142, 143, 144, 151, 157, 36, 37, 38, 48, 176, 64, 84, 111, 115, 119, 120, 121, 122, 123, 124, 125, 126, 127]}}\n"
          ]
        },
        {
          "output_type": "stream",
          "name": "stderr",
          "text": [
            "/usr/local/lib/python3.10/dist-packages/sklearn/base.py:439: UserWarning: X does not have valid feature names, but IsolationForest was fitted with feature names\n",
            "  warnings.warn(\n"
          ]
        },
        {
          "output_type": "stream",
          "name": "stdout",
          "text": [
            "Evaluation for dataset 0_9: {'correctly_detected': 4, 'false_negatives': 6, 'false_positives': 38, 'total_injected': 10, 'total_detected': 42, 'details': {'correctly_detected_indices': [46, 48, 38, 39], 'false_negative_indices': [35, 36, 37, 45, 47, 49], 'false_positive_indices': [128, 129, 131, 132, 5, 6, 7, 8, 9, 133, 134, 135, 136, 137, 138, 16, 139, 140, 141, 142, 143, 144, 154, 179, 53, 74, 80, 83, 104, 119, 120, 121, 122, 123, 124, 125, 126, 127]}}\n"
          ]
        },
        {
          "output_type": "stream",
          "name": "stderr",
          "text": [
            "/usr/local/lib/python3.10/dist-packages/sklearn/base.py:439: UserWarning: X does not have valid feature names, but IsolationForest was fitted with feature names\n",
            "  warnings.warn(\n"
          ]
        },
        {
          "output_type": "stream",
          "name": "stdout",
          "text": [
            "Evaluation for dataset 0_10: {'correctly_detected': 0, 'false_negatives': 10, 'false_positives': 42, 'total_injected': 10, 'total_detected': 42, 'details': {'correctly_detected_indices': [], 'false_negative_indices': [145, 146, 147, 148, 149, 155, 156, 157, 158, 159], 'false_positive_indices': [128, 129, 130, 3, 4, 5, 6, 7, 8, 9, 131, 132, 133, 134, 135, 136, 137, 138, 139, 140, 141, 142, 143, 144, 38, 45, 175, 48, 178, 202, 103, 114, 116, 119, 120, 121, 122, 123, 124, 125, 126, 127]}}\n"
          ]
        },
        {
          "output_type": "stream",
          "name": "stderr",
          "text": [
            "/usr/local/lib/python3.10/dist-packages/sklearn/base.py:439: UserWarning: X does not have valid feature names, but IsolationForest was fitted with feature names\n",
            "  warnings.warn(\n"
          ]
        },
        {
          "output_type": "stream",
          "name": "stdout",
          "text": [
            "Evaluation for dataset 0_11: {'correctly_detected': 5, 'false_negatives': 0, 'false_positives': 37, 'total_injected': 5, 'total_detected': 42, 'details': {'correctly_detected_indices': [120, 121, 122, 123, 124], 'false_negative_indices': [], 'false_positive_indices': [128, 129, 130, 131, 132, 5, 6, 7, 8, 9, 133, 134, 135, 136, 137, 138, 139, 140, 141, 142, 143, 144, 36, 37, 38, 39, 175, 48, 49, 179, 84, 87, 104, 119, 125, 126, 127]}}\n"
          ]
        },
        {
          "output_type": "stream",
          "name": "stderr",
          "text": [
            "/usr/local/lib/python3.10/dist-packages/sklearn/base.py:439: UserWarning: X does not have valid feature names, but IsolationForest was fitted with feature names\n",
            "  warnings.warn(\n"
          ]
        },
        {
          "output_type": "stream",
          "name": "stdout",
          "text": [
            "Evaluation for dataset 0_12: {'correctly_detected': 1, 'false_negatives': 9, 'false_positives': 41, 'total_injected': 10, 'total_detected': 42, 'details': {'correctly_detected_indices': [110], 'false_negative_indices': [165, 166, 167, 168, 169, 111, 112, 113, 114], 'false_positive_indices': [128, 129, 131, 132, 5, 6, 7, 8, 9, 133, 134, 135, 136, 137, 138, 139, 140, 141, 142, 143, 36, 37, 38, 45, 176, 177, 51, 54, 197, 79, 84, 117, 119, 120, 121, 122, 123, 124, 125, 126, 127]}}\n"
          ]
        },
        {
          "output_type": "stream",
          "name": "stderr",
          "text": [
            "/usr/local/lib/python3.10/dist-packages/sklearn/base.py:439: UserWarning: X does not have valid feature names, but IsolationForest was fitted with feature names\n",
            "  warnings.warn(\n"
          ]
        },
        {
          "output_type": "stream",
          "name": "stdout",
          "text": [
            "Evaluation for dataset 0_13: {'correctly_detected': 0, 'false_negatives': 10, 'false_positives': 42, 'total_injected': 10, 'total_detected': 42, 'details': {'correctly_detected_indices': [], 'false_negative_indices': [15, 16, 17, 18, 19, 145, 146, 147, 148, 149], 'false_positive_indices': [0, 129, 128, 3, 4, 5, 6, 7, 8, 9, 131, 132, 133, 134, 135, 136, 137, 138, 139, 140, 141, 142, 143, 144, 36, 37, 38, 172, 177, 81, 83, 84, 85, 119, 120, 121, 122, 123, 124, 125, 126, 127]}}\n"
          ]
        },
        {
          "output_type": "stream",
          "name": "stderr",
          "text": [
            "/usr/local/lib/python3.10/dist-packages/sklearn/base.py:439: UserWarning: X does not have valid feature names, but IsolationForest was fitted with feature names\n",
            "  warnings.warn(\n"
          ]
        },
        {
          "output_type": "stream",
          "name": "stdout",
          "text": [
            "Evaluation for dataset 0_14: {'correctly_detected': 3, 'false_negatives': 7, 'false_positives': 39, 'total_injected': 10, 'total_detected': 42, 'details': {'correctly_detected_indices': [35, 38, 39], 'false_negative_indices': [0, 1, 2, 3, 4, 36, 37], 'false_positive_indices': [128, 129, 130, 131, 132, 5, 6, 7, 8, 9, 133, 134, 135, 136, 137, 138, 139, 140, 141, 142, 143, 144, 47, 175, 176, 179, 197, 84, 111, 118, 119, 120, 121, 122, 123, 124, 125, 126, 127]}}\n"
          ]
        },
        {
          "output_type": "stream",
          "name": "stderr",
          "text": [
            "/usr/local/lib/python3.10/dist-packages/sklearn/base.py:439: UserWarning: X does not have valid feature names, but IsolationForest was fitted with feature names\n",
            "  warnings.warn(\n"
          ]
        },
        {
          "output_type": "stream",
          "name": "stdout",
          "text": [
            "Evaluation for dataset 0_15: {'correctly_detected': 1, 'false_negatives': 9, 'false_positives': 41, 'total_injected': 10, 'total_detected': 42, 'details': {'correctly_detected_indices': [4], 'false_negative_indices': [0, 1, 2, 3, 45, 46, 47, 48, 49], 'false_positive_indices': [128, 129, 130, 131, 132, 5, 6, 7, 8, 9, 133, 134, 135, 136, 137, 138, 139, 140, 141, 142, 143, 144, 146, 35, 36, 37, 38, 176, 60, 198, 84, 91, 119, 120, 121, 122, 123, 124, 125, 126, 127]}}\n"
          ]
        },
        {
          "output_type": "stream",
          "name": "stderr",
          "text": [
            "/usr/local/lib/python3.10/dist-packages/sklearn/base.py:439: UserWarning: X does not have valid feature names, but IsolationForest was fitted with feature names\n",
            "  warnings.warn(\n"
          ]
        },
        {
          "output_type": "stream",
          "name": "stdout",
          "text": [
            "Evaluation for dataset 0_16: {'correctly_detected': 0, 'false_negatives': 10, 'false_positives': 42, 'total_injected': 10, 'total_detected': 42, 'details': {'correctly_detected_indices': [], 'false_negative_indices': [32, 33, 34, 161, 160, 162, 163, 164, 30, 31], 'false_positive_indices': [128, 129, 131, 4, 5, 6, 7, 8, 9, 132, 133, 134, 135, 136, 138, 139, 140, 141, 142, 143, 148, 149, 156, 37, 47, 177, 178, 179, 62, 198, 81, 84, 100, 119, 120, 121, 122, 123, 124, 125, 126, 127]}}\n"
          ]
        },
        {
          "output_type": "stream",
          "name": "stderr",
          "text": [
            "/usr/local/lib/python3.10/dist-packages/sklearn/base.py:439: UserWarning: X does not have valid feature names, but IsolationForest was fitted with feature names\n",
            "  warnings.warn(\n"
          ]
        },
        {
          "output_type": "stream",
          "name": "stdout",
          "text": [
            "Evaluation for dataset 0_17: {'correctly_detected': 5, 'false_negatives': 5, 'false_positives': 37, 'total_injected': 10, 'total_detected': 42, 'details': {'correctly_detected_indices': [5, 6, 7, 8, 9], 'false_negative_indices': [150, 151, 152, 153, 154], 'false_positive_indices': [128, 1, 129, 131, 132, 133, 134, 136, 137, 138, 139, 140, 141, 142, 143, 144, 36, 45, 46, 175, 176, 179, 52, 203, 84, 89, 110, 114, 119, 120, 121, 122, 123, 124, 125, 126, 127]}}\n"
          ]
        },
        {
          "output_type": "stream",
          "name": "stderr",
          "text": [
            "/usr/local/lib/python3.10/dist-packages/sklearn/base.py:439: UserWarning: X does not have valid feature names, but IsolationForest was fitted with feature names\n",
            "  warnings.warn(\n"
          ]
        },
        {
          "output_type": "stream",
          "name": "stdout",
          "text": [
            "Evaluation for dataset 0_18: {'correctly_detected': 0, 'false_negatives': 10, 'false_positives': 42, 'total_injected': 10, 'total_detected': 42, 'details': {'correctly_detected_indices': [], 'false_negative_indices': [15, 16, 17, 18, 19, 155, 156, 157, 158, 159], 'false_positive_indices': [128, 1, 129, 131, 130, 5, 6, 7, 8, 9, 132, 133, 134, 135, 136, 137, 138, 139, 140, 141, 142, 143, 144, 35, 36, 37, 47, 177, 178, 57, 74, 84, 102, 119, 120, 121, 122, 123, 124, 125, 126, 127]}}\n"
          ]
        },
        {
          "output_type": "stream",
          "name": "stderr",
          "text": [
            "/usr/local/lib/python3.10/dist-packages/sklearn/base.py:439: UserWarning: X does not have valid feature names, but IsolationForest was fitted with feature names\n",
            "  warnings.warn(\n"
          ]
        },
        {
          "output_type": "stream",
          "name": "stdout",
          "text": [
            "Evaluation for dataset 0_19: {'correctly_detected': 0, 'false_negatives': 10, 'false_positives': 42, 'total_injected': 10, 'total_detected': 42, 'details': {'correctly_detected_indices': [], 'false_negative_indices': [70, 71, 72, 73, 74, 45, 46, 47, 48, 49], 'false_positive_indices': [128, 129, 2, 130, 4, 5, 6, 7, 8, 9, 131, 133, 134, 136, 138, 139, 140, 141, 142, 143, 144, 35, 38, 172, 175, 177, 179, 53, 197, 199, 84, 85, 100, 119, 120, 121, 122, 123, 124, 125, 126, 127]}}\n"
          ]
        },
        {
          "output_type": "stream",
          "name": "stderr",
          "text": [
            "/usr/local/lib/python3.10/dist-packages/sklearn/base.py:439: UserWarning: X does not have valid feature names, but IsolationForest was fitted with feature names\n",
            "  warnings.warn(\n"
          ]
        },
        {
          "output_type": "stream",
          "name": "stdout",
          "text": [
            "Evaluation for dataset 0_20: {'correctly_detected': 0, 'false_negatives': 10, 'false_positives': 42, 'total_injected': 10, 'total_detected': 42, 'details': {'correctly_detected_indices': [], 'false_negative_indices': [15, 16, 17, 18, 19, 150, 151, 152, 153, 154], 'false_positive_indices': [128, 129, 130, 131, 132, 5, 6, 7, 8, 9, 133, 134, 135, 136, 137, 138, 139, 140, 141, 142, 143, 144, 37, 169, 46, 175, 48, 176, 178, 80, 84, 113, 117, 119, 120, 121, 122, 123, 124, 125, 126, 127]}}\n"
          ]
        },
        {
          "output_type": "stream",
          "name": "stderr",
          "text": [
            "/usr/local/lib/python3.10/dist-packages/sklearn/base.py:439: UserWarning: X does not have valid feature names, but IsolationForest was fitted with feature names\n",
            "  warnings.warn(\n"
          ]
        },
        {
          "output_type": "stream",
          "name": "stdout",
          "text": [
            "Evaluation for dataset 0_21: {'correctly_detected': 6, 'false_negatives': 4, 'false_positives': 36, 'total_injected': 10, 'total_detected': 42, 'details': {'correctly_detected_indices': [135, 136, 137, 138, 139, 49], 'false_negative_indices': [48, 45, 46, 47], 'false_positive_indices': [128, 129, 131, 132, 5, 6, 7, 8, 9, 133, 140, 141, 142, 143, 144, 37, 38, 175, 176, 177, 178, 64, 195, 196, 203, 84, 118, 119, 120, 121, 122, 123, 124, 125, 126, 127]}}\n"
          ]
        },
        {
          "output_type": "stream",
          "name": "stderr",
          "text": [
            "/usr/local/lib/python3.10/dist-packages/sklearn/base.py:439: UserWarning: X does not have valid feature names, but IsolationForest was fitted with feature names\n",
            "  warnings.warn(\n"
          ]
        },
        {
          "output_type": "stream",
          "name": "stdout",
          "text": [
            "Evaluation for dataset 0_22: {'correctly_detected': 1, 'false_negatives': 9, 'false_positives': 41, 'total_injected': 10, 'total_detected': 42, 'details': {'correctly_detected_indices': [47], 'false_negative_indices': [192, 193, 194, 45, 46, 48, 49, 190, 191], 'false_positive_indices': [128, 1, 129, 131, 130, 5, 6, 7, 8, 9, 132, 133, 134, 136, 137, 138, 139, 140, 141, 142, 143, 144, 38, 176, 177, 178, 196, 198, 203, 84, 85, 100, 119, 120, 121, 122, 123, 124, 125, 126, 127]}}\n"
          ]
        },
        {
          "output_type": "stream",
          "name": "stderr",
          "text": [
            "/usr/local/lib/python3.10/dist-packages/sklearn/base.py:439: UserWarning: X does not have valid feature names, but IsolationForest was fitted with feature names\n",
            "  warnings.warn(\n"
          ]
        },
        {
          "output_type": "stream",
          "name": "stdout",
          "text": [
            "Evaluation for dataset 0_23: {'correctly_detected': 0, 'false_negatives': 10, 'false_positives': 42, 'total_injected': 10, 'total_detected': 42, 'details': {'correctly_detected_indices': [], 'false_negative_indices': [170, 171, 172, 173, 174, 90, 91, 92, 93, 94], 'false_positive_indices': [0, 129, 130, 128, 4, 5, 6, 7, 8, 9, 131, 132, 133, 134, 135, 136, 137, 138, 139, 140, 141, 142, 143, 144, 158, 37, 39, 45, 175, 176, 177, 203, 84, 119, 120, 121, 122, 123, 124, 125, 126, 127]}}\n"
          ]
        },
        {
          "output_type": "stream",
          "name": "stderr",
          "text": [
            "/usr/local/lib/python3.10/dist-packages/sklearn/base.py:439: UserWarning: X does not have valid feature names, but IsolationForest was fitted with feature names\n",
            "  warnings.warn(\n"
          ]
        },
        {
          "output_type": "stream",
          "name": "stdout",
          "text": [
            "Evaluation for dataset 0_24: {'correctly_detected': 0, 'false_negatives': 10, 'false_positives': 42, 'total_injected': 10, 'total_detected': 42, 'details': {'correctly_detected_indices': [], 'false_negative_indices': [145, 146, 147, 148, 149, 150, 151, 152, 153, 154], 'false_positive_indices': [128, 129, 130, 131, 132, 5, 6, 7, 8, 9, 133, 134, 135, 136, 137, 138, 139, 141, 142, 143, 144, 35, 37, 38, 47, 176, 177, 63, 203, 81, 83, 89, 118, 119, 120, 121, 122, 123, 124, 125, 126, 127]}}\n"
          ]
        },
        {
          "output_type": "stream",
          "name": "stderr",
          "text": [
            "/usr/local/lib/python3.10/dist-packages/sklearn/base.py:439: UserWarning: X does not have valid feature names, but IsolationForest was fitted with feature names\n",
            "  warnings.warn(\n"
          ]
        },
        {
          "output_type": "stream",
          "name": "stdout",
          "text": [
            "Evaluation for dataset 0_25: {'correctly_detected': 1, 'false_negatives': 9, 'false_positives': 41, 'total_injected': 10, 'total_detected': 42, 'details': {'correctly_detected_indices': [47], 'false_negative_indices': [75, 76, 45, 46, 77, 48, 49, 78, 79], 'false_positive_indices': [0, 129, 130, 131, 128, 5, 6, 7, 8, 9, 132, 133, 134, 135, 136, 137, 138, 139, 140, 141, 142, 143, 156, 36, 37, 176, 177, 179, 196, 84, 100, 117, 119, 120, 121, 122, 123, 124, 125, 126, 127]}}\n"
          ]
        },
        {
          "output_type": "stream",
          "name": "stderr",
          "text": [
            "/usr/local/lib/python3.10/dist-packages/sklearn/base.py:439: UserWarning: X does not have valid feature names, but IsolationForest was fitted with feature names\n",
            "  warnings.warn(\n"
          ]
        },
        {
          "output_type": "stream",
          "name": "stdout",
          "text": [
            "Evaluation for dataset 0_26: {'correctly_detected': 0, 'false_negatives': 10, 'false_positives': 42, 'total_injected': 10, 'total_detected': 42, 'details': {'correctly_detected_indices': [], 'false_negative_indices': [15, 16, 17, 18, 19, 145, 146, 147, 148, 149], 'false_positive_indices': [128, 129, 130, 131, 132, 5, 6, 7, 8, 9, 133, 134, 135, 136, 137, 138, 139, 140, 141, 142, 143, 144, 37, 38, 45, 47, 175, 176, 177, 178, 84, 101, 118, 119, 120, 121, 122, 123, 124, 125, 126, 127]}}\n"
          ]
        },
        {
          "output_type": "stream",
          "name": "stderr",
          "text": [
            "/usr/local/lib/python3.10/dist-packages/sklearn/base.py:439: UserWarning: X does not have valid feature names, but IsolationForest was fitted with feature names\n",
            "  warnings.warn(\n"
          ]
        },
        {
          "output_type": "stream",
          "name": "stdout",
          "text": [
            "Evaluation for dataset 0_27: {'correctly_detected': 6, 'false_negatives': 4, 'false_positives': 36, 'total_injected': 10, 'total_detected': 42, 'details': {'correctly_detected_indices': [5, 6, 7, 8, 9, 47], 'false_negative_indices': [48, 49, 45, 46], 'false_positive_indices': [128, 1, 129, 131, 130, 132, 133, 134, 135, 136, 137, 138, 139, 140, 141, 142, 143, 144, 37, 38, 39, 176, 177, 178, 52, 199, 84, 119, 120, 121, 122, 123, 124, 125, 126, 127]}}\n"
          ]
        },
        {
          "output_type": "stream",
          "name": "stderr",
          "text": [
            "/usr/local/lib/python3.10/dist-packages/sklearn/base.py:439: UserWarning: X does not have valid feature names, but IsolationForest was fitted with feature names\n",
            "  warnings.warn(\n"
          ]
        },
        {
          "output_type": "stream",
          "name": "stdout",
          "text": [
            "Evaluation for dataset 0_28: {'correctly_detected': 10, 'false_negatives': 0, 'false_positives': 32, 'total_injected': 10, 'total_detected': 42, 'details': {'correctly_detected_indices': [5, 6, 7, 8, 9, 120, 121, 122, 123, 124], 'false_negative_indices': [], 'false_positive_indices': [128, 129, 130, 131, 4, 132, 133, 134, 135, 136, 137, 138, 139, 140, 141, 142, 143, 144, 35, 37, 38, 39, 175, 48, 49, 64, 80, 84, 119, 125, 126, 127]}}\n"
          ]
        },
        {
          "output_type": "stream",
          "name": "stderr",
          "text": [
            "/usr/local/lib/python3.10/dist-packages/sklearn/base.py:439: UserWarning: X does not have valid feature names, but IsolationForest was fitted with feature names\n",
            "  warnings.warn(\n"
          ]
        },
        {
          "output_type": "stream",
          "name": "stdout",
          "text": [
            "Evaluation for dataset 0_29: {'correctly_detected': 0, 'false_negatives': 5, 'false_positives': 42, 'total_injected': 5, 'total_detected': 42, 'details': {'correctly_detected_indices': [], 'false_negative_indices': [20, 21, 22, 23, 24], 'false_positive_indices': [128, 129, 131, 132, 5, 6, 7, 8, 9, 133, 134, 135, 136, 137, 138, 139, 140, 141, 142, 144, 35, 37, 38, 45, 47, 48, 175, 176, 51, 177, 178, 102, 117, 119, 120, 121, 122, 123, 124, 125, 126, 127]}}\n"
          ]
        },
        {
          "output_type": "stream",
          "name": "stderr",
          "text": [
            "/usr/local/lib/python3.10/dist-packages/sklearn/base.py:439: UserWarning: X does not have valid feature names, but IsolationForest was fitted with feature names\n",
            "  warnings.warn(\n"
          ]
        },
        {
          "output_type": "stream",
          "name": "stdout",
          "text": [
            "Evaluation for dataset 0_30: {'correctly_detected': 0, 'false_negatives': 10, 'false_positives': 42, 'total_injected': 10, 'total_detected': 42, 'details': {'correctly_detected_indices': [], 'false_negative_indices': [180, 181, 182, 183, 184, 185, 186, 187, 188, 189], 'false_positive_indices': [128, 1, 129, 3, 130, 5, 6, 7, 8, 9, 131, 132, 133, 134, 135, 136, 137, 138, 139, 140, 141, 142, 143, 144, 37, 39, 176, 177, 178, 61, 196, 84, 103, 119, 120, 121, 122, 123, 124, 125, 126, 127]}}\n"
          ]
        },
        {
          "output_type": "stream",
          "name": "stderr",
          "text": [
            "/usr/local/lib/python3.10/dist-packages/sklearn/base.py:439: UserWarning: X does not have valid feature names, but IsolationForest was fitted with feature names\n",
            "  warnings.warn(\n"
          ]
        },
        {
          "output_type": "stream",
          "name": "stdout",
          "text": [
            "Evaluation for dataset 0_31: {'correctly_detected': 5, 'false_negatives': 0, 'false_positives': 37, 'total_injected': 5, 'total_detected': 42, 'details': {'correctly_detected_indices': [140, 141, 142, 143, 144], 'false_negative_indices': [], 'false_positive_indices': [128, 129, 130, 131, 132, 5, 6, 7, 8, 9, 133, 134, 135, 136, 137, 138, 139, 37, 45, 46, 175, 176, 49, 177, 178, 62, 84, 114, 119, 120, 121, 122, 123, 124, 125, 126, 127]}}\n"
          ]
        },
        {
          "output_type": "stream",
          "name": "stderr",
          "text": [
            "/usr/local/lib/python3.10/dist-packages/sklearn/base.py:439: UserWarning: X does not have valid feature names, but IsolationForest was fitted with feature names\n",
            "  warnings.warn(\n"
          ]
        },
        {
          "output_type": "stream",
          "name": "stdout",
          "text": [
            "Evaluation for dataset 0_32: {'correctly_detected': 2, 'false_negatives': 8, 'false_positives': 40, 'total_injected': 10, 'total_detected': 42, 'details': {'correctly_detected_indices': [48, 47], 'false_negative_indices': [45, 46, 49, 180, 181, 182, 183, 184], 'false_positive_indices': [128, 129, 131, 132, 5, 6, 7, 8, 9, 133, 134, 135, 136, 137, 138, 139, 141, 142, 143, 144, 37, 38, 39, 178, 51, 179, 199, 203, 85, 111, 116, 119, 120, 121, 122, 123, 124, 125, 126, 127]}}\n"
          ]
        },
        {
          "output_type": "stream",
          "name": "stderr",
          "text": [
            "/usr/local/lib/python3.10/dist-packages/sklearn/base.py:439: UserWarning: X does not have valid feature names, but IsolationForest was fitted with feature names\n",
            "  warnings.warn(\n"
          ]
        },
        {
          "output_type": "stream",
          "name": "stdout",
          "text": [
            "Evaluation for dataset 0_33: {'correctly_detected': 0, 'false_negatives': 10, 'false_positives': 42, 'total_injected': 10, 'total_detected': 42, 'details': {'correctly_detected_indices': [], 'false_negative_indices': [160, 161, 162, 163, 164, 170, 171, 172, 173, 174], 'false_positive_indices': [128, 129, 130, 131, 132, 5, 6, 7, 8, 9, 133, 134, 135, 136, 137, 138, 139, 141, 142, 143, 144, 37, 45, 176, 177, 178, 69, 197, 199, 84, 89, 104, 115, 119, 120, 121, 122, 123, 124, 125, 126, 127]}}\n"
          ]
        },
        {
          "output_type": "stream",
          "name": "stderr",
          "text": [
            "/usr/local/lib/python3.10/dist-packages/sklearn/base.py:439: UserWarning: X does not have valid feature names, but IsolationForest was fitted with feature names\n",
            "  warnings.warn(\n"
          ]
        },
        {
          "output_type": "stream",
          "name": "stdout",
          "text": [
            "Evaluation for dataset 0_34: {'correctly_detected': 10, 'false_negatives': 0, 'false_positives': 32, 'total_injected': 10, 'total_detected': 42, 'details': {'correctly_detected_indices': [128, 129, 120, 121, 122, 123, 124, 125, 126, 127], 'false_negative_indices': [], 'false_positive_indices': [131, 132, 5, 6, 7, 8, 9, 133, 135, 136, 137, 138, 139, 141, 142, 143, 144, 146, 150, 36, 37, 38, 46, 177, 50, 179, 54, 62, 84, 113, 118, 119]}}\n"
          ]
        },
        {
          "output_type": "stream",
          "name": "stderr",
          "text": [
            "/usr/local/lib/python3.10/dist-packages/sklearn/base.py:439: UserWarning: X does not have valid feature names, but IsolationForest was fitted with feature names\n",
            "  warnings.warn(\n"
          ]
        },
        {
          "output_type": "stream",
          "name": "stdout",
          "text": [
            "Evaluation for dataset 0_35: {'correctly_detected': 5, 'false_negatives': 5, 'false_positives': 37, 'total_injected': 10, 'total_detected': 42, 'details': {'correctly_detected_indices': [175, 176, 177, 178, 179], 'false_negative_indices': [40, 41, 42, 43, 44], 'false_positive_indices': [128, 129, 131, 132, 5, 6, 7, 8, 9, 133, 134, 135, 136, 137, 138, 139, 140, 141, 142, 143, 35, 37, 38, 47, 60, 79, 84, 100, 119, 120, 121, 122, 123, 124, 125, 126, 127]}}\n"
          ]
        },
        {
          "output_type": "stream",
          "name": "stderr",
          "text": [
            "/usr/local/lib/python3.10/dist-packages/sklearn/base.py:439: UserWarning: X does not have valid feature names, but IsolationForest was fitted with feature names\n",
            "  warnings.warn(\n"
          ]
        },
        {
          "output_type": "stream",
          "name": "stdout",
          "text": [
            "Evaluation for dataset 0_36: {'correctly_detected': 0, 'false_negatives': 10, 'false_positives': 42, 'total_injected': 10, 'total_detected': 42, 'details': {'correctly_detected_indices': [], 'false_negative_indices': [160, 161, 162, 163, 164, 165, 166, 167, 168, 169], 'false_positive_indices': [128, 129, 131, 132, 5, 6, 7, 8, 9, 133, 134, 135, 136, 137, 138, 139, 140, 141, 142, 143, 144, 23, 33, 35, 36, 38, 175, 176, 177, 196, 83, 84, 88, 119, 120, 121, 122, 123, 124, 125, 126, 127]}}\n"
          ]
        },
        {
          "output_type": "stream",
          "name": "stderr",
          "text": [
            "/usr/local/lib/python3.10/dist-packages/sklearn/base.py:439: UserWarning: X does not have valid feature names, but IsolationForest was fitted with feature names\n",
            "  warnings.warn(\n"
          ]
        },
        {
          "output_type": "stream",
          "name": "stdout",
          "text": [
            "Evaluation for dataset 0_37: {'correctly_detected': 7, 'false_negatives': 3, 'false_positives': 35, 'total_injected': 10, 'total_detected': 42, 'details': {'correctly_detected_indices': [140, 141, 142, 143, 48, 49, 144], 'false_negative_indices': [45, 46, 47], 'false_positive_indices': [128, 129, 130, 3, 4, 5, 6, 7, 8, 9, 131, 132, 133, 135, 136, 137, 138, 139, 23, 39, 40, 177, 178, 179, 82, 104, 119, 120, 121, 122, 123, 124, 125, 126, 127]}}\n"
          ]
        },
        {
          "output_type": "stream",
          "name": "stderr",
          "text": [
            "/usr/local/lib/python3.10/dist-packages/sklearn/base.py:439: UserWarning: X does not have valid feature names, but IsolationForest was fitted with feature names\n",
            "  warnings.warn(\n"
          ]
        },
        {
          "output_type": "stream",
          "name": "stdout",
          "text": [
            "Evaluation for dataset 0_38: {'correctly_detected': 5, 'false_negatives': 5, 'false_positives': 37, 'total_injected': 10, 'total_detected': 42, 'details': {'correctly_detected_indices': [120, 121, 122, 123, 124], 'false_negative_indices': [20, 21, 22, 23, 24], 'false_positive_indices': [128, 129, 130, 131, 132, 5, 6, 7, 8, 9, 133, 134, 135, 136, 137, 138, 139, 140, 141, 142, 143, 35, 36, 37, 175, 176, 177, 179, 61, 84, 87, 89, 112, 119, 125, 126, 127]}}\n"
          ]
        },
        {
          "output_type": "stream",
          "name": "stderr",
          "text": [
            "/usr/local/lib/python3.10/dist-packages/sklearn/base.py:439: UserWarning: X does not have valid feature names, but IsolationForest was fitted with feature names\n",
            "  warnings.warn(\n"
          ]
        },
        {
          "output_type": "stream",
          "name": "stdout",
          "text": [
            "Evaluation for dataset 0_39: {'correctly_detected': 3, 'false_negatives': 7, 'false_positives': 39, 'total_injected': 10, 'total_detected': 42, 'details': {'correctly_detected_indices': [49, 197, 46], 'false_negative_indices': [195, 196, 198, 199, 45, 47, 48], 'false_positive_indices': [128, 129, 130, 131, 132, 5, 6, 7, 8, 9, 133, 134, 135, 136, 137, 138, 139, 140, 141, 142, 143, 144, 154, 36, 38, 176, 63, 208, 110, 117, 119, 120, 121, 122, 123, 124, 125, 126, 127]}}\n"
          ]
        },
        {
          "output_type": "stream",
          "name": "stderr",
          "text": [
            "/usr/local/lib/python3.10/dist-packages/sklearn/base.py:439: UserWarning: X does not have valid feature names, but IsolationForest was fitted with feature names\n",
            "  warnings.warn(\n"
          ]
        },
        {
          "output_type": "stream",
          "name": "stdout",
          "text": [
            "Evaluation for dataset 0_40: {'correctly_detected': 5, 'false_negatives': 5, 'false_positives': 37, 'total_injected': 10, 'total_detected': 42, 'details': {'correctly_detected_indices': [35, 36, 37, 38, 47], 'false_negative_indices': [39, 45, 46, 48, 49], 'false_positive_indices': [128, 129, 131, 132, 5, 6, 7, 8, 9, 133, 135, 136, 137, 138, 140, 141, 142, 143, 144, 176, 177, 178, 179, 52, 198, 85, 104, 114, 119, 120, 121, 122, 123, 124, 125, 126, 127]}}\n"
          ]
        },
        {
          "output_type": "stream",
          "name": "stderr",
          "text": [
            "/usr/local/lib/python3.10/dist-packages/sklearn/base.py:439: UserWarning: X does not have valid feature names, but IsolationForest was fitted with feature names\n",
            "  warnings.warn(\n"
          ]
        },
        {
          "output_type": "stream",
          "name": "stdout",
          "text": [
            "Evaluation for dataset 0_41: {'correctly_detected': 0, 'false_negatives': 10, 'false_positives': 42, 'total_injected': 10, 'total_detected': 42, 'details': {'correctly_detected_indices': [], 'false_negative_indices': [160, 161, 162, 163, 164, 165, 166, 167, 168, 169], 'false_positive_indices': [128, 129, 130, 131, 132, 5, 6, 7, 8, 9, 133, 134, 135, 136, 137, 138, 139, 140, 141, 142, 143, 144, 38, 170, 173, 49, 177, 52, 60, 63, 82, 84, 103, 119, 120, 121, 122, 123, 124, 125, 126, 127]}}\n"
          ]
        },
        {
          "output_type": "stream",
          "name": "stderr",
          "text": [
            "/usr/local/lib/python3.10/dist-packages/sklearn/base.py:439: UserWarning: X does not have valid feature names, but IsolationForest was fitted with feature names\n",
            "  warnings.warn(\n"
          ]
        },
        {
          "output_type": "stream",
          "name": "stdout",
          "text": [
            "Evaluation for dataset 0_42: {'correctly_detected': 2, 'false_negatives': 8, 'false_positives': 40, 'total_injected': 10, 'total_detected': 42, 'details': {'correctly_detected_indices': [38, 39], 'false_negative_indices': [35, 36, 37, 40, 41, 42, 43, 44], 'false_positive_indices': [128, 129, 131, 132, 5, 6, 7, 8, 9, 133, 134, 135, 136, 137, 138, 139, 140, 141, 142, 143, 144, 175, 48, 176, 177, 178, 179, 84, 89, 102, 117, 119, 120, 121, 122, 123, 124, 125, 126, 127]}}\n"
          ]
        },
        {
          "output_type": "stream",
          "name": "stderr",
          "text": [
            "/usr/local/lib/python3.10/dist-packages/sklearn/base.py:439: UserWarning: X does not have valid feature names, but IsolationForest was fitted with feature names\n",
            "  warnings.warn(\n"
          ]
        },
        {
          "output_type": "stream",
          "name": "stdout",
          "text": [
            "Evaluation for dataset 0_43: {'correctly_detected': 3, 'false_negatives': 7, 'false_positives': 39, 'total_injected': 10, 'total_detected': 42, 'details': {'correctly_detected_indices': [24, 82, 84], 'false_negative_indices': [80, 81, 83, 20, 21, 22, 23], 'false_positive_indices': [128, 129, 130, 131, 132, 5, 6, 7, 8, 9, 133, 134, 135, 136, 137, 138, 139, 140, 141, 142, 143, 144, 37, 47, 176, 178, 198, 203, 86, 116, 119, 120, 121, 122, 123, 124, 125, 126, 127]}}\n"
          ]
        },
        {
          "output_type": "stream",
          "name": "stderr",
          "text": [
            "/usr/local/lib/python3.10/dist-packages/sklearn/base.py:439: UserWarning: X does not have valid feature names, but IsolationForest was fitted with feature names\n",
            "  warnings.warn(\n"
          ]
        },
        {
          "output_type": "stream",
          "name": "stdout",
          "text": [
            "Evaluation for dataset 0_44: {'correctly_detected': 2, 'false_negatives': 8, 'false_positives': 40, 'total_injected': 10, 'total_detected': 42, 'details': {'correctly_detected_indices': [176, 177], 'false_negative_indices': [160, 161, 162, 163, 164, 175, 178, 179], 'false_positive_indices': [128, 129, 130, 131, 4, 5, 6, 7, 8, 9, 132, 133, 134, 135, 136, 137, 138, 139, 140, 141, 142, 143, 144, 159, 172, 46, 47, 203, 84, 88, 101, 119, 120, 121, 122, 123, 124, 125, 126, 127]}}\n"
          ]
        },
        {
          "output_type": "stream",
          "name": "stderr",
          "text": [
            "/usr/local/lib/python3.10/dist-packages/sklearn/base.py:439: UserWarning: X does not have valid feature names, but IsolationForest was fitted with feature names\n",
            "  warnings.warn(\n"
          ]
        },
        {
          "output_type": "stream",
          "name": "stdout",
          "text": [
            "Evaluation for dataset 0_45: {'correctly_detected': 1, 'false_negatives': 9, 'false_positives': 41, 'total_injected': 10, 'total_detected': 42, 'details': {'correctly_detected_indices': [183], 'false_negative_indices': [65, 66, 67, 68, 69, 180, 181, 182, 184], 'false_positive_indices': [128, 129, 2, 131, 130, 5, 6, 7, 8, 9, 132, 133, 134, 135, 136, 137, 138, 139, 140, 141, 142, 143, 144, 36, 38, 39, 175, 48, 177, 199, 101, 104, 119, 120, 121, 122, 123, 124, 125, 126, 127]}}\n"
          ]
        },
        {
          "output_type": "stream",
          "name": "stderr",
          "text": [
            "/usr/local/lib/python3.10/dist-packages/sklearn/base.py:439: UserWarning: X does not have valid feature names, but IsolationForest was fitted with feature names\n",
            "  warnings.warn(\n"
          ]
        },
        {
          "output_type": "stream",
          "name": "stdout",
          "text": [
            "Evaluation for dataset 0_46: {'correctly_detected': 4, 'false_negatives': 6, 'false_positives': 38, 'total_injected': 10, 'total_detected': 42, 'details': {'correctly_detected_indices': [35, 36, 37, 38], 'false_negative_indices': [39, 180, 181, 182, 183, 184], 'false_positive_indices': [128, 129, 130, 131, 132, 5, 6, 7, 8, 9, 133, 134, 135, 136, 137, 138, 139, 140, 141, 142, 143, 144, 153, 46, 47, 176, 177, 63, 88, 119, 120, 121, 122, 123, 124, 125, 126, 127]}}\n"
          ]
        },
        {
          "output_type": "stream",
          "name": "stderr",
          "text": [
            "/usr/local/lib/python3.10/dist-packages/sklearn/base.py:439: UserWarning: X does not have valid feature names, but IsolationForest was fitted with feature names\n",
            "  warnings.warn(\n"
          ]
        },
        {
          "output_type": "stream",
          "name": "stdout",
          "text": [
            "Evaluation for dataset 0_47: {'correctly_detected': 1, 'false_negatives': 9, 'false_positives': 41, 'total_injected': 10, 'total_detected': 42, 'details': {'correctly_detected_indices': [46], 'false_negative_indices': [45, 47, 48, 49, 180, 181, 182, 183, 184], 'false_positive_indices': [128, 1, 129, 130, 4, 5, 6, 7, 8, 9, 131, 132, 133, 135, 136, 137, 138, 139, 140, 141, 142, 143, 144, 26, 38, 176, 178, 197, 84, 103, 110, 113, 119, 120, 121, 122, 123, 124, 125, 126, 127]}}\n"
          ]
        },
        {
          "output_type": "stream",
          "name": "stderr",
          "text": [
            "/usr/local/lib/python3.10/dist-packages/sklearn/base.py:439: UserWarning: X does not have valid feature names, but IsolationForest was fitted with feature names\n",
            "  warnings.warn(\n"
          ]
        },
        {
          "output_type": "stream",
          "name": "stdout",
          "text": [
            "Evaluation for dataset 0_48: {'correctly_detected': 10, 'false_negatives': 0, 'false_positives': 32, 'total_injected': 10, 'total_detected': 42, 'details': {'correctly_detected_indices': [5, 6, 7, 8, 9, 135, 136, 137, 138, 139], 'false_negative_indices': [], 'false_positive_indices': [128, 1, 129, 131, 130, 132, 133, 134, 140, 141, 142, 143, 144, 155, 35, 37, 175, 176, 50, 178, 83, 85, 88, 119, 120, 121, 122, 123, 124, 125, 126, 127]}}\n"
          ]
        },
        {
          "output_type": "stream",
          "name": "stderr",
          "text": [
            "/usr/local/lib/python3.10/dist-packages/sklearn/base.py:439: UserWarning: X does not have valid feature names, but IsolationForest was fitted with feature names\n",
            "  warnings.warn(\n"
          ]
        },
        {
          "output_type": "stream",
          "name": "stdout",
          "text": [
            "Evaluation for dataset 0_49: {'correctly_detected': 0, 'false_negatives': 5, 'false_positives': 42, 'total_injected': 5, 'total_detected': 42, 'details': {'correctly_detected_indices': [], 'false_negative_indices': [20, 21, 22, 23, 24], 'false_positive_indices': [128, 129, 130, 131, 132, 5, 6, 7, 8, 9, 133, 134, 135, 136, 137, 138, 139, 140, 141, 142, 143, 144, 37, 38, 47, 176, 177, 199, 205, 83, 84, 101, 112, 119, 120, 121, 122, 123, 124, 125, 126, 127]}}\n"
          ]
        },
        {
          "output_type": "stream",
          "name": "stderr",
          "text": [
            "/usr/local/lib/python3.10/dist-packages/sklearn/base.py:439: UserWarning: X does not have valid feature names, but IsolationForest was fitted with feature names\n",
            "  warnings.warn(\n"
          ]
        },
        {
          "output_type": "stream",
          "name": "stdout",
          "text": [
            "Evaluation for dataset 1_0: {'correctly_detected': 1, 'false_negatives': 9, 'false_positives': 41, 'total_injected': 10, 'total_detected': 42, 'details': {'correctly_detected_indices': [49], 'false_negative_indices': [10, 11, 12, 13, 14, 45, 46, 47, 48], 'false_positive_indices': [128, 129, 130, 3, 4, 5, 6, 7, 8, 9, 131, 133, 135, 136, 138, 139, 140, 141, 143, 144, 152, 156, 175, 176, 177, 178, 179, 199, 85, 115, 116, 118, 119, 120, 121, 122, 123, 124, 125, 126, 127]}}\n"
          ]
        },
        {
          "output_type": "stream",
          "name": "stderr",
          "text": [
            "/usr/local/lib/python3.10/dist-packages/sklearn/base.py:439: UserWarning: X does not have valid feature names, but IsolationForest was fitted with feature names\n",
            "  warnings.warn(\n"
          ]
        },
        {
          "output_type": "stream",
          "name": "stdout",
          "text": [
            "Evaluation for dataset 1_1: {'correctly_detected': 4, 'false_negatives': 6, 'false_positives': 38, 'total_injected': 10, 'total_detected': 42, 'details': {'correctly_detected_indices': [176, 177, 179, 175], 'false_negative_indices': [165, 166, 167, 168, 169, 178], 'false_positive_indices': [128, 129, 130, 3, 4, 5, 6, 7, 8, 9, 131, 133, 134, 135, 136, 138, 139, 140, 141, 143, 144, 36, 39, 67, 198, 81, 85, 115, 116, 118, 120, 121, 122, 123, 124, 125, 126, 127]}}\n"
          ]
        },
        {
          "output_type": "stream",
          "name": "stderr",
          "text": [
            "/usr/local/lib/python3.10/dist-packages/sklearn/base.py:439: UserWarning: X does not have valid feature names, but IsolationForest was fitted with feature names\n",
            "  warnings.warn(\n"
          ]
        },
        {
          "output_type": "stream",
          "name": "stdout",
          "text": [
            "Evaluation for dataset 1_2: {'correctly_detected': 2, 'false_negatives': 8, 'false_positives': 40, 'total_injected': 10, 'total_detected': 42, 'details': {'correctly_detected_indices': [64, 48], 'false_negative_indices': [45, 46, 47, 49, 60, 61, 62, 63], 'false_positive_indices': [128, 129, 130, 131, 5, 6, 7, 8, 9, 133, 134, 135, 136, 137, 138, 139, 140, 141, 143, 144, 23, 153, 35, 38, 41, 175, 176, 177, 179, 115, 116, 118, 120, 121, 122, 123, 124, 125, 126, 127]}}\n"
          ]
        },
        {
          "output_type": "stream",
          "name": "stderr",
          "text": [
            "/usr/local/lib/python3.10/dist-packages/sklearn/base.py:439: UserWarning: X does not have valid feature names, but IsolationForest was fitted with feature names\n",
            "  warnings.warn(\n"
          ]
        },
        {
          "output_type": "stream",
          "name": "stdout",
          "text": [
            "Evaluation for dataset 1_3: {'correctly_detected': 6, 'false_negatives': 4, 'false_positives': 36, 'total_injected': 10, 'total_detected': 42, 'details': {'correctly_detected_indices': [5, 6, 7, 8, 9, 47], 'false_negative_indices': [48, 49, 45, 46], 'false_positive_indices': [128, 129, 130, 131, 133, 134, 135, 136, 139, 140, 141, 143, 144, 35, 39, 175, 177, 178, 51, 180, 54, 77, 83, 87, 115, 116, 118, 119, 120, 121, 122, 123, 124, 125, 126, 127]}}\n"
          ]
        },
        {
          "output_type": "stream",
          "name": "stderr",
          "text": [
            "/usr/local/lib/python3.10/dist-packages/sklearn/base.py:439: UserWarning: X does not have valid feature names, but IsolationForest was fitted with feature names\n",
            "  warnings.warn(\n"
          ]
        },
        {
          "output_type": "stream",
          "name": "stdout",
          "text": [
            "Evaluation for dataset 1_4: {'correctly_detected': 9, 'false_negatives': 1, 'false_positives': 33, 'total_injected': 10, 'total_detected': 42, 'details': {'correctly_detected_indices': [5, 6, 7, 8, 9, 135, 136, 138, 139], 'false_negative_indices': [137], 'false_positive_indices': [128, 129, 130, 131, 133, 134, 140, 141, 143, 144, 155, 27, 35, 36, 37, 39, 176, 62, 63, 83, 104, 114, 115, 116, 118, 120, 121, 122, 123, 124, 125, 126, 127]}}\n"
          ]
        },
        {
          "output_type": "stream",
          "name": "stderr",
          "text": [
            "/usr/local/lib/python3.10/dist-packages/sklearn/base.py:439: UserWarning: X does not have valid feature names, but IsolationForest was fitted with feature names\n",
            "  warnings.warn(\n"
          ]
        },
        {
          "output_type": "stream",
          "name": "stdout",
          "text": [
            "Evaluation for dataset 1_5: {'correctly_detected': 9, 'false_negatives': 1, 'false_positives': 33, 'total_injected': 10, 'total_detected': 42, 'details': {'correctly_detected_indices': [135, 136, 137, 138, 139, 140, 141, 143, 144], 'false_negative_indices': [142], 'false_positive_indices': [128, 1, 129, 131, 130, 5, 6, 7, 8, 9, 133, 35, 36, 175, 48, 177, 178, 179, 61, 64, 205, 83, 115, 116, 118, 120, 121, 122, 123, 124, 125, 126, 127]}}\n"
          ]
        },
        {
          "output_type": "stream",
          "name": "stderr",
          "text": [
            "/usr/local/lib/python3.10/dist-packages/sklearn/base.py:439: UserWarning: X does not have valid feature names, but IsolationForest was fitted with feature names\n",
            "  warnings.warn(\n"
          ]
        },
        {
          "output_type": "stream",
          "name": "stdout",
          "text": [
            "Evaluation for dataset 1_6: {'correctly_detected': 0, 'false_negatives': 10, 'false_positives': 42, 'total_injected': 10, 'total_detected': 42, 'details': {'correctly_detected_indices': [], 'false_negative_indices': [145, 146, 147, 148, 149, 150, 151, 152, 153, 154], 'false_positive_indices': [128, 129, 130, 131, 5, 6, 7, 8, 9, 133, 134, 135, 136, 138, 139, 140, 141, 143, 144, 36, 38, 45, 47, 175, 176, 177, 178, 55, 87, 102, 111, 115, 116, 118, 120, 121, 122, 123, 124, 125, 126, 127]}}\n"
          ]
        },
        {
          "output_type": "stream",
          "name": "stderr",
          "text": [
            "/usr/local/lib/python3.10/dist-packages/sklearn/base.py:439: UserWarning: X does not have valid feature names, but IsolationForest was fitted with feature names\n",
            "  warnings.warn(\n"
          ]
        },
        {
          "output_type": "stream",
          "name": "stdout",
          "text": [
            "Evaluation for dataset 1_7: {'correctly_detected': 2, 'false_negatives': 8, 'false_positives': 40, 'total_injected': 10, 'total_detected': 42, 'details': {'correctly_detected_indices': [35, 39], 'false_negative_indices': [36, 37, 38, 40, 41, 42, 43, 44], 'false_positive_indices': [128, 129, 131, 4, 5, 6, 7, 8, 9, 133, 134, 135, 136, 138, 139, 140, 141, 143, 144, 46, 175, 176, 178, 179, 54, 205, 84, 87, 102, 115, 116, 118, 120, 121, 122, 123, 124, 125, 126, 127]}}\n"
          ]
        },
        {
          "output_type": "stream",
          "name": "stderr",
          "text": [
            "/usr/local/lib/python3.10/dist-packages/sklearn/base.py:439: UserWarning: X does not have valid feature names, but IsolationForest was fitted with feature names\n",
            "  warnings.warn(\n"
          ]
        },
        {
          "output_type": "stream",
          "name": "stdout",
          "text": [
            "Evaluation for dataset 1_8: {'correctly_detected': 0, 'false_negatives': 10, 'false_positives': 42, 'total_injected': 10, 'total_detected': 42, 'details': {'correctly_detected_indices': [], 'false_negative_indices': [70, 71, 72, 73, 74, 45, 46, 47, 48, 49], 'false_positive_indices': [128, 129, 130, 131, 4, 5, 6, 7, 8, 9, 133, 134, 135, 136, 138, 139, 140, 141, 143, 144, 151, 157, 38, 175, 178, 179, 54, 76, 80, 88, 100, 115, 116, 118, 120, 121, 122, 123, 124, 125, 126, 127]}}\n"
          ]
        },
        {
          "output_type": "stream",
          "name": "stderr",
          "text": [
            "/usr/local/lib/python3.10/dist-packages/sklearn/base.py:439: UserWarning: X does not have valid feature names, but IsolationForest was fitted with feature names\n",
            "  warnings.warn(\n"
          ]
        },
        {
          "output_type": "stream",
          "name": "stdout",
          "text": [
            "Evaluation for dataset 1_9: {'correctly_detected': 9, 'false_negatives': 1, 'false_positives': 33, 'total_injected': 10, 'total_detected': 42, 'details': {'correctly_detected_indices': [135, 136, 138, 139, 140, 141, 142, 143, 144], 'false_negative_indices': [137], 'false_positive_indices': [128, 129, 130, 131, 5, 6, 7, 8, 9, 133, 134, 157, 35, 38, 170, 45, 175, 176, 179, 205, 82, 111, 115, 116, 118, 120, 121, 122, 123, 124, 125, 126, 127]}}\n"
          ]
        },
        {
          "output_type": "stream",
          "name": "stderr",
          "text": [
            "/usr/local/lib/python3.10/dist-packages/sklearn/base.py:439: UserWarning: X does not have valid feature names, but IsolationForest was fitted with feature names\n",
            "  warnings.warn(\n"
          ]
        },
        {
          "output_type": "stream",
          "name": "stdout",
          "text": [
            "Evaluation for dataset 1_10: {'correctly_detected': 0, 'false_negatives': 5, 'false_positives': 42, 'total_injected': 5, 'total_detected': 42, 'details': {'correctly_detected_indices': [], 'false_negative_indices': [20, 21, 22, 23, 24], 'false_positive_indices': [0, 1, 128, 129, 130, 5, 6, 7, 8, 9, 131, 133, 134, 135, 136, 138, 139, 140, 141, 143, 144, 155, 35, 36, 37, 45, 175, 179, 205, 98, 110, 115, 116, 118, 120, 121, 122, 123, 124, 125, 126, 127]}}\n"
          ]
        },
        {
          "output_type": "stream",
          "name": "stderr",
          "text": [
            "/usr/local/lib/python3.10/dist-packages/sklearn/base.py:439: UserWarning: X does not have valid feature names, but IsolationForest was fitted with feature names\n",
            "  warnings.warn(\n"
          ]
        },
        {
          "output_type": "stream",
          "name": "stdout",
          "text": [
            "Evaluation for dataset 1_11: {'correctly_detected': 1, 'false_negatives': 4, 'false_positives': 41, 'total_injected': 5, 'total_detected': 42, 'details': {'correctly_detected_indices': [47], 'false_negative_indices': [48, 49, 45, 46], 'false_positive_indices': [128, 129, 130, 131, 5, 6, 7, 8, 9, 133, 134, 135, 136, 138, 139, 140, 141, 143, 144, 154, 157, 33, 37, 39, 168, 175, 53, 83, 100, 110, 115, 116, 118, 120, 121, 122, 123, 124, 125, 126, 127]}}\n"
          ]
        },
        {
          "output_type": "stream",
          "name": "stderr",
          "text": [
            "/usr/local/lib/python3.10/dist-packages/sklearn/base.py:439: UserWarning: X does not have valid feature names, but IsolationForest was fitted with feature names\n",
            "  warnings.warn(\n"
          ]
        },
        {
          "output_type": "stream",
          "name": "stdout",
          "text": [
            "Evaluation for dataset 1_12: {'correctly_detected': 2, 'false_negatives': 8, 'false_positives': 40, 'total_injected': 10, 'total_detected': 42, 'details': {'correctly_detected_indices': [100, 103], 'false_negative_indices': [101, 102, 104, 170, 171, 172, 173, 174], 'false_positive_indices': [128, 129, 130, 131, 5, 6, 7, 8, 9, 133, 134, 135, 136, 138, 139, 140, 141, 143, 144, 21, 37, 38, 175, 177, 179, 198, 73, 205, 86, 115, 116, 118, 120, 121, 122, 123, 124, 125, 126, 127]}}\n"
          ]
        },
        {
          "output_type": "stream",
          "name": "stderr",
          "text": [
            "/usr/local/lib/python3.10/dist-packages/sklearn/base.py:439: UserWarning: X does not have valid feature names, but IsolationForest was fitted with feature names\n",
            "  warnings.warn(\n"
          ]
        },
        {
          "output_type": "stream",
          "name": "stdout",
          "text": [
            "Evaluation for dataset 1_13: {'correctly_detected': 0, 'false_negatives': 10, 'false_positives': 42, 'total_injected': 10, 'total_detected': 42, 'details': {'correctly_detected_indices': [], 'false_negative_indices': [10, 11, 12, 13, 14, 180, 181, 182, 183, 184], 'false_positive_indices': [128, 129, 130, 131, 5, 6, 7, 8, 9, 133, 134, 135, 136, 138, 139, 140, 141, 143, 144, 151, 25, 155, 36, 168, 173, 47, 176, 178, 51, 61, 111, 115, 116, 118, 120, 121, 122, 123, 124, 125, 126, 127]}}\n"
          ]
        },
        {
          "output_type": "stream",
          "name": "stderr",
          "text": [
            "/usr/local/lib/python3.10/dist-packages/sklearn/base.py:439: UserWarning: X does not have valid feature names, but IsolationForest was fitted with feature names\n",
            "  warnings.warn(\n"
          ]
        },
        {
          "output_type": "stream",
          "name": "stdout",
          "text": [
            "Evaluation for dataset 1_14: {'correctly_detected': 0, 'false_negatives': 10, 'false_positives': 42, 'total_injected': 10, 'total_detected': 42, 'details': {'correctly_detected_indices': [], 'false_negative_indices': [165, 166, 167, 168, 169, 170, 171, 172, 173, 174], 'false_positive_indices': [0, 129, 130, 128, 4, 5, 6, 7, 8, 9, 131, 133, 134, 135, 136, 138, 139, 140, 141, 143, 144, 150, 37, 45, 46, 178, 179, 52, 198, 102, 110, 115, 116, 118, 120, 121, 122, 123, 124, 125, 126, 127]}}\n"
          ]
        },
        {
          "output_type": "stream",
          "name": "stderr",
          "text": [
            "/usr/local/lib/python3.10/dist-packages/sklearn/base.py:439: UserWarning: X does not have valid feature names, but IsolationForest was fitted with feature names\n",
            "  warnings.warn(\n"
          ]
        },
        {
          "output_type": "stream",
          "name": "stdout",
          "text": [
            "Evaluation for dataset 1_15: {'correctly_detected': 0, 'false_negatives': 10, 'false_positives': 42, 'total_injected': 10, 'total_detected': 42, 'details': {'correctly_detected_indices': [], 'false_negative_indices': [15, 16, 17, 18, 19, 155, 156, 157, 158, 159], 'false_positive_indices': [128, 129, 130, 131, 5, 6, 7, 8, 9, 133, 134, 135, 136, 138, 139, 140, 141, 143, 144, 26, 35, 36, 38, 175, 176, 49, 177, 178, 64, 104, 112, 115, 116, 118, 120, 121, 122, 123, 124, 125, 126, 127]}}\n"
          ]
        },
        {
          "output_type": "stream",
          "name": "stderr",
          "text": [
            "/usr/local/lib/python3.10/dist-packages/sklearn/base.py:439: UserWarning: X does not have valid feature names, but IsolationForest was fitted with feature names\n",
            "  warnings.warn(\n"
          ]
        },
        {
          "output_type": "stream",
          "name": "stdout",
          "text": [
            "Evaluation for dataset 1_16: {'correctly_detected': 0, 'false_negatives': 10, 'false_positives': 42, 'total_injected': 10, 'total_detected': 42, 'details': {'correctly_detected_indices': [], 'false_negative_indices': [10, 11, 12, 13, 14, 180, 181, 182, 183, 184], 'false_positive_indices': [128, 129, 130, 131, 5, 6, 7, 8, 9, 133, 134, 135, 136, 138, 139, 140, 141, 143, 144, 33, 35, 38, 175, 176, 50, 178, 52, 179, 199, 100, 113, 115, 116, 118, 120, 121, 122, 123, 124, 125, 126, 127]}}\n"
          ]
        },
        {
          "output_type": "stream",
          "name": "stderr",
          "text": [
            "/usr/local/lib/python3.10/dist-packages/sklearn/base.py:439: UserWarning: X does not have valid feature names, but IsolationForest was fitted with feature names\n",
            "  warnings.warn(\n"
          ]
        },
        {
          "output_type": "stream",
          "name": "stdout",
          "text": [
            "Evaluation for dataset 1_17: {'correctly_detected': 1, 'false_negatives': 9, 'false_positives': 41, 'total_injected': 10, 'total_detected': 42, 'details': {'correctly_detected_indices': [104], 'false_negative_indices': [100, 101, 102, 103, 170, 171, 172, 173, 174], 'false_positive_indices': [0, 129, 130, 131, 128, 5, 6, 7, 8, 9, 133, 134, 135, 136, 138, 139, 140, 141, 143, 144, 152, 36, 47, 178, 179, 196, 205, 207, 86, 112, 115, 116, 118, 120, 121, 122, 123, 124, 125, 126, 127]}}\n"
          ]
        },
        {
          "output_type": "stream",
          "name": "stderr",
          "text": [
            "/usr/local/lib/python3.10/dist-packages/sklearn/base.py:439: UserWarning: X does not have valid feature names, but IsolationForest was fitted with feature names\n",
            "  warnings.warn(\n"
          ]
        },
        {
          "output_type": "stream",
          "name": "stdout",
          "text": [
            "Evaluation for dataset 1_18: {'correctly_detected': 1, 'false_negatives': 9, 'false_positives': 41, 'total_injected': 10, 'total_detected': 42, 'details': {'correctly_detected_indices': [48], 'false_negative_indices': [200, 201, 202, 203, 204, 45, 46, 47, 49], 'false_positive_indices': [128, 129, 130, 131, 5, 6, 7, 8, 9, 133, 134, 135, 136, 137, 138, 139, 140, 141, 143, 144, 155, 35, 37, 176, 177, 179, 181, 83, 113, 115, 116, 118, 119, 120, 121, 122, 123, 124, 125, 126, 127]}}\n"
          ]
        },
        {
          "output_type": "stream",
          "name": "stderr",
          "text": [
            "/usr/local/lib/python3.10/dist-packages/sklearn/base.py:439: UserWarning: X does not have valid feature names, but IsolationForest was fitted with feature names\n",
            "  warnings.warn(\n"
          ]
        },
        {
          "output_type": "stream",
          "name": "stdout",
          "text": [
            "Evaluation for dataset 1_19: {'correctly_detected': 0, 'false_negatives': 10, 'false_positives': 42, 'total_injected': 10, 'total_detected': 42, 'details': {'correctly_detected_indices': [], 'false_negative_indices': [10, 11, 12, 13, 14, 180, 181, 182, 183, 184], 'false_positive_indices': [128, 129, 130, 131, 4, 5, 6, 7, 8, 9, 133, 134, 135, 136, 138, 139, 140, 141, 143, 144, 159, 35, 37, 39, 175, 49, 178, 179, 198, 88, 101, 115, 116, 118, 120, 121, 122, 123, 124, 125, 126, 127]}}\n"
          ]
        },
        {
          "output_type": "stream",
          "name": "stderr",
          "text": [
            "/usr/local/lib/python3.10/dist-packages/sklearn/base.py:439: UserWarning: X does not have valid feature names, but IsolationForest was fitted with feature names\n",
            "  warnings.warn(\n"
          ]
        },
        {
          "output_type": "stream",
          "name": "stdout",
          "text": [
            "Evaluation for dataset 1_20: {'correctly_detected': 1, 'false_negatives': 9, 'false_positives': 41, 'total_injected': 10, 'total_detected': 42, 'details': {'correctly_detected_indices': [173], 'false_negative_indices': [96, 97, 98, 99, 170, 171, 172, 174, 95], 'false_positive_indices': [0, 129, 130, 131, 128, 5, 6, 7, 8, 9, 133, 134, 135, 136, 138, 139, 140, 141, 143, 144, 21, 35, 36, 38, 175, 49, 177, 179, 53, 87, 115, 116, 118, 120, 121, 122, 123, 124, 125, 126, 127]}}\n"
          ]
        },
        {
          "output_type": "stream",
          "name": "stderr",
          "text": [
            "/usr/local/lib/python3.10/dist-packages/sklearn/base.py:439: UserWarning: X does not have valid feature names, but IsolationForest was fitted with feature names\n",
            "  warnings.warn(\n"
          ]
        },
        {
          "output_type": "stream",
          "name": "stdout",
          "text": [
            "Evaluation for dataset 1_21: {'correctly_detected': 1, 'false_negatives': 9, 'false_positives': 41, 'total_injected': 10, 'total_detected': 42, 'details': {'correctly_detected_indices': [95], 'false_negative_indices': [96, 97, 98, 99, 170, 171, 172, 173, 174], 'false_positive_indices': [128, 129, 130, 131, 5, 6, 7, 8, 9, 133, 134, 135, 136, 137, 138, 139, 140, 141, 143, 144, 48, 50, 51, 178, 179, 54, 62, 68, 207, 89, 115, 116, 118, 120, 121, 122, 123, 124, 125, 126, 127]}}\n"
          ]
        },
        {
          "output_type": "stream",
          "name": "stderr",
          "text": [
            "/usr/local/lib/python3.10/dist-packages/sklearn/base.py:439: UserWarning: X does not have valid feature names, but IsolationForest was fitted with feature names\n",
            "  warnings.warn(\n"
          ]
        },
        {
          "output_type": "stream",
          "name": "stdout",
          "text": [
            "Evaluation for dataset 1_22: {'correctly_detected': 0, 'false_negatives': 5, 'false_positives': 42, 'total_injected': 5, 'total_detected': 42, 'details': {'correctly_detected_indices': [], 'false_negative_indices': [20, 21, 22, 23, 24], 'false_positive_indices': [128, 1, 129, 131, 5, 6, 7, 8, 9, 133, 134, 135, 136, 138, 139, 140, 141, 143, 144, 35, 36, 37, 39, 175, 48, 49, 176, 179, 52, 62, 87, 115, 116, 118, 120, 121, 122, 123, 124, 125, 126, 127]}}\n"
          ]
        },
        {
          "output_type": "stream",
          "name": "stderr",
          "text": [
            "/usr/local/lib/python3.10/dist-packages/sklearn/base.py:439: UserWarning: X does not have valid feature names, but IsolationForest was fitted with feature names\n",
            "  warnings.warn(\n"
          ]
        },
        {
          "output_type": "stream",
          "name": "stdout",
          "text": [
            "Evaluation for dataset 1_23: {'correctly_detected': 0, 'false_negatives': 10, 'false_positives': 42, 'total_injected': 10, 'total_detected': 42, 'details': {'correctly_detected_indices': [], 'false_negative_indices': [96, 97, 98, 99, 170, 171, 172, 173, 174, 95], 'false_positive_indices': [0, 1, 129, 128, 4, 5, 6, 7, 8, 9, 130, 131, 133, 134, 135, 136, 138, 139, 140, 141, 143, 144, 150, 38, 177, 178, 60, 75, 205, 82, 86, 115, 116, 118, 120, 121, 122, 123, 124, 125, 126, 127]}}\n"
          ]
        },
        {
          "output_type": "stream",
          "name": "stderr",
          "text": [
            "/usr/local/lib/python3.10/dist-packages/sklearn/base.py:439: UserWarning: X does not have valid feature names, but IsolationForest was fitted with feature names\n",
            "  warnings.warn(\n"
          ]
        },
        {
          "output_type": "stream",
          "name": "stdout",
          "text": [
            "Evaluation for dataset 1_24: {'correctly_detected': 2, 'false_negatives': 8, 'false_positives': 40, 'total_injected': 10, 'total_detected': 42, 'details': {'correctly_detected_indices': [35, 37], 'false_negative_indices': [0, 1, 2, 3, 4, 36, 38, 39], 'false_positive_indices': [128, 129, 130, 131, 5, 6, 7, 8, 9, 133, 134, 135, 136, 138, 139, 140, 141, 143, 144, 175, 49, 178, 179, 53, 54, 59, 103, 115, 116, 117, 118, 119, 120, 121, 122, 123, 124, 125, 126, 127]}}\n"
          ]
        },
        {
          "output_type": "stream",
          "name": "stderr",
          "text": [
            "/usr/local/lib/python3.10/dist-packages/sklearn/base.py:439: UserWarning: X does not have valid feature names, but IsolationForest was fitted with feature names\n",
            "  warnings.warn(\n"
          ]
        },
        {
          "output_type": "stream",
          "name": "stdout",
          "text": [
            "Evaluation for dataset 1_25: {'correctly_detected': 10, 'false_negatives': 0, 'false_positives': 32, 'total_injected': 10, 'total_detected': 42, 'details': {'correctly_detected_indices': [5, 6, 7, 8, 9, 120, 121, 122, 123, 124], 'false_negative_indices': [], 'false_positive_indices': [128, 129, 130, 131, 133, 134, 135, 136, 137, 138, 139, 140, 141, 143, 144, 156, 37, 38, 46, 175, 48, 176, 178, 60, 203, 81, 115, 116, 118, 125, 126, 127]}}\n"
          ]
        },
        {
          "output_type": "stream",
          "name": "stderr",
          "text": [
            "/usr/local/lib/python3.10/dist-packages/sklearn/base.py:439: UserWarning: X does not have valid feature names, but IsolationForest was fitted with feature names\n",
            "  warnings.warn(\n"
          ]
        },
        {
          "output_type": "stream",
          "name": "stdout",
          "text": [
            "Evaluation for dataset 1_26: {'correctly_detected': 3, 'false_negatives': 7, 'false_positives': 39, 'total_injected': 10, 'total_detected': 42, 'details': {'correctly_detected_indices': [36, 37, 38], 'false_negative_indices': [35, 39, 40, 41, 42, 43, 44], 'false_positive_indices': [128, 1, 129, 131, 130, 5, 6, 7, 8, 9, 134, 135, 136, 138, 139, 140, 141, 143, 144, 46, 175, 177, 50, 178, 64, 87, 89, 103, 115, 116, 118, 120, 121, 122, 123, 124, 125, 126, 127]}}\n"
          ]
        },
        {
          "output_type": "stream",
          "name": "stderr",
          "text": [
            "/usr/local/lib/python3.10/dist-packages/sklearn/base.py:439: UserWarning: X does not have valid feature names, but IsolationForest was fitted with feature names\n",
            "  warnings.warn(\n"
          ]
        },
        {
          "output_type": "stream",
          "name": "stdout",
          "text": [
            "Evaluation for dataset 1_27: {'correctly_detected': 0, 'false_negatives': 10, 'false_positives': 42, 'total_injected': 10, 'total_detected': 42, 'details': {'correctly_detected_indices': [], 'false_negative_indices': [145, 146, 147, 148, 149, 155, 156, 157, 158, 159], 'false_positive_indices': [128, 129, 130, 131, 5, 6, 7, 8, 9, 133, 134, 135, 136, 138, 139, 140, 141, 143, 144, 36, 37, 38, 39, 171, 175, 176, 177, 60, 84, 104, 115, 116, 118, 119, 120, 121, 122, 123, 124, 125, 126, 127]}}\n"
          ]
        },
        {
          "output_type": "stream",
          "name": "stderr",
          "text": [
            "/usr/local/lib/python3.10/dist-packages/sklearn/base.py:439: UserWarning: X does not have valid feature names, but IsolationForest was fitted with feature names\n",
            "  warnings.warn(\n"
          ]
        },
        {
          "output_type": "stream",
          "name": "stdout",
          "text": [
            "Evaluation for dataset 1_28: {'correctly_detected': 1, 'false_negatives': 4, 'false_positives': 41, 'total_injected': 5, 'total_detected': 42, 'details': {'correctly_detected_indices': [39], 'false_negative_indices': [35, 36, 37, 38], 'false_positive_indices': [128, 129, 130, 131, 5, 6, 7, 8, 9, 133, 134, 135, 136, 138, 139, 140, 141, 143, 144, 159, 46, 175, 48, 177, 61, 63, 64, 197, 113, 115, 116, 118, 119, 120, 121, 122, 123, 124, 125, 126, 127]}}\n"
          ]
        },
        {
          "output_type": "stream",
          "name": "stderr",
          "text": [
            "/usr/local/lib/python3.10/dist-packages/sklearn/base.py:439: UserWarning: X does not have valid feature names, but IsolationForest was fitted with feature names\n",
            "  warnings.warn(\n"
          ]
        },
        {
          "output_type": "stream",
          "name": "stdout",
          "text": [
            "Evaluation for dataset 1_29: {'correctly_detected': 2, 'false_negatives': 8, 'false_positives': 40, 'total_injected': 10, 'total_detected': 42, 'details': {'correctly_detected_indices': [171, 174], 'false_negative_indices': [160, 161, 162, 163, 164, 170, 172, 173], 'false_positive_indices': [128, 129, 130, 131, 5, 6, 7, 8, 9, 133, 134, 135, 136, 138, 139, 140, 141, 143, 144, 36, 39, 175, 49, 177, 178, 198, 85, 87, 88, 115, 116, 118, 120, 121, 122, 123, 124, 125, 126, 127]}}\n"
          ]
        },
        {
          "output_type": "stream",
          "name": "stderr",
          "text": [
            "/usr/local/lib/python3.10/dist-packages/sklearn/base.py:439: UserWarning: X does not have valid feature names, but IsolationForest was fitted with feature names\n",
            "  warnings.warn(\n"
          ]
        },
        {
          "output_type": "stream",
          "name": "stdout",
          "text": [
            "Evaluation for dataset 1_30: {'correctly_detected': 6, 'false_negatives': 4, 'false_positives': 36, 'total_injected': 10, 'total_detected': 42, 'details': {'correctly_detected_indices': [35, 36, 38, 39, 175, 177], 'false_negative_indices': [176, 178, 179, 37], 'false_positive_indices': [128, 129, 130, 131, 5, 6, 7, 8, 9, 133, 134, 135, 136, 138, 139, 140, 141, 143, 144, 49, 60, 205, 87, 100, 111, 115, 116, 118, 120, 121, 122, 123, 124, 125, 126, 127]}}\n"
          ]
        },
        {
          "output_type": "stream",
          "name": "stderr",
          "text": [
            "/usr/local/lib/python3.10/dist-packages/sklearn/base.py:439: UserWarning: X does not have valid feature names, but IsolationForest was fitted with feature names\n",
            "  warnings.warn(\n"
          ]
        },
        {
          "output_type": "stream",
          "name": "stdout",
          "text": [
            "Evaluation for dataset 1_31: {'correctly_detected': 2, 'false_negatives': 8, 'false_positives': 40, 'total_injected': 10, 'total_detected': 42, 'details': {'correctly_detected_indices': [36, 38], 'false_negative_indices': [35, 37, 39, 40, 41, 42, 43, 44], 'false_positive_indices': [128, 129, 130, 3, 4, 5, 6, 7, 8, 9, 131, 133, 134, 135, 136, 138, 139, 140, 141, 143, 144, 176, 179, 196, 84, 86, 87, 88, 94, 115, 116, 118, 120, 121, 122, 123, 124, 125, 126, 127]}}\n"
          ]
        },
        {
          "output_type": "stream",
          "name": "stderr",
          "text": [
            "/usr/local/lib/python3.10/dist-packages/sklearn/base.py:439: UserWarning: X does not have valid feature names, but IsolationForest was fitted with feature names\n",
            "  warnings.warn(\n"
          ]
        },
        {
          "output_type": "stream",
          "name": "stdout",
          "text": [
            "Evaluation for dataset 1_32: {'correctly_detected': 0, 'false_negatives': 10, 'false_positives': 42, 'total_injected': 10, 'total_detected': 42, 'details': {'correctly_detected_indices': [], 'false_negative_indices': [145, 146, 147, 148, 149, 155, 156, 157, 158, 159], 'false_positive_indices': [128, 129, 130, 131, 5, 6, 7, 8, 9, 133, 134, 135, 136, 138, 139, 140, 141, 143, 144, 35, 36, 38, 39, 177, 179, 63, 77, 84, 89, 104, 113, 115, 116, 118, 120, 121, 122, 123, 124, 125, 126, 127]}}\n"
          ]
        },
        {
          "output_type": "stream",
          "name": "stderr",
          "text": [
            "/usr/local/lib/python3.10/dist-packages/sklearn/base.py:439: UserWarning: X does not have valid feature names, but IsolationForest was fitted with feature names\n",
            "  warnings.warn(\n"
          ]
        },
        {
          "output_type": "stream",
          "name": "stdout",
          "text": [
            "Evaluation for dataset 1_33: {'correctly_detected': 1, 'false_negatives': 9, 'false_positives': 41, 'total_injected': 10, 'total_detected': 42, 'details': {'correctly_detected_indices': [146], 'false_negative_indices': [145, 147, 148, 149, 155, 156, 157, 158, 159], 'false_positive_indices': [128, 1, 129, 131, 130, 5, 6, 7, 8, 9, 133, 134, 135, 136, 138, 139, 140, 141, 143, 144, 24, 37, 38, 39, 172, 47, 177, 179, 197, 86, 115, 116, 118, 120, 121, 122, 123, 124, 125, 126, 127]}}\n"
          ]
        },
        {
          "output_type": "stream",
          "name": "stderr",
          "text": [
            "/usr/local/lib/python3.10/dist-packages/sklearn/base.py:439: UserWarning: X does not have valid feature names, but IsolationForest was fitted with feature names\n",
            "  warnings.warn(\n"
          ]
        },
        {
          "output_type": "stream",
          "name": "stdout",
          "text": [
            "Evaluation for dataset 1_34: {'correctly_detected': 0, 'false_negatives': 5, 'false_positives': 42, 'total_injected': 5, 'total_detected': 42, 'details': {'correctly_detected_indices': [], 'false_negative_indices': [180, 181, 182, 183, 184], 'false_positive_indices': [128, 129, 130, 131, 5, 6, 7, 8, 9, 133, 135, 136, 138, 139, 140, 141, 143, 144, 31, 37, 39, 45, 175, 178, 51, 197, 80, 82, 83, 87, 89, 115, 116, 118, 120, 121, 122, 123, 124, 125, 126, 127]}}\n"
          ]
        },
        {
          "output_type": "stream",
          "name": "stderr",
          "text": [
            "/usr/local/lib/python3.10/dist-packages/sklearn/base.py:439: UserWarning: X does not have valid feature names, but IsolationForest was fitted with feature names\n",
            "  warnings.warn(\n"
          ]
        },
        {
          "output_type": "stream",
          "name": "stdout",
          "text": [
            "Evaluation for dataset 1_35: {'correctly_detected': 0, 'false_negatives': 10, 'false_positives': 42, 'total_injected': 10, 'total_detected': 42, 'details': {'correctly_detected_indices': [], 'false_negative_indices': [180, 181, 182, 183, 184, 185, 186, 187, 188, 189], 'false_positive_indices': [128, 129, 130, 131, 5, 6, 7, 8, 9, 133, 134, 135, 136, 138, 139, 140, 141, 143, 144, 156, 39, 48, 49, 177, 179, 53, 205, 78, 209, 84, 113, 115, 116, 118, 120, 121, 122, 123, 124, 125, 126, 127]}}\n"
          ]
        },
        {
          "output_type": "stream",
          "name": "stderr",
          "text": [
            "/usr/local/lib/python3.10/dist-packages/sklearn/base.py:439: UserWarning: X does not have valid feature names, but IsolationForest was fitted with feature names\n",
            "  warnings.warn(\n"
          ]
        },
        {
          "output_type": "stream",
          "name": "stdout",
          "text": [
            "Evaluation for dataset 1_36: {'correctly_detected': 0, 'false_negatives': 10, 'false_positives': 42, 'total_injected': 10, 'total_detected': 42, 'details': {'correctly_detected_indices': [], 'false_negative_indices': [59, 55, 56, 57, 58, 155, 156, 157, 158, 159], 'false_positive_indices': [128, 129, 130, 131, 5, 6, 7, 8, 9, 133, 134, 135, 136, 138, 139, 140, 141, 143, 144, 35, 39, 175, 176, 49, 179, 62, 197, 76, 83, 85, 88, 115, 116, 118, 120, 121, 122, 123, 124, 125, 126, 127]}}\n"
          ]
        },
        {
          "output_type": "stream",
          "name": "stderr",
          "text": [
            "/usr/local/lib/python3.10/dist-packages/sklearn/base.py:439: UserWarning: X does not have valid feature names, but IsolationForest was fitted with feature names\n",
            "  warnings.warn(\n"
          ]
        },
        {
          "output_type": "stream",
          "name": "stdout",
          "text": [
            "Evaluation for dataset 1_37: {'correctly_detected': 0, 'false_negatives': 10, 'false_positives': 42, 'total_injected': 10, 'total_detected': 42, 'details': {'correctly_detected_indices': [], 'false_negative_indices': [180, 181, 182, 183, 184, 25, 26, 27, 28, 29], 'false_positive_indices': [128, 129, 130, 131, 5, 6, 7, 8, 9, 133, 134, 135, 136, 138, 139, 140, 141, 143, 144, 35, 38, 175, 177, 178, 179, 53, 196, 85, 110, 114, 115, 116, 118, 119, 120, 121, 122, 123, 124, 125, 126, 127]}}\n"
          ]
        },
        {
          "output_type": "stream",
          "name": "stderr",
          "text": [
            "/usr/local/lib/python3.10/dist-packages/sklearn/base.py:439: UserWarning: X does not have valid feature names, but IsolationForest was fitted with feature names\n",
            "  warnings.warn(\n"
          ]
        },
        {
          "output_type": "stream",
          "name": "stdout",
          "text": [
            "Evaluation for dataset 1_38: {'correctly_detected': 2, 'false_negatives': 8, 'false_positives': 40, 'total_injected': 10, 'total_detected': 42, 'details': {'correctly_detected_indices': [112, 114], 'false_negative_indices': [170, 171, 172, 173, 110, 111, 174, 113], 'false_positive_indices': [128, 129, 130, 131, 5, 6, 7, 8, 9, 133, 134, 135, 136, 138, 139, 140, 141, 143, 144, 35, 39, 45, 47, 175, 176, 179, 82, 85, 115, 116, 118, 119, 120, 121, 122, 123, 124, 125, 126, 127]}}\n"
          ]
        },
        {
          "output_type": "stream",
          "name": "stderr",
          "text": [
            "/usr/local/lib/python3.10/dist-packages/sklearn/base.py:439: UserWarning: X does not have valid feature names, but IsolationForest was fitted with feature names\n",
            "  warnings.warn(\n"
          ]
        },
        {
          "output_type": "stream",
          "name": "stdout",
          "text": [
            "Evaluation for dataset 1_39: {'correctly_detected': 0, 'false_negatives': 10, 'false_positives': 42, 'total_injected': 10, 'total_detected': 42, 'details': {'correctly_detected_indices': [], 'false_negative_indices': [145, 146, 147, 148, 149, 155, 156, 157, 158, 159], 'false_positive_indices': [128, 129, 130, 131, 5, 6, 7, 8, 9, 133, 134, 135, 136, 138, 139, 140, 141, 143, 144, 30, 35, 165, 175, 176, 177, 180, 195, 205, 81, 110, 115, 116, 117, 118, 120, 121, 122, 123, 124, 125, 126, 127]}}\n"
          ]
        },
        {
          "output_type": "stream",
          "name": "stderr",
          "text": [
            "/usr/local/lib/python3.10/dist-packages/sklearn/base.py:439: UserWarning: X does not have valid feature names, but IsolationForest was fitted with feature names\n",
            "  warnings.warn(\n"
          ]
        },
        {
          "output_type": "stream",
          "name": "stdout",
          "text": [
            "Evaluation for dataset 1_40: {'correctly_detected': 3, 'false_negatives': 7, 'false_positives': 39, 'total_injected': 10, 'total_detected': 42, 'details': {'correctly_detected_indices': [35, 37, 38], 'false_negative_indices': [36, 39, 10, 11, 12, 13, 14], 'false_positive_indices': [128, 129, 130, 131, 5, 6, 7, 8, 9, 133, 134, 135, 136, 138, 139, 140, 141, 143, 144, 163, 175, 177, 50, 51, 54, 60, 96, 115, 116, 117, 118, 120, 121, 122, 123, 124, 125, 126, 127]}}\n"
          ]
        },
        {
          "output_type": "stream",
          "name": "stderr",
          "text": [
            "/usr/local/lib/python3.10/dist-packages/sklearn/base.py:439: UserWarning: X does not have valid feature names, but IsolationForest was fitted with feature names\n",
            "  warnings.warn(\n"
          ]
        },
        {
          "output_type": "stream",
          "name": "stdout",
          "text": [
            "Evaluation for dataset 1_41: {'correctly_detected': 1, 'false_negatives': 9, 'false_positives': 41, 'total_injected': 10, 'total_detected': 42, 'details': {'correctly_detected_indices': [49], 'false_negative_indices': [65, 66, 67, 68, 69, 45, 46, 47, 48], 'false_positive_indices': [128, 129, 130, 3, 131, 5, 6, 7, 8, 9, 133, 134, 135, 138, 139, 140, 141, 143, 144, 157, 32, 39, 174, 175, 177, 178, 60, 196, 86, 88, 115, 116, 118, 120, 121, 122, 123, 124, 125, 126, 127]}}\n"
          ]
        },
        {
          "output_type": "stream",
          "name": "stderr",
          "text": [
            "/usr/local/lib/python3.10/dist-packages/sklearn/base.py:439: UserWarning: X does not have valid feature names, but IsolationForest was fitted with feature names\n",
            "  warnings.warn(\n"
          ]
        },
        {
          "output_type": "stream",
          "name": "stdout",
          "text": [
            "Evaluation for dataset 1_42: {'correctly_detected': 0, 'false_negatives': 5, 'false_positives': 42, 'total_injected': 5, 'total_detected': 42, 'details': {'correctly_detected_indices': [], 'false_negative_indices': [20, 21, 22, 23, 24], 'false_positive_indices': [128, 129, 130, 131, 5, 6, 7, 8, 9, 133, 138, 139, 140, 141, 143, 144, 146, 147, 159, 35, 37, 39, 168, 175, 48, 177, 50, 178, 179, 83, 112, 115, 116, 118, 120, 121, 122, 123, 124, 125, 126, 127]}}\n"
          ]
        },
        {
          "output_type": "stream",
          "name": "stderr",
          "text": [
            "/usr/local/lib/python3.10/dist-packages/sklearn/base.py:439: UserWarning: X does not have valid feature names, but IsolationForest was fitted with feature names\n",
            "  warnings.warn(\n"
          ]
        },
        {
          "output_type": "stream",
          "name": "stdout",
          "text": [
            "Evaluation for dataset 1_43: {'correctly_detected': 10, 'false_negatives': 0, 'false_positives': 32, 'total_injected': 10, 'total_detected': 42, 'details': {'correctly_detected_indices': [5, 6, 7, 8, 9, 120, 121, 122, 123, 124], 'false_negative_indices': [], 'false_positive_indices': [128, 129, 131, 133, 134, 135, 136, 138, 139, 140, 141, 143, 144, 35, 163, 37, 39, 45, 177, 179, 53, 54, 195, 207, 208, 104, 115, 116, 118, 125, 126, 127]}}\n"
          ]
        },
        {
          "output_type": "stream",
          "name": "stderr",
          "text": [
            "/usr/local/lib/python3.10/dist-packages/sklearn/base.py:439: UserWarning: X does not have valid feature names, but IsolationForest was fitted with feature names\n",
            "  warnings.warn(\n"
          ]
        },
        {
          "output_type": "stream",
          "name": "stdout",
          "text": [
            "Evaluation for dataset 1_44: {'correctly_detected': 10, 'false_negatives': 0, 'false_positives': 32, 'total_injected': 10, 'total_detected': 42, 'details': {'correctly_detected_indices': [5, 6, 7, 8, 9, 120, 121, 122, 123, 124], 'false_negative_indices': [], 'false_positive_indices': [128, 129, 130, 131, 133, 134, 135, 136, 138, 139, 140, 141, 143, 144, 159, 37, 38, 47, 175, 178, 53, 195, 86, 88, 112, 114, 115, 116, 118, 125, 126, 127]}}\n"
          ]
        },
        {
          "output_type": "stream",
          "name": "stderr",
          "text": [
            "/usr/local/lib/python3.10/dist-packages/sklearn/base.py:439: UserWarning: X does not have valid feature names, but IsolationForest was fitted with feature names\n",
            "  warnings.warn(\n"
          ]
        },
        {
          "output_type": "stream",
          "name": "stdout",
          "text": [
            "Evaluation for dataset 1_45: {'correctly_detected': 10, 'false_negatives': 0, 'false_positives': 32, 'total_injected': 10, 'total_detected': 42, 'details': {'correctly_detected_indices': [128, 129, 5, 6, 7, 8, 9, 125, 126, 127], 'false_negative_indices': [], 'false_positive_indices': [130, 131, 133, 134, 135, 136, 138, 139, 140, 141, 143, 144, 152, 37, 38, 46, 48, 49, 50, 176, 177, 188, 80, 112, 115, 116, 118, 120, 121, 122, 123, 124]}}\n"
          ]
        },
        {
          "output_type": "stream",
          "name": "stderr",
          "text": [
            "/usr/local/lib/python3.10/dist-packages/sklearn/base.py:439: UserWarning: X does not have valid feature names, but IsolationForest was fitted with feature names\n",
            "  warnings.warn(\n"
          ]
        },
        {
          "output_type": "stream",
          "name": "stdout",
          "text": [
            "Evaluation for dataset 1_46: {'correctly_detected': 0, 'false_negatives': 10, 'false_positives': 42, 'total_injected': 10, 'total_detected': 42, 'details': {'correctly_detected_indices': [], 'false_negative_indices': [165, 166, 167, 168, 169, 170, 171, 172, 173, 174], 'false_positive_indices': [128, 1, 129, 130, 4, 5, 6, 7, 8, 9, 131, 133, 134, 135, 136, 138, 139, 140, 141, 143, 144, 146, 37, 38, 45, 176, 177, 178, 60, 61, 111, 115, 116, 118, 120, 121, 122, 123, 124, 125, 126, 127]}}\n"
          ]
        },
        {
          "output_type": "stream",
          "name": "stderr",
          "text": [
            "/usr/local/lib/python3.10/dist-packages/sklearn/base.py:439: UserWarning: X does not have valid feature names, but IsolationForest was fitted with feature names\n",
            "  warnings.warn(\n"
          ]
        },
        {
          "output_type": "stream",
          "name": "stdout",
          "text": [
            "Evaluation for dataset 1_47: {'correctly_detected': 1, 'false_negatives': 9, 'false_positives': 41, 'total_injected': 10, 'total_detected': 42, 'details': {'correctly_detected_indices': [47], 'false_negative_indices': [45, 46, 48, 49, 25, 26, 27, 28, 29], 'false_positive_indices': [128, 129, 130, 131, 5, 6, 7, 8, 9, 133, 134, 135, 136, 138, 139, 140, 141, 143, 144, 156, 35, 36, 37, 38, 39, 168, 175, 177, 51, 179, 115, 116, 118, 120, 121, 122, 123, 124, 125, 126, 127]}}\n"
          ]
        },
        {
          "output_type": "stream",
          "name": "stderr",
          "text": [
            "/usr/local/lib/python3.10/dist-packages/sklearn/base.py:439: UserWarning: X does not have valid feature names, but IsolationForest was fitted with feature names\n",
            "  warnings.warn(\n"
          ]
        },
        {
          "output_type": "stream",
          "name": "stdout",
          "text": [
            "Evaluation for dataset 1_48: {'correctly_detected': 0, 'false_negatives': 10, 'false_positives': 42, 'total_injected': 10, 'total_detected': 42, 'details': {'correctly_detected_indices': [], 'false_negative_indices': [180, 181, 182, 183, 184, 25, 26, 27, 28, 29], 'false_positive_indices': [128, 129, 130, 131, 5, 6, 7, 8, 9, 134, 135, 136, 138, 139, 140, 141, 143, 144, 36, 38, 39, 172, 45, 48, 176, 179, 61, 64, 84, 100, 115, 116, 118, 119, 120, 121, 122, 123, 124, 125, 126, 127]}}\n"
          ]
        },
        {
          "output_type": "stream",
          "name": "stderr",
          "text": [
            "/usr/local/lib/python3.10/dist-packages/sklearn/base.py:439: UserWarning: X does not have valid feature names, but IsolationForest was fitted with feature names\n",
            "  warnings.warn(\n"
          ]
        },
        {
          "output_type": "stream",
          "name": "stdout",
          "text": [
            "Evaluation for dataset 1_49: {'correctly_detected': 10, 'false_negatives': 0, 'false_positives': 32, 'total_injected': 10, 'total_detected': 42, 'details': {'correctly_detected_indices': [128, 129, 120, 121, 122, 123, 124, 125, 126, 127], 'false_negative_indices': [], 'false_positive_indices': [130, 131, 5, 6, 7, 8, 9, 133, 134, 135, 136, 138, 139, 140, 141, 143, 144, 35, 37, 39, 175, 49, 178, 179, 61, 191, 195, 90, 112, 115, 116, 118]}}\n"
          ]
        },
        {
          "output_type": "stream",
          "name": "stderr",
          "text": [
            "/usr/local/lib/python3.10/dist-packages/sklearn/base.py:439: UserWarning: X does not have valid feature names, but IsolationForest was fitted with feature names\n",
            "  warnings.warn(\n"
          ]
        },
        {
          "output_type": "stream",
          "name": "stdout",
          "text": [
            "Evaluation for dataset 2_0: {'correctly_detected': 2, 'false_negatives': 8, 'false_positives': 40, 'total_injected': 10, 'total_detected': 42, 'details': {'correctly_detected_indices': [145, 155], 'false_negative_indices': [146, 147, 148, 149, 156, 157, 158, 159], 'false_positive_indices': [128, 129, 5, 6, 7, 8, 9, 134, 136, 137, 138, 140, 141, 142, 143, 144, 150, 35, 38, 39, 175, 48, 176, 177, 179, 80, 81, 82, 83, 84, 86, 88, 120, 121, 122, 123, 124, 125, 126, 127]}}\n"
          ]
        },
        {
          "output_type": "stream",
          "name": "stderr",
          "text": [
            "/usr/local/lib/python3.10/dist-packages/sklearn/base.py:439: UserWarning: X does not have valid feature names, but IsolationForest was fitted with feature names\n",
            "  warnings.warn(\n"
          ]
        },
        {
          "output_type": "stream",
          "name": "stdout",
          "text": [
            "Evaluation for dataset 2_1: {'correctly_detected': 5, 'false_negatives': 5, 'false_positives': 37, 'total_injected': 10, 'total_detected': 42, 'details': {'correctly_detected_indices': [5, 6, 7, 8, 9], 'false_negative_indices': [20, 21, 22, 23, 24], 'false_positive_indices': [128, 129, 130, 3, 131, 132, 133, 134, 135, 136, 137, 138, 139, 141, 142, 143, 144, 150, 155, 38, 175, 48, 176, 178, 80, 81, 82, 83, 84, 120, 121, 122, 123, 124, 125, 126, 127]}}\n"
          ]
        },
        {
          "output_type": "stream",
          "name": "stderr",
          "text": [
            "/usr/local/lib/python3.10/dist-packages/sklearn/base.py:439: UserWarning: X does not have valid feature names, but IsolationForest was fitted with feature names\n",
            "  warnings.warn(\n"
          ]
        },
        {
          "output_type": "stream",
          "name": "stdout",
          "text": [
            "Evaluation for dataset 2_2: {'correctly_detected': 0, 'false_negatives': 10, 'false_positives': 42, 'total_injected': 10, 'total_detected': 42, 'details': {'correctly_detected_indices': [], 'false_negative_indices': [170, 171, 172, 173, 174, 90, 91, 92, 93, 94], 'false_positive_indices': [128, 129, 130, 131, 132, 5, 6, 7, 8, 9, 133, 134, 135, 136, 137, 138, 139, 140, 141, 142, 143, 144, 150, 155, 37, 48, 176, 177, 63, 80, 81, 82, 83, 84, 120, 121, 122, 123, 124, 125, 126, 127]}}\n"
          ]
        },
        {
          "output_type": "stream",
          "name": "stderr",
          "text": [
            "/usr/local/lib/python3.10/dist-packages/sklearn/base.py:439: UserWarning: X does not have valid feature names, but IsolationForest was fitted with feature names\n",
            "  warnings.warn(\n"
          ]
        },
        {
          "output_type": "stream",
          "name": "stdout",
          "text": [
            "Evaluation for dataset 2_3: {'correctly_detected': 5, 'false_negatives': 5, 'false_positives': 37, 'total_injected': 10, 'total_detected': 42, 'details': {'correctly_detected_indices': [120, 121, 122, 123, 124], 'false_negative_indices': [20, 21, 22, 23, 24], 'false_positive_indices': [128, 129, 130, 131, 132, 5, 6, 7, 8, 9, 134, 135, 138, 139, 142, 143, 144, 150, 36, 37, 38, 46, 47, 48, 177, 179, 60, 80, 81, 82, 83, 84, 108, 112, 125, 126, 127]}}\n"
          ]
        },
        {
          "output_type": "stream",
          "name": "stderr",
          "text": [
            "/usr/local/lib/python3.10/dist-packages/sklearn/base.py:439: UserWarning: X does not have valid feature names, but IsolationForest was fitted with feature names\n",
            "  warnings.warn(\n"
          ]
        },
        {
          "output_type": "stream",
          "name": "stdout",
          "text": [
            "Evaluation for dataset 2_4: {'correctly_detected': 4, 'false_negatives': 6, 'false_positives': 38, 'total_injected': 10, 'total_detected': 42, 'details': {'correctly_detected_indices': [176, 177, 178, 179], 'false_negative_indices': [175, 180, 181, 182, 183, 184], 'false_positive_indices': [128, 129, 131, 132, 5, 6, 7, 8, 9, 133, 134, 135, 136, 137, 138, 139, 140, 141, 142, 143, 144, 150, 37, 38, 49, 80, 81, 82, 83, 84, 120, 121, 122, 123, 124, 125, 126, 127]}}\n"
          ]
        },
        {
          "output_type": "stream",
          "name": "stderr",
          "text": [
            "/usr/local/lib/python3.10/dist-packages/sklearn/base.py:439: UserWarning: X does not have valid feature names, but IsolationForest was fitted with feature names\n",
            "  warnings.warn(\n"
          ]
        },
        {
          "output_type": "stream",
          "name": "stdout",
          "text": [
            "Evaluation for dataset 2_5: {'correctly_detected': 0, 'false_negatives': 10, 'false_positives': 42, 'total_injected': 10, 'total_detected': 42, 'details': {'correctly_detected_indices': [], 'false_negative_indices': [200, 201, 202, 203, 204, 45, 46, 47, 48, 49], 'false_positive_indices': [128, 129, 130, 132, 5, 6, 7, 8, 9, 134, 135, 136, 137, 138, 139, 140, 141, 142, 143, 144, 150, 155, 37, 38, 175, 176, 177, 178, 61, 80, 81, 82, 83, 84, 120, 121, 122, 123, 124, 125, 126, 127]}}\n"
          ]
        },
        {
          "output_type": "stream",
          "name": "stderr",
          "text": [
            "/usr/local/lib/python3.10/dist-packages/sklearn/base.py:439: UserWarning: X does not have valid feature names, but IsolationForest was fitted with feature names\n",
            "  warnings.warn(\n"
          ]
        },
        {
          "output_type": "stream",
          "name": "stdout",
          "text": [
            "Evaluation for dataset 2_6: {'correctly_detected': 7, 'false_negatives': 3, 'false_positives': 35, 'total_injected': 10, 'total_detected': 42, 'details': {'correctly_detected_indices': [5, 6, 7, 8, 9, 45, 49], 'false_negative_indices': [48, 46, 47], 'false_positive_indices': [128, 129, 130, 4, 132, 133, 134, 135, 136, 137, 138, 139, 142, 143, 144, 150, 155, 35, 37, 38, 177, 64, 80, 81, 82, 83, 84, 120, 121, 122, 123, 124, 125, 126, 127]}}\n"
          ]
        },
        {
          "output_type": "stream",
          "name": "stderr",
          "text": [
            "/usr/local/lib/python3.10/dist-packages/sklearn/base.py:439: UserWarning: X does not have valid feature names, but IsolationForest was fitted with feature names\n",
            "  warnings.warn(\n"
          ]
        },
        {
          "output_type": "stream",
          "name": "stdout",
          "text": [
            "Evaluation for dataset 2_7: {'correctly_detected': 4, 'false_negatives': 1, 'false_positives': 38, 'total_injected': 5, 'total_detected': 42, 'details': {'correctly_detected_indices': [35, 36, 37, 38], 'false_negative_indices': [39], 'false_positive_indices': [128, 129, 132, 5, 6, 7, 8, 9, 133, 134, 135, 136, 137, 138, 139, 140, 141, 142, 143, 144, 150, 155, 48, 176, 178, 80, 81, 82, 83, 84, 120, 121, 122, 123, 124, 125, 126, 127]}}\n"
          ]
        },
        {
          "output_type": "stream",
          "name": "stderr",
          "text": [
            "/usr/local/lib/python3.10/dist-packages/sklearn/base.py:439: UserWarning: X does not have valid feature names, but IsolationForest was fitted with feature names\n",
            "  warnings.warn(\n"
          ]
        },
        {
          "output_type": "stream",
          "name": "stdout",
          "text": [
            "Evaluation for dataset 2_8: {'correctly_detected': 2, 'false_negatives': 8, 'false_positives': 40, 'total_injected': 10, 'total_detected': 42, 'details': {'correctly_detected_indices': [35, 38], 'false_negative_indices': [36, 37, 39, 10, 11, 12, 13, 14], 'false_positive_indices': [128, 129, 130, 131, 132, 5, 6, 7, 8, 9, 133, 134, 135, 136, 137, 138, 139, 140, 141, 142, 143, 144, 150, 155, 177, 178, 80, 81, 82, 83, 84, 108, 120, 121, 122, 123, 124, 125, 126, 127]}}\n"
          ]
        },
        {
          "output_type": "stream",
          "name": "stderr",
          "text": [
            "/usr/local/lib/python3.10/dist-packages/sklearn/base.py:439: UserWarning: X does not have valid feature names, but IsolationForest was fitted with feature names\n",
            "  warnings.warn(\n"
          ]
        },
        {
          "output_type": "stream",
          "name": "stdout",
          "text": [
            "Evaluation for dataset 2_9: {'correctly_detected': 7, 'false_negatives': 3, 'false_positives': 35, 'total_injected': 10, 'total_detected': 42, 'details': {'correctly_detected_indices': [5, 6, 7, 8, 9, 45, 47], 'false_negative_indices': [48, 49, 46], 'false_positive_indices': [128, 129, 130, 131, 132, 133, 134, 135, 136, 137, 138, 139, 140, 141, 143, 144, 150, 155, 38, 176, 203, 80, 81, 82, 83, 84, 118, 120, 121, 122, 123, 124, 125, 126, 127]}}\n"
          ]
        },
        {
          "output_type": "stream",
          "name": "stderr",
          "text": [
            "/usr/local/lib/python3.10/dist-packages/sklearn/base.py:439: UserWarning: X does not have valid feature names, but IsolationForest was fitted with feature names\n",
            "  warnings.warn(\n"
          ]
        },
        {
          "output_type": "stream",
          "name": "stdout",
          "text": [
            "Evaluation for dataset 2_10: {'correctly_detected': 7, 'false_negatives': 3, 'false_positives': 35, 'total_injected': 10, 'total_detected': 42, 'details': {'correctly_detected_indices': [5, 6, 7, 8, 9, 47, 49], 'false_negative_indices': [48, 45, 46], 'false_positive_indices': [128, 129, 2, 131, 130, 132, 133, 135, 137, 138, 139, 140, 141, 142, 144, 150, 35, 37, 38, 178, 73, 80, 81, 82, 83, 84, 112, 120, 121, 122, 123, 124, 125, 126, 127]}}\n"
          ]
        },
        {
          "output_type": "stream",
          "name": "stderr",
          "text": [
            "/usr/local/lib/python3.10/dist-packages/sklearn/base.py:439: UserWarning: X does not have valid feature names, but IsolationForest was fitted with feature names\n",
            "  warnings.warn(\n"
          ]
        },
        {
          "output_type": "stream",
          "name": "stdout",
          "text": [
            "Evaluation for dataset 2_11: {'correctly_detected': 0, 'false_negatives': 10, 'false_positives': 42, 'total_injected': 10, 'total_detected': 42, 'details': {'correctly_detected_indices': [], 'false_negative_indices': [32, 33, 34, 165, 166, 167, 168, 169, 30, 31], 'false_positive_indices': [128, 129, 130, 131, 132, 5, 6, 7, 8, 9, 133, 134, 135, 136, 137, 138, 139, 140, 141, 142, 143, 144, 150, 37, 175, 178, 60, 72, 80, 81, 82, 83, 84, 108, 120, 121, 122, 123, 124, 125, 126, 127]}}\n"
          ]
        },
        {
          "output_type": "stream",
          "name": "stderr",
          "text": [
            "/usr/local/lib/python3.10/dist-packages/sklearn/base.py:439: UserWarning: X does not have valid feature names, but IsolationForest was fitted with feature names\n",
            "  warnings.warn(\n"
          ]
        },
        {
          "output_type": "stream",
          "name": "stdout",
          "text": [
            "Evaluation for dataset 2_12: {'correctly_detected': 10, 'false_negatives': 0, 'false_positives': 32, 'total_injected': 10, 'total_detected': 42, 'details': {'correctly_detected_indices': [5, 6, 7, 8, 9, 120, 121, 122, 123, 124], 'false_negative_indices': [], 'false_positive_indices': [128, 129, 130, 132, 133, 134, 135, 137, 138, 139, 12, 140, 141, 142, 143, 144, 150, 38, 39, 48, 176, 178, 54, 197, 80, 81, 82, 83, 84, 125, 126, 127]}}\n"
          ]
        },
        {
          "output_type": "stream",
          "name": "stderr",
          "text": [
            "/usr/local/lib/python3.10/dist-packages/sklearn/base.py:439: UserWarning: X does not have valid feature names, but IsolationForest was fitted with feature names\n",
            "  warnings.warn(\n"
          ]
        },
        {
          "output_type": "stream",
          "name": "stdout",
          "text": [
            "Evaluation for dataset 2_13: {'correctly_detected': 0, 'false_negatives': 10, 'false_positives': 42, 'total_injected': 10, 'total_detected': 42, 'details': {'correctly_detected_indices': [], 'false_negative_indices': [35, 36, 37, 38, 39, 10, 11, 12, 13, 14], 'false_positive_indices': [128, 129, 130, 131, 132, 5, 6, 7, 8, 9, 133, 134, 135, 136, 137, 138, 139, 140, 141, 142, 143, 21, 144, 150, 155, 176, 53, 72, 80, 81, 82, 83, 84, 105, 120, 121, 122, 123, 124, 125, 126, 127]}}\n"
          ]
        },
        {
          "output_type": "stream",
          "name": "stderr",
          "text": [
            "/usr/local/lib/python3.10/dist-packages/sklearn/base.py:439: UserWarning: X does not have valid feature names, but IsolationForest was fitted with feature names\n",
            "  warnings.warn(\n"
          ]
        },
        {
          "output_type": "stream",
          "name": "stdout",
          "text": [
            "Evaluation for dataset 2_14: {'correctly_detected': 0, 'false_negatives': 10, 'false_positives': 42, 'total_injected': 10, 'total_detected': 42, 'details': {'correctly_detected_indices': [], 'false_negative_indices': [70, 71, 72, 73, 74, 45, 46, 47, 48, 49], 'false_positive_indices': [128, 129, 130, 3, 131, 5, 6, 7, 8, 9, 132, 133, 134, 135, 136, 137, 138, 139, 140, 141, 142, 143, 144, 150, 37, 177, 50, 178, 80, 81, 82, 83, 84, 88, 120, 121, 122, 123, 124, 125, 126, 127]}}\n"
          ]
        },
        {
          "output_type": "stream",
          "name": "stderr",
          "text": [
            "/usr/local/lib/python3.10/dist-packages/sklearn/base.py:439: UserWarning: X does not have valid feature names, but IsolationForest was fitted with feature names\n",
            "  warnings.warn(\n"
          ]
        },
        {
          "output_type": "stream",
          "name": "stdout",
          "text": [
            "Evaluation for dataset 2_15: {'correctly_detected': 10, 'false_negatives': 0, 'false_positives': 32, 'total_injected': 10, 'total_detected': 42, 'details': {'correctly_detected_indices': [5, 6, 7, 8, 9, 80, 81, 82, 83, 84], 'false_negative_indices': [], 'false_positive_indices': [128, 129, 131, 132, 133, 134, 135, 136, 137, 138, 139, 140, 141, 142, 143, 144, 150, 155, 37, 47, 48, 176, 178, 78, 120, 121, 122, 123, 124, 125, 126, 127]}}\n"
          ]
        },
        {
          "output_type": "stream",
          "name": "stderr",
          "text": [
            "/usr/local/lib/python3.10/dist-packages/sklearn/base.py:439: UserWarning: X does not have valid feature names, but IsolationForest was fitted with feature names\n",
            "  warnings.warn(\n"
          ]
        },
        {
          "output_type": "stream",
          "name": "stdout",
          "text": [
            "Evaluation for dataset 2_16: {'correctly_detected': 1, 'false_negatives': 9, 'false_positives': 41, 'total_injected': 10, 'total_detected': 42, 'details': {'correctly_detected_indices': [179], 'false_negative_indices': [165, 166, 167, 168, 169, 175, 176, 177, 178], 'false_positive_indices': [128, 129, 130, 132, 5, 6, 7, 8, 9, 133, 134, 135, 136, 137, 138, 139, 140, 141, 142, 143, 144, 150, 36, 37, 171, 60, 64, 206, 80, 81, 82, 83, 84, 120, 121, 122, 123, 124, 125, 126, 127]}}\n"
          ]
        },
        {
          "output_type": "stream",
          "name": "stderr",
          "text": [
            "/usr/local/lib/python3.10/dist-packages/sklearn/base.py:439: UserWarning: X does not have valid feature names, but IsolationForest was fitted with feature names\n",
            "  warnings.warn(\n"
          ]
        },
        {
          "output_type": "stream",
          "name": "stdout",
          "text": [
            "Evaluation for dataset 2_17: {'correctly_detected': 1, 'false_negatives': 9, 'false_positives': 41, 'total_injected': 10, 'total_detected': 42, 'details': {'correctly_detected_indices': [48], 'false_negative_indices': [45, 46, 47, 49, 180, 181, 182, 183, 184], 'false_positive_indices': [128, 129, 130, 3, 131, 5, 6, 7, 8, 9, 132, 133, 134, 135, 136, 137, 138, 139, 140, 141, 142, 143, 144, 146, 150, 166, 178, 202, 80, 81, 82, 83, 84, 120, 121, 122, 123, 124, 125, 126, 127]}}\n"
          ]
        },
        {
          "output_type": "stream",
          "name": "stderr",
          "text": [
            "/usr/local/lib/python3.10/dist-packages/sklearn/base.py:439: UserWarning: X does not have valid feature names, but IsolationForest was fitted with feature names\n",
            "  warnings.warn(\n"
          ]
        },
        {
          "output_type": "stream",
          "name": "stdout",
          "text": [
            "Evaluation for dataset 2_18: {'correctly_detected': 0, 'false_negatives': 10, 'false_positives': 42, 'total_injected': 10, 'total_detected': 42, 'details': {'correctly_detected_indices': [], 'false_negative_indices': [0, 1, 2, 3, 4, 40, 41, 42, 43, 44], 'false_positive_indices': [128, 129, 130, 132, 5, 6, 7, 8, 9, 133, 134, 135, 136, 137, 138, 141, 142, 143, 144, 150, 155, 37, 38, 39, 177, 178, 179, 52, 80, 81, 82, 83, 84, 106, 120, 121, 122, 123, 124, 125, 126, 127]}}\n"
          ]
        },
        {
          "output_type": "stream",
          "name": "stderr",
          "text": [
            "/usr/local/lib/python3.10/dist-packages/sklearn/base.py:439: UserWarning: X does not have valid feature names, but IsolationForest was fitted with feature names\n",
            "  warnings.warn(\n"
          ]
        },
        {
          "output_type": "stream",
          "name": "stdout",
          "text": [
            "Evaluation for dataset 2_19: {'correctly_detected': 0, 'false_negatives': 10, 'false_positives': 42, 'total_injected': 10, 'total_detected': 42, 'details': {'correctly_detected_indices': [], 'false_negative_indices': [170, 171, 172, 173, 174, 90, 91, 92, 93, 94], 'false_positive_indices': [128, 129, 130, 131, 132, 5, 6, 7, 8, 9, 133, 134, 135, 136, 137, 138, 139, 140, 141, 142, 143, 144, 150, 37, 39, 175, 178, 72, 80, 81, 82, 83, 84, 86, 120, 121, 122, 123, 124, 125, 126, 127]}}\n"
          ]
        },
        {
          "output_type": "stream",
          "name": "stderr",
          "text": [
            "/usr/local/lib/python3.10/dist-packages/sklearn/base.py:439: UserWarning: X does not have valid feature names, but IsolationForest was fitted with feature names\n",
            "  warnings.warn(\n"
          ]
        },
        {
          "output_type": "stream",
          "name": "stdout",
          "text": [
            "Evaluation for dataset 2_20: {'correctly_detected': 1, 'false_negatives': 9, 'false_positives': 41, 'total_injected': 10, 'total_detected': 42, 'details': {'correctly_detected_indices': [48], 'false_negative_indices': [32, 33, 34, 45, 46, 47, 49, 30, 31], 'false_positive_indices': [128, 1, 129, 131, 130, 5, 6, 7, 8, 9, 133, 134, 135, 136, 138, 139, 142, 143, 150, 36, 37, 38, 39, 175, 177, 178, 179, 64, 80, 81, 82, 83, 84, 120, 121, 122, 123, 124, 125, 126, 127]}}\n"
          ]
        },
        {
          "output_type": "stream",
          "name": "stderr",
          "text": [
            "/usr/local/lib/python3.10/dist-packages/sklearn/base.py:439: UserWarning: X does not have valid feature names, but IsolationForest was fitted with feature names\n",
            "  warnings.warn(\n"
          ]
        },
        {
          "output_type": "stream",
          "name": "stdout",
          "text": [
            "Evaluation for dataset 2_21: {'correctly_detected': 6, 'false_negatives': 4, 'false_positives': 36, 'total_injected': 10, 'total_detected': 42, 'details': {'correctly_detected_indices': [5, 6, 7, 8, 9, 150], 'false_negative_indices': [152, 153, 154, 151], 'false_positive_indices': [128, 129, 130, 131, 4, 132, 133, 134, 137, 138, 139, 140, 141, 142, 143, 144, 36, 37, 46, 175, 48, 177, 60, 80, 81, 82, 83, 84, 120, 121, 122, 123, 124, 125, 126, 127]}}\n"
          ]
        },
        {
          "output_type": "stream",
          "name": "stderr",
          "text": [
            "/usr/local/lib/python3.10/dist-packages/sklearn/base.py:439: UserWarning: X does not have valid feature names, but IsolationForest was fitted with feature names\n",
            "  warnings.warn(\n"
          ]
        },
        {
          "output_type": "stream",
          "name": "stdout",
          "text": [
            "Evaluation for dataset 2_22: {'correctly_detected': 0, 'false_negatives': 10, 'false_positives': 42, 'total_injected': 10, 'total_detected': 42, 'details': {'correctly_detected_indices': [], 'false_negative_indices': [45, 46, 47, 48, 49, 205, 206, 207, 208, 209], 'false_positive_indices': [128, 129, 130, 131, 4, 5, 6, 7, 8, 9, 132, 133, 134, 135, 137, 138, 139, 140, 141, 142, 143, 144, 150, 155, 174, 178, 179, 54, 73, 80, 81, 82, 83, 84, 120, 121, 122, 123, 124, 125, 126, 127]}}\n"
          ]
        },
        {
          "output_type": "stream",
          "name": "stderr",
          "text": [
            "/usr/local/lib/python3.10/dist-packages/sklearn/base.py:439: UserWarning: X does not have valid feature names, but IsolationForest was fitted with feature names\n",
            "  warnings.warn(\n"
          ]
        },
        {
          "output_type": "stream",
          "name": "stdout",
          "text": [
            "Evaluation for dataset 2_23: {'correctly_detected': 6, 'false_negatives': 4, 'false_positives': 36, 'total_injected': 10, 'total_detected': 42, 'details': {'correctly_detected_indices': [80, 81, 82, 83, 84, 155], 'false_negative_indices': [156, 157, 158, 159], 'false_positive_indices': [128, 129, 131, 132, 5, 6, 7, 8, 9, 133, 134, 135, 137, 138, 139, 140, 141, 142, 143, 144, 150, 37, 38, 176, 177, 63, 195, 88, 120, 121, 122, 123, 124, 125, 126, 127]}}\n"
          ]
        },
        {
          "output_type": "stream",
          "name": "stderr",
          "text": [
            "/usr/local/lib/python3.10/dist-packages/sklearn/base.py:439: UserWarning: X does not have valid feature names, but IsolationForest was fitted with feature names\n",
            "  warnings.warn(\n"
          ]
        },
        {
          "output_type": "stream",
          "name": "stdout",
          "text": [
            "Evaluation for dataset 2_24: {'correctly_detected': 0, 'false_negatives': 10, 'false_positives': 42, 'total_injected': 10, 'total_detected': 42, 'details': {'correctly_detected_indices': [], 'false_negative_indices': [15, 16, 17, 18, 19, 145, 146, 147, 148, 149], 'false_positive_indices': [128, 129, 2, 132, 5, 6, 7, 8, 9, 133, 134, 135, 136, 137, 139, 140, 141, 142, 143, 150, 36, 39, 178, 179, 70, 80, 81, 82, 83, 84, 89, 102, 114, 119, 120, 121, 122, 123, 124, 125, 126, 127]}}\n"
          ]
        },
        {
          "output_type": "stream",
          "name": "stderr",
          "text": [
            "/usr/local/lib/python3.10/dist-packages/sklearn/base.py:439: UserWarning: X does not have valid feature names, but IsolationForest was fitted with feature names\n",
            "  warnings.warn(\n"
          ]
        },
        {
          "output_type": "stream",
          "name": "stdout",
          "text": [
            "Evaluation for dataset 2_25: {'correctly_detected': 2, 'false_negatives': 8, 'false_positives': 40, 'total_injected': 10, 'total_detected': 42, 'details': {'correctly_detected_indices': [37, 38], 'false_negative_indices': [35, 36, 39, 10, 11, 12, 13, 14], 'false_positive_indices': [128, 129, 130, 131, 132, 5, 6, 7, 8, 9, 133, 134, 135, 137, 138, 139, 140, 141, 142, 143, 144, 150, 155, 175, 48, 178, 61, 80, 81, 82, 83, 84, 120, 121, 122, 123, 124, 125, 126, 127]}}\n"
          ]
        },
        {
          "output_type": "stream",
          "name": "stderr",
          "text": [
            "/usr/local/lib/python3.10/dist-packages/sklearn/base.py:439: UserWarning: X does not have valid feature names, but IsolationForest was fitted with feature names\n",
            "  warnings.warn(\n"
          ]
        },
        {
          "output_type": "stream",
          "name": "stdout",
          "text": [
            "Evaluation for dataset 2_26: {'correctly_detected': 3, 'false_negatives': 7, 'false_positives': 39, 'total_injected': 10, 'total_detected': 42, 'details': {'correctly_detected_indices': [176, 178, 179], 'false_negative_indices': [165, 166, 167, 168, 169, 175, 177], 'false_positive_indices': [128, 129, 130, 5, 6, 7, 8, 9, 133, 134, 135, 136, 137, 138, 139, 140, 141, 142, 143, 144, 150, 36, 38, 39, 197, 80, 81, 82, 83, 84, 118, 120, 121, 122, 123, 124, 125, 126, 127]}}\n"
          ]
        },
        {
          "output_type": "stream",
          "name": "stderr",
          "text": [
            "/usr/local/lib/python3.10/dist-packages/sklearn/base.py:439: UserWarning: X does not have valid feature names, but IsolationForest was fitted with feature names\n",
            "  warnings.warn(\n"
          ]
        },
        {
          "output_type": "stream",
          "name": "stdout",
          "text": [
            "Evaluation for dataset 2_27: {'correctly_detected': 4, 'false_negatives': 6, 'false_positives': 38, 'total_injected': 10, 'total_detected': 42, 'details': {'correctly_detected_indices': [49, 35, 37, 38], 'false_negative_indices': [36, 39, 45, 46, 47, 48], 'false_positive_indices': [128, 129, 130, 131, 132, 5, 6, 7, 8, 9, 133, 134, 135, 136, 138, 139, 140, 142, 143, 144, 145, 150, 207, 80, 81, 82, 83, 84, 86, 115, 120, 121, 122, 123, 124, 125, 126, 127]}}\n"
          ]
        },
        {
          "output_type": "stream",
          "name": "stderr",
          "text": [
            "/usr/local/lib/python3.10/dist-packages/sklearn/base.py:439: UserWarning: X does not have valid feature names, but IsolationForest was fitted with feature names\n",
            "  warnings.warn(\n"
          ]
        },
        {
          "output_type": "stream",
          "name": "stdout",
          "text": [
            "Evaluation for dataset 2_28: {'correctly_detected': 10, 'false_negatives': 0, 'false_positives': 32, 'total_injected': 10, 'total_detected': 42, 'details': {'correctly_detected_indices': [128, 129, 5, 6, 7, 8, 9, 125, 126, 127], 'false_negative_indices': [], 'false_positive_indices': [131, 135, 136, 137, 138, 139, 140, 143, 144, 147, 150, 155, 36, 37, 38, 48, 177, 50, 51, 178, 190, 198, 80, 81, 82, 83, 84, 120, 121, 122, 123, 124]}}\n"
          ]
        },
        {
          "output_type": "stream",
          "name": "stderr",
          "text": [
            "/usr/local/lib/python3.10/dist-packages/sklearn/base.py:439: UserWarning: X does not have valid feature names, but IsolationForest was fitted with feature names\n",
            "  warnings.warn(\n"
          ]
        },
        {
          "output_type": "stream",
          "name": "stdout",
          "text": [
            "Evaluation for dataset 2_29: {'correctly_detected': 4, 'false_negatives': 6, 'false_positives': 38, 'total_injected': 10, 'total_detected': 42, 'details': {'correctly_detected_indices': [36, 37, 38, 39], 'false_negative_indices': [35, 45, 46, 47, 48, 49], 'false_positive_indices': [128, 129, 130, 131, 5, 6, 7, 8, 9, 133, 134, 135, 136, 137, 138, 140, 141, 142, 143, 144, 150, 176, 177, 178, 64, 80, 81, 82, 83, 84, 120, 121, 122, 123, 124, 125, 126, 127]}}\n"
          ]
        },
        {
          "output_type": "stream",
          "name": "stderr",
          "text": [
            "/usr/local/lib/python3.10/dist-packages/sklearn/base.py:439: UserWarning: X does not have valid feature names, but IsolationForest was fitted with feature names\n",
            "  warnings.warn(\n"
          ]
        },
        {
          "output_type": "stream",
          "name": "stdout",
          "text": [
            "Evaluation for dataset 2_30: {'correctly_detected': 1, 'false_negatives': 9, 'false_positives': 41, 'total_injected': 10, 'total_detected': 42, 'details': {'correctly_detected_indices': [39], 'false_negative_indices': [35, 36, 37, 38, 40, 41, 42, 43, 44], 'false_positive_indices': [128, 129, 130, 131, 5, 6, 7, 8, 9, 133, 134, 135, 136, 137, 138, 139, 140, 141, 142, 143, 150, 46, 48, 178, 181, 196, 80, 81, 82, 83, 84, 102, 106, 120, 121, 122, 123, 124, 125, 126, 127]}}\n"
          ]
        },
        {
          "output_type": "stream",
          "name": "stderr",
          "text": [
            "/usr/local/lib/python3.10/dist-packages/sklearn/base.py:439: UserWarning: X does not have valid feature names, but IsolationForest was fitted with feature names\n",
            "  warnings.warn(\n"
          ]
        },
        {
          "output_type": "stream",
          "name": "stdout",
          "text": [
            "Evaluation for dataset 2_31: {'correctly_detected': 5, 'false_negatives': 0, 'false_positives': 37, 'total_injected': 5, 'total_detected': 42, 'details': {'correctly_detected_indices': [5, 6, 7, 8, 9], 'false_negative_indices': [], 'false_positive_indices': [128, 129, 130, 131, 132, 133, 134, 135, 136, 137, 138, 139, 140, 141, 142, 143, 144, 150, 155, 37, 38, 176, 49, 179, 80, 81, 82, 83, 84, 120, 121, 122, 123, 124, 125, 126, 127]}}\n"
          ]
        },
        {
          "output_type": "stream",
          "name": "stderr",
          "text": [
            "/usr/local/lib/python3.10/dist-packages/sklearn/base.py:439: UserWarning: X does not have valid feature names, but IsolationForest was fitted with feature names\n",
            "  warnings.warn(\n"
          ]
        },
        {
          "output_type": "stream",
          "name": "stdout",
          "text": [
            "Evaluation for dataset 2_32: {'correctly_detected': 0, 'false_negatives': 10, 'false_positives': 42, 'total_injected': 10, 'total_detected': 42, 'details': {'correctly_detected_indices': [], 'false_negative_indices': [170, 171, 172, 173, 174, 205, 206, 207, 208, 209], 'false_positive_indices': [128, 129, 130, 131, 132, 5, 6, 7, 8, 9, 133, 134, 135, 136, 137, 138, 139, 140, 141, 142, 143, 144, 150, 155, 37, 47, 179, 80, 81, 82, 83, 84, 91, 110, 120, 121, 122, 123, 124, 125, 126, 127]}}\n"
          ]
        },
        {
          "output_type": "stream",
          "name": "stderr",
          "text": [
            "/usr/local/lib/python3.10/dist-packages/sklearn/base.py:439: UserWarning: X does not have valid feature names, but IsolationForest was fitted with feature names\n",
            "  warnings.warn(\n"
          ]
        },
        {
          "output_type": "stream",
          "name": "stdout",
          "text": [
            "Evaluation for dataset 2_33: {'correctly_detected': 0, 'false_negatives': 10, 'false_positives': 42, 'total_injected': 10, 'total_detected': 42, 'details': {'correctly_detected_indices': [], 'false_negative_indices': [170, 171, 172, 173, 174, 205, 206, 207, 208, 209], 'false_positive_indices': [128, 129, 130, 131, 132, 5, 6, 7, 8, 9, 134, 135, 136, 137, 138, 139, 140, 141, 142, 143, 150, 155, 37, 39, 48, 49, 176, 177, 178, 80, 81, 82, 83, 84, 120, 121, 122, 123, 124, 125, 126, 127]}}\n"
          ]
        },
        {
          "output_type": "stream",
          "name": "stderr",
          "text": [
            "/usr/local/lib/python3.10/dist-packages/sklearn/base.py:439: UserWarning: X does not have valid feature names, but IsolationForest was fitted with feature names\n",
            "  warnings.warn(\n"
          ]
        },
        {
          "output_type": "stream",
          "name": "stdout",
          "text": [
            "Evaluation for dataset 2_34: {'correctly_detected': 8, 'false_negatives': 2, 'false_positives': 34, 'total_injected': 10, 'total_detected': 42, 'details': {'correctly_detected_indices': [135, 136, 137, 139, 140, 141, 142, 144], 'false_negative_indices': [138, 143], 'false_positive_indices': [128, 129, 130, 131, 132, 5, 6, 7, 8, 9, 133, 150, 155, 156, 35, 38, 48, 176, 177, 179, 80, 81, 82, 83, 84, 118, 120, 121, 122, 123, 124, 125, 126, 127]}}\n"
          ]
        },
        {
          "output_type": "stream",
          "name": "stderr",
          "text": [
            "/usr/local/lib/python3.10/dist-packages/sklearn/base.py:439: UserWarning: X does not have valid feature names, but IsolationForest was fitted with feature names\n",
            "  warnings.warn(\n"
          ]
        },
        {
          "output_type": "stream",
          "name": "stdout",
          "text": [
            "Evaluation for dataset 2_35: {'correctly_detected': 0, 'false_negatives': 10, 'false_positives': 42, 'total_injected': 10, 'total_detected': 42, 'details': {'correctly_detected_indices': [], 'false_negative_indices': [15, 16, 17, 18, 19, 145, 146, 147, 148, 149], 'false_positive_indices': [128, 129, 130, 5, 6, 7, 8, 9, 133, 134, 136, 138, 139, 140, 141, 142, 144, 150, 155, 35, 36, 37, 39, 46, 175, 176, 178, 179, 52, 80, 81, 82, 83, 84, 120, 121, 122, 123, 124, 125, 126, 127]}}\n"
          ]
        },
        {
          "output_type": "stream",
          "name": "stderr",
          "text": [
            "/usr/local/lib/python3.10/dist-packages/sklearn/base.py:439: UserWarning: X does not have valid feature names, but IsolationForest was fitted with feature names\n",
            "  warnings.warn(\n"
          ]
        },
        {
          "output_type": "stream",
          "name": "stdout",
          "text": [
            "Evaluation for dataset 2_36: {'correctly_detected': 1, 'false_negatives': 9, 'false_positives': 41, 'total_injected': 10, 'total_detected': 42, 'details': {'correctly_detected_indices': [45], 'false_negative_indices': [46, 15, 16, 17, 18, 19, 47, 48, 49], 'false_positive_indices': [128, 129, 130, 131, 132, 5, 6, 7, 8, 9, 133, 134, 135, 136, 137, 138, 139, 140, 142, 143, 144, 150, 37, 177, 178, 179, 63, 80, 81, 82, 83, 84, 104, 120, 121, 122, 123, 124, 125, 126, 127]}}\n"
          ]
        },
        {
          "output_type": "stream",
          "name": "stderr",
          "text": [
            "/usr/local/lib/python3.10/dist-packages/sklearn/base.py:439: UserWarning: X does not have valid feature names, but IsolationForest was fitted with feature names\n",
            "  warnings.warn(\n"
          ]
        },
        {
          "output_type": "stream",
          "name": "stdout",
          "text": [
            "Evaluation for dataset 2_37: {'correctly_detected': 0, 'false_negatives': 10, 'false_positives': 42, 'total_injected': 10, 'total_detected': 42, 'details': {'correctly_detected_indices': [], 'false_negative_indices': [180, 181, 182, 183, 184, 185, 186, 187, 188, 189], 'false_positive_indices': [128, 129, 2, 131, 130, 5, 6, 7, 8, 9, 132, 133, 134, 136, 137, 138, 139, 140, 141, 142, 143, 144, 150, 175, 176, 177, 178, 71, 80, 81, 82, 83, 84, 111, 120, 121, 122, 123, 124, 125, 126, 127]}}\n"
          ]
        },
        {
          "output_type": "stream",
          "name": "stderr",
          "text": [
            "/usr/local/lib/python3.10/dist-packages/sklearn/base.py:439: UserWarning: X does not have valid feature names, but IsolationForest was fitted with feature names\n",
            "  warnings.warn(\n"
          ]
        },
        {
          "output_type": "stream",
          "name": "stdout",
          "text": [
            "Evaluation for dataset 2_38: {'correctly_detected': 6, 'false_negatives': 4, 'false_positives': 36, 'total_injected': 10, 'total_detected': 42, 'details': {'correctly_detected_indices': [5, 6, 7, 8, 9, 150], 'false_negative_indices': [152, 153, 154, 151], 'false_positive_indices': [128, 129, 130, 131, 132, 135, 136, 137, 138, 140, 141, 142, 143, 144, 155, 159, 175, 48, 177, 178, 179, 197, 80, 81, 82, 83, 84, 119, 120, 121, 122, 123, 124, 125, 126, 127]}}\n"
          ]
        },
        {
          "output_type": "stream",
          "name": "stderr",
          "text": [
            "/usr/local/lib/python3.10/dist-packages/sklearn/base.py:439: UserWarning: X does not have valid feature names, but IsolationForest was fitted with feature names\n",
            "  warnings.warn(\n"
          ]
        },
        {
          "output_type": "stream",
          "name": "stdout",
          "text": [
            "Evaluation for dataset 2_39: {'correctly_detected': 0, 'false_negatives': 10, 'false_positives': 42, 'total_injected': 10, 'total_detected': 42, 'details': {'correctly_detected_indices': [], 'false_negative_indices': [160, 161, 162, 163, 164, 165, 166, 167, 168, 169], 'false_positive_indices': [128, 1, 129, 131, 130, 5, 6, 7, 8, 9, 132, 133, 134, 136, 137, 138, 139, 140, 141, 142, 143, 144, 150, 155, 38, 39, 46, 178, 179, 80, 81, 82, 83, 84, 120, 121, 122, 123, 124, 125, 126, 127]}}\n"
          ]
        },
        {
          "output_type": "stream",
          "name": "stderr",
          "text": [
            "/usr/local/lib/python3.10/dist-packages/sklearn/base.py:439: UserWarning: X does not have valid feature names, but IsolationForest was fitted with feature names\n",
            "  warnings.warn(\n"
          ]
        },
        {
          "output_type": "stream",
          "name": "stdout",
          "text": [
            "Evaluation for dataset 2_40: {'correctly_detected': 2, 'false_negatives': 8, 'false_positives': 40, 'total_injected': 10, 'total_detected': 42, 'details': {'correctly_detected_indices': [152, 150], 'false_negative_indices': [45, 46, 47, 48, 49, 151, 153, 154], 'false_positive_indices': [128, 129, 130, 3, 4, 5, 6, 7, 8, 9, 132, 133, 134, 135, 136, 137, 138, 139, 140, 141, 142, 143, 144, 155, 39, 171, 178, 80, 81, 82, 83, 84, 120, 121, 122, 123, 124, 125, 126, 127]}}\n"
          ]
        },
        {
          "output_type": "stream",
          "name": "stderr",
          "text": [
            "/usr/local/lib/python3.10/dist-packages/sklearn/base.py:439: UserWarning: X does not have valid feature names, but IsolationForest was fitted with feature names\n",
            "  warnings.warn(\n"
          ]
        },
        {
          "output_type": "stream",
          "name": "stdout",
          "text": [
            "Evaluation for dataset 2_41: {'correctly_detected': 5, 'false_negatives': 0, 'false_positives': 37, 'total_injected': 5, 'total_detected': 42, 'details': {'correctly_detected_indices': [140, 141, 142, 143, 144], 'false_negative_indices': [], 'false_positive_indices': [128, 129, 130, 131, 132, 5, 6, 7, 8, 9, 133, 134, 135, 136, 137, 138, 139, 150, 155, 36, 47, 48, 175, 178, 80, 81, 82, 83, 84, 120, 121, 122, 123, 124, 125, 126, 127]}}\n"
          ]
        },
        {
          "output_type": "stream",
          "name": "stderr",
          "text": [
            "/usr/local/lib/python3.10/dist-packages/sklearn/base.py:439: UserWarning: X does not have valid feature names, but IsolationForest was fitted with feature names\n",
            "  warnings.warn(\n"
          ]
        },
        {
          "output_type": "stream",
          "name": "stdout",
          "text": [
            "Evaluation for dataset 2_42: {'correctly_detected': 10, 'false_negatives': 0, 'false_positives': 32, 'total_injected': 10, 'total_detected': 42, 'details': {'correctly_detected_indices': [135, 136, 137, 138, 139, 80, 81, 82, 83, 84], 'false_negative_indices': [], 'false_positive_indices': [128, 129, 130, 5, 6, 7, 8, 9, 133, 134, 140, 141, 142, 144, 21, 150, 23, 35, 175, 48, 177, 178, 54, 111, 120, 121, 122, 123, 124, 125, 126, 127]}}\n"
          ]
        },
        {
          "output_type": "stream",
          "name": "stderr",
          "text": [
            "/usr/local/lib/python3.10/dist-packages/sklearn/base.py:439: UserWarning: X does not have valid feature names, but IsolationForest was fitted with feature names\n",
            "  warnings.warn(\n"
          ]
        },
        {
          "output_type": "stream",
          "name": "stdout",
          "text": [
            "Evaluation for dataset 2_43: {'correctly_detected': 1, 'false_negatives': 9, 'false_positives': 41, 'total_injected': 10, 'total_detected': 42, 'details': {'correctly_detected_indices': [150], 'false_negative_indices': [151, 152, 153, 154, 155, 156, 157, 158, 159], 'false_positive_indices': [128, 129, 130, 131, 132, 5, 6, 7, 8, 9, 133, 134, 135, 137, 138, 139, 140, 142, 143, 144, 24, 37, 38, 176, 177, 178, 179, 80, 81, 82, 83, 84, 104, 120, 121, 122, 123, 124, 125, 126, 127]}}\n"
          ]
        },
        {
          "output_type": "stream",
          "name": "stderr",
          "text": [
            "/usr/local/lib/python3.10/dist-packages/sklearn/base.py:439: UserWarning: X does not have valid feature names, but IsolationForest was fitted with feature names\n",
            "  warnings.warn(\n"
          ]
        },
        {
          "output_type": "stream",
          "name": "stdout",
          "text": [
            "Evaluation for dataset 2_44: {'correctly_detected': 0, 'false_negatives': 10, 'false_positives': 42, 'total_injected': 10, 'total_detected': 42, 'details': {'correctly_detected_indices': [], 'false_negative_indices': [165, 166, 167, 168, 169, 110, 111, 112, 113, 114], 'false_positive_indices': [128, 1, 129, 131, 130, 5, 6, 7, 8, 9, 134, 136, 137, 140, 142, 144, 147, 150, 35, 36, 37, 47, 48, 176, 177, 178, 179, 64, 199, 80, 81, 82, 83, 84, 120, 121, 122, 123, 124, 125, 126, 127]}}\n"
          ]
        },
        {
          "output_type": "stream",
          "name": "stderr",
          "text": [
            "/usr/local/lib/python3.10/dist-packages/sklearn/base.py:439: UserWarning: X does not have valid feature names, but IsolationForest was fitted with feature names\n",
            "  warnings.warn(\n"
          ]
        },
        {
          "output_type": "stream",
          "name": "stdout",
          "text": [
            "Evaluation for dataset 2_45: {'correctly_detected': 0, 'false_negatives': 10, 'false_positives': 42, 'total_injected': 10, 'total_detected': 42, 'details': {'correctly_detected_indices': [], 'false_negative_indices': [75, 76, 45, 46, 47, 48, 49, 77, 78, 79], 'false_positive_indices': [128, 129, 130, 132, 5, 6, 7, 8, 9, 133, 134, 135, 136, 137, 138, 139, 140, 141, 142, 143, 144, 150, 155, 37, 176, 53, 203, 80, 81, 82, 83, 84, 105, 119, 120, 121, 122, 123, 124, 125, 126, 127]}}\n"
          ]
        },
        {
          "output_type": "stream",
          "name": "stderr",
          "text": [
            "/usr/local/lib/python3.10/dist-packages/sklearn/base.py:439: UserWarning: X does not have valid feature names, but IsolationForest was fitted with feature names\n",
            "  warnings.warn(\n"
          ]
        },
        {
          "output_type": "stream",
          "name": "stdout",
          "text": [
            "Evaluation for dataset 2_46: {'correctly_detected': 0, 'false_negatives': 5, 'false_positives': 42, 'total_injected': 5, 'total_detected': 42, 'details': {'correctly_detected_indices': [], 'false_negative_indices': [20, 21, 22, 23, 24], 'false_positive_indices': [0, 128, 129, 130, 131, 5, 6, 7, 8, 9, 132, 133, 134, 135, 136, 137, 138, 139, 140, 142, 143, 144, 150, 39, 175, 176, 177, 179, 73, 80, 81, 82, 83, 84, 120, 121, 122, 123, 124, 125, 126, 127]}}\n"
          ]
        },
        {
          "output_type": "stream",
          "name": "stderr",
          "text": [
            "/usr/local/lib/python3.10/dist-packages/sklearn/base.py:439: UserWarning: X does not have valid feature names, but IsolationForest was fitted with feature names\n",
            "  warnings.warn(\n"
          ]
        },
        {
          "output_type": "stream",
          "name": "stdout",
          "text": [
            "Evaluation for dataset 2_47: {'correctly_detected': 1, 'false_negatives': 9, 'false_positives': 41, 'total_injected': 10, 'total_detected': 42, 'details': {'correctly_detected_indices': [48], 'false_negative_indices': [195, 196, 197, 198, 199, 45, 46, 47, 49], 'false_positive_indices': [128, 129, 131, 132, 5, 6, 7, 8, 9, 133, 134, 135, 136, 140, 141, 142, 143, 144, 150, 152, 155, 35, 36, 37, 171, 175, 176, 80, 81, 82, 83, 84, 103, 120, 121, 122, 123, 124, 125, 126, 127]}}\n"
          ]
        },
        {
          "output_type": "stream",
          "name": "stderr",
          "text": [
            "/usr/local/lib/python3.10/dist-packages/sklearn/base.py:439: UserWarning: X does not have valid feature names, but IsolationForest was fitted with feature names\n",
            "  warnings.warn(\n"
          ]
        },
        {
          "output_type": "stream",
          "name": "stdout",
          "text": [
            "Evaluation for dataset 2_48: {'correctly_detected': 8, 'false_negatives': 2, 'false_positives': 34, 'total_injected': 10, 'total_detected': 42, 'details': {'correctly_detected_indices': [135, 136, 137, 138, 139, 140, 142, 144], 'false_negative_indices': [141, 143], 'false_positive_indices': [128, 129, 130, 131, 132, 5, 6, 7, 8, 9, 133, 134, 150, 36, 38, 39, 175, 48, 176, 80, 81, 82, 83, 84, 110, 113, 120, 121, 122, 123, 124, 125, 126, 127]}}\n",
            "Evaluation for dataset 2_49: {'correctly_detected': 0, 'false_negatives': 10, 'false_positives': 42, 'total_injected': 10, 'total_detected': 42, 'details': {'correctly_detected_indices': [], 'false_negative_indices': [0, 1, 2, 3, 4, 180, 181, 182, 183, 184], 'false_positive_indices': [128, 129, 130, 132, 5, 6, 7, 8, 9, 133, 134, 135, 136, 137, 138, 139, 140, 141, 142, 143, 144, 150, 37, 38, 39, 46, 175, 49, 80, 81, 82, 83, 84, 113, 120, 121, 122, 123, 124, 125, 126, 127]}}\n",
            "     correctly_detected  false_negatives  false_positives  total_injected  \\\n",
            "0                     3                7               39              10   \n",
            "1                     5                5               37              10   \n",
            "2                     3                7               39              10   \n",
            "3                     5                5               37              10   \n",
            "4                     1                9               41              10   \n",
            "..                  ...              ...              ...             ...   \n",
            "145                   0               10               42              10   \n",
            "146                   0                5               42               5   \n",
            "147                   1                9               41              10   \n",
            "148                   8                2               34              10   \n",
            "149                   0               10               42              10   \n",
            "\n",
            "     total_detected                                            details  \n",
            "0                42  {'correctly_detected_indices': [176, 178, 179]...  \n",
            "1                42  {'correctly_detected_indices': [5, 6, 7, 8, 9]...  \n",
            "2                42  {'correctly_detected_indices': [36, 37, 38], '...  \n",
            "3                42  {'correctly_detected_indices': [5, 6, 7, 8, 9]...  \n",
            "4                42  {'correctly_detected_indices': [36], 'false_ne...  \n",
            "..              ...                                                ...  \n",
            "145              42  {'correctly_detected_indices': [], 'false_nega...  \n",
            "146              42  {'correctly_detected_indices': [], 'false_nega...  \n",
            "147              42  {'correctly_detected_indices': [48], 'false_ne...  \n",
            "148              42  {'correctly_detected_indices': [135, 136, 137,...  \n",
            "149              42  {'correctly_detected_indices': [], 'false_nega...  \n",
            "\n",
            "[150 rows x 6 columns]\n"
          ]
        },
        {
          "output_type": "stream",
          "name": "stderr",
          "text": [
            "/usr/local/lib/python3.10/dist-packages/sklearn/base.py:439: UserWarning: X does not have valid feature names, but IsolationForest was fitted with feature names\n",
            "  warnings.warn(\n"
          ]
        }
      ],
      "source": [
        "import pandas as pd\n",
        "import numpy as np\n",
        "import json\n",
        "import os\n",
        "import random\n",
        "from datetime import datetime\n",
        "from sklearn.ensemble import IsolationForest\n",
        "import zipfile\n",
        "from sentence_transformers import SentenceTransformer\n",
        "import pinecone\n",
        "\n",
        "def load_data(file_path):\n",
        "    \"\"\" Load data from a CSV file. \"\"\"\n",
        "    return pd.read_csv(file_path)\n",
        "\n",
        "def generate_synthetic_data(df, column_ranges, noise_level=0.1, tolerance_factor=0.3):\n",
        "    \"\"\" Generate synthetic data with more variability. \"\"\"\n",
        "    synthetic_df = df.copy()\n",
        "    for col in df.select_dtypes(include=[np.number]).columns:\n",
        "        range_width = column_ranges[col]['max'] - column_ranges[col]['min']\n",
        "        noise = np.random.normal(0, range_width * noise_level, size=len(df))\n",
        "        synthetic_df[col] = df[col] + noise\n",
        "        synthetic_df[col] = np.clip(synthetic_df[col], column_ranges[col]['min'], column_ranges[col]['max'])\n",
        "    return synthetic_df\n",
        "\n",
        "def dynamic_severity_adjustment(base_severity):\n",
        "    \"\"\" Adjust severity based on the current time of day. \"\"\"\n",
        "    current_hour = datetime.now().hour\n",
        "    adjusted_severity = base_severity * 1.2 if 8 <= current_hour <= 20 else base_severity * 0.8\n",
        "    return adjusted_severity + random.uniform(-0.05, 0.05)\n",
        "\n",
        "def inject_issue(df, path_set, column_ranges, issue_type='latency', base_severity=0.1):\n",
        "    \"\"\" Inject an issue into both root cause node and target node and mark them accordingly in the issue_injected column.\n",
        "        Additionally, include the path involved in each row. \"\"\"\n",
        "    suitable_columns = [col for col in df.columns if col.endswith('Average') or col.startswith('latency_')]\n",
        "    issue_column = random.choice(suitable_columns)\n",
        "    path = random.choice(path_set)\n",
        "    microservice = random.choice(path)  # This will be considered as the root cause node.\n",
        "    target_node = random.choice([node for node in path if node != microservice])  # Target node.\n",
        "\n",
        "    severity = dynamic_severity_adjustment(base_severity)\n",
        "    adjustment_factor = 1 + severity if issue_type == 'latency' else 1 - severity\n",
        "\n",
        "    df.loc[:, issue_column] *= adjustment_factor\n",
        "    df.loc[:, issue_column] = np.clip(df.loc[:, issue_column], column_ranges[issue_column]['min'], column_ranges[issue_column]['max'])\n",
        "\n",
        "    df['issue_injected'] = df['microservice'].apply(\n",
        "        lambda x: 'root_cause_node' if x == microservice else ('target_node' if x == target_node else 'no_issue'))\n",
        "\n",
        "    path_str = ' -> '.join(path)\n",
        "    df['path'] = path_str\n",
        "\n",
        "    return df, {'target_node': target_node, 'root_cause_node': microservice, 'issue_type': issue_type, 'severity': severity, 'affected_column': issue_column, 'timestamp': str(datetime.now()), 'paths': path}\n",
        "\n",
        "def save_data(df, ground_truth, output_dir, i):\n",
        "    \"\"\" Save synthetic data and corresponding ground truth. \"\"\"\n",
        "    synthetic_file_path = os.path.join(output_dir, f'synthetic_data_{i}_issue.csv')\n",
        "    ground_truth_file_path = os.path.join(output_dir, f'ground_truth_{i}_issue.json')\n",
        "    df.to_csv(synthetic_file_path, index=False)\n",
        "    with open(ground_truth_file_path, 'w') as f:\n",
        "        json.dump(ground_truth, f)\n",
        "\n",
        "def apply_isolation_forest(df, numeric_columns):\n",
        "    \"\"\" Detect anomalies using the Isolation Forest algorithm. \"\"\"\n",
        "    isolation_forest = IsolationForest(contamination=0.2)\n",
        "    isolation_forest.fit(df[numeric_columns])\n",
        "    df['anomaly'] = isolation_forest.predict(df[numeric_columns])\n",
        "    return df[df['anomaly'] == -1]\n",
        "\n",
        "def evaluate_anomalies(df, ground_truth, numeric_columns):\n",
        "    \"\"\" Evaluate detected anomalies against ground truth. \"\"\"\n",
        "    anomalies = apply_isolation_forest(df, numeric_columns)\n",
        "    anomaly_indices = set(anomalies.index)\n",
        "    injected_indices = set(df[df['issue_injected'] != 'no_issue'].index)\n",
        "    correctly_detected = anomaly_indices.intersection(injected_indices)\n",
        "    false_negatives = injected_indices.difference(anomaly_indices)\n",
        "    false_positives = anomaly_indices.difference(injected_indices)\n",
        "\n",
        "    evaluation_summary = {\n",
        "        'correctly_detected': len(correctly_detected),\n",
        "        'false_negatives': len(false_negatives),\n",
        "        'false_positives': len(false_positives),\n",
        "        'total_injected': len(injected_indices),\n",
        "        'total_detected': len(anomaly_indices),\n",
        "        'details': {\n",
        "            'correctly_detected_indices': list(correctly_detected),\n",
        "            'false_negative_indices': list(false_negatives),\n",
        "            'false_positive_indices': list(false_positives)\n",
        "        }\n",
        "    }\n",
        "    return evaluation_summary\n",
        "\n",
        "def create_textual_representation(row):\n",
        "    text = f\"On {row['timestamp']}, the service {row['microservice']} reported metrics with \"\n",
        "    text += f\"an availability of {row['availability_Average']}%, \"\n",
        "    text += f\"an average latency of {row['latency_Average']} ms, \"\n",
        "    text += f\"and peak latencies at p50: {row['latency_p50']} ms, p90: {row['latency_p90']} ms, p95: {row['latency_p95']} ms, \"\n",
        "    text += f\"and p99: {row['latency_p99']} ms. Total requests were {row['requests_Sum']}. \"\n",
        "\n",
        "    if row['issue_injected'] == 'root_cause_node':\n",
        "        text += f\"This service was identified as the root cause of a performance issue. \"\n",
        "    elif row['issue_injected'] == 'target_node':\n",
        "        text += f\"This service was affected as a target node in the performance issue. \"\n",
        "    else:\n",
        "        text += f\"No significant issues were detected. \"\n",
        "\n",
        "    text += f\"Service path involved: {row['path']}.\"\n",
        "\n",
        "    return text\n",
        "\n",
        "\n",
        "def main(path_set_file, original_file_paths, output_dir, num_datasets, column_ranges):\n",
        "    \"\"\" Main function to process data and evaluate anomalies. \"\"\"\n",
        "    with open(path_set_file) as f:\n",
        "        path_set = json.load(f)\n",
        "\n",
        "    evaluations = []\n",
        "    os.makedirs(output_dir, exist_ok=True)\n",
        "\n",
        "    for i, file_path in enumerate(original_file_paths):\n",
        "        df = load_data(file_path)\n",
        "        for j in range(num_datasets):\n",
        "            synthetic_df = generate_synthetic_data(df, column_ranges)\n",
        "            synthetic_df, ground_truth = inject_issue(synthetic_df, path_set, column_ranges)\n",
        "\n",
        "            synthetic_df['textual_representation'] = synthetic_df.apply(create_textual_representation, axis=1)\n",
        "\n",
        "            save_data(synthetic_df, ground_truth, output_dir, f'{i}_{j}')\n",
        "\n",
        "            numeric_columns = df.select_dtypes(include=[np.number]).columns.tolist()\n",
        "            evaluation = evaluate_anomalies(synthetic_df, ground_truth, numeric_columns)\n",
        "            evaluations.append(evaluation)\n",
        "            print(f\"Evaluation for dataset {i}_{j}: {evaluation}\")\n",
        "\n",
        "    save_evaluation_results(evaluations, output_dir)\n",
        "    zip_synthetic_data(output_dir, 'synthetic_data.zip')\n",
        "\n",
        "def save_evaluation_results(evaluations, output_dir):\n",
        "    \"\"\" Save a summary of the evaluations. \"\"\"\n",
        "    eval_df = pd.DataFrame(evaluations)\n",
        "    eval_summary_path = os.path.join(output_dir, 'evaluations_summary.csv')\n",
        "    eval_df.to_csv(eval_summary_path, index=False)\n",
        "    print(eval_df)\n",
        "\n",
        "def zip_synthetic_data(output_dir, zip_filename):\n",
        "    \"\"\" Zip all synthetic data files into a single zip file. \"\"\"\n",
        "    with zipfile.ZipFile(os.path.join(output_dir, zip_filename), 'w') as zipf:\n",
        "        for root, _, files in os.walk(output_dir):\n",
        "            for file in files:\n",
        "                if file.endswith('.csv') or file.endswith('.json'):\n",
        "                    zipf.write(os.path.join(root, file), os.path.relpath(os.path.join(root, file), output_dir))\n",
        "\n",
        "if __name__ == \"__main__\":\n",
        "    path_set_file = '/content/path_sets.json'\n",
        "    original_file_paths = [\n",
        "        '/content/transformed_transposed_issue0_metrics.csv',\n",
        "        '/content/transformed_transposed_issue1_metrics.csv',\n",
        "        '/content/transformed_transposed_issue2_metrics.csv'\n",
        "    ]\n",
        "    output_dir = '/content/Synthetic_datasets_v1'\n",
        "    column_ranges = {\n",
        "        'availability_Average': {'min': 0.0, 'max': 100.0},\n",
        "        'latency_Average': {'min': 0.0, 'max': 4.91},\n",
        "        'latency_p50': {'min': 0.0, 'max': 5.83},\n",
        "        'latency_p90': {'min': 0.0, 'max': 6.60},\n",
        "        'latency_p95': {'min': 0.0, 'max': 6.74},\n",
        "        'latency_p99': {'min': 0.0, 'max': 6.76},\n",
        "        'requests_Sum': {'min': 0.0, 'max': 1287.0}\n",
        "    }\n",
        "    main(path_set_file, original_file_paths, output_dir, 50, column_ranges)\n"
      ]
    },
    {
      "cell_type": "code",
      "source": [],
      "metadata": {
        "id": "nbFq7oUvqggL"
      },
      "execution_count": null,
      "outputs": []
    },
    {
      "cell_type": "code",
      "source": [
        "test"
      ],
      "metadata": {
        "id": "YEaxSCcUqgdi"
      },
      "execution_count": null,
      "outputs": []
    },
    {
      "cell_type": "code",
      "source": [
        "import pandas as pd\n",
        "import numpy as np\n",
        "import json\n",
        "import os\n",
        "import random\n",
        "from datetime import datetime\n",
        "from sklearn.ensemble import IsolationForest\n",
        "import zipfile\n",
        "from sentence_transformers import SentenceTransformer\n",
        "\n",
        "def load_data(file_path):\n",
        "    \"\"\" Load data from a CSV file. \"\"\"\n",
        "    return pd.read_csv(file_path)\n",
        "\n",
        "def generate_synthetic_data(df, column_ranges, noise_level=0.1, tolerance_factor=0.3):\n",
        "    \"\"\" Generate synthetic data with more variability. \"\"\"\n",
        "    synthetic_df = df.copy()\n",
        "    for col in df.select_dtypes(include=[np.number]).columns:\n",
        "        range_width = column_ranges[col]['max'] - column_ranges[col]['min']\n",
        "        noise = np.random.normal(0, range_width * noise_level, size=len(df))\n",
        "        synthetic_df[col] = df[col] + noise\n",
        "        synthetic_df[col] = np.clip(synthetic_df[col], column_ranges[col]['min'], column_ranges[col]['max'])\n",
        "    return synthetic_df\n",
        "\n",
        "def dynamic_severity_adjustment(base_severity):\n",
        "    \"\"\" Adjust severity based on the current time of day. \"\"\"\n",
        "    current_hour = datetime.now().hour\n",
        "    adjusted_severity = base_severity * 1.2 if 8 <= current_hour <= 20 else base_severity * 0.8\n",
        "    return adjusted_severity + random.uniform(-0.05, 0.05)\n",
        "\n",
        "def inject_issue(df, path_set, column_ranges, issue_type='latency', base_severity=0.1):\n",
        "    \"\"\" Inject an issue into both root cause node and target node and mark them accordingly in the issue_injected column.\n",
        "        Additionally, include the path involved in each row. \"\"\"\n",
        "    suitable_columns = [col for col in df.columns if col.endswith('Average') or col.startswith('latency_')]\n",
        "    issue_column = random.choice(suitable_columns)\n",
        "    path = random.choice(path_set)\n",
        "    microservice = random.choice(path)  # This will be considered as the root cause node.\n",
        "    target_node = random.choice([node for node in path if node != microservice])  # Target node.\n",
        "\n",
        "    severity = dynamic_severity_adjustment(base_severity)\n",
        "    adjustment_factor = 1 + severity if issue_type == 'latency' else 1 - severity\n",
        "\n",
        "    df.loc[:, issue_column] *= adjustment_factor\n",
        "    df.loc[:, issue_column] = np.clip(df.loc[:, issue_column], column_ranges[issue_column]['min'], column_ranges[issue_column]['max'])\n",
        "\n",
        "    df['issue_injected'] = df['microservice'].apply(\n",
        "        lambda x: 'root_cause_node' if x == microservice else ('target_node' if x == target_node else 'no_issue'))\n",
        "\n",
        "    path_str = ' -> '.join(path)\n",
        "    df['path'] = path_str\n",
        "\n",
        "    return df, {'target_node': target_node, 'root_cause_node': microservice, 'issue_type': issue_type, 'severity': severity, 'affected_column': issue_column, 'timestamp': str(datetime.now()), 'paths': path}\n",
        "\n",
        "def create_textual_representation(row):\n",
        "    text = f\"On {row['timestamp']}, the service {row['microservice']} reported metrics with \"\n",
        "    text += f\"an availability of {row['availability_Average']}%, \"\n",
        "    text += f\"an average latency of {row['latency_Average']} ms, \"\n",
        "    text += f\"and peak latencies at p50: {row['latency_p50']} ms, p90: {row['latency_p90']} ms, p95: {row['latency_p95']} ms, \"\n",
        "    text += f\"and p99: {row['latency_p99']} ms. Total requests were {row['requests_Sum']}. \"\n",
        "\n",
        "    if row['issue_injected'] == 'root_cause_node':\n",
        "        text += f\"This service was identified as the root cause of a performance issue. \"\n",
        "    elif row['issue_injected'] == 'target_node':\n",
        "        text += f\"This service was affected as a target node in the performance issue. \"\n",
        "    else:\n",
        "        text += f\"No significant issues were detected. \"\n",
        "\n",
        "    text += f\"Service path involved: {row['path']}.\"\n",
        "    return text\n",
        "\n",
        "def save_data(df, ground_truth, output_dir, i):\n",
        "    \"\"\" Save synthetic data and corresponding ground truth. \"\"\"\n",
        "    synthetic_file_path = os.path.join(output_dir, f'synthetic_data_{i}_issue.csv')\n",
        "    ground_truth_file_path = os.path.join(output_dir, f'ground_truth_{i}_issue.json')\n",
        "    df.to_csv(synthetic_file_path, index=False)\n",
        "    with open(ground_truth_file_path, 'w') as f:\n",
        "        json.dump(ground_truth, f)\n",
        "\n",
        "def apply_isolation_forest(df, numeric_columns):\n",
        "    \"\"\" Detect anomalies using the Isolation Forest algorithm. \"\"\"\n",
        "    isolation_forest = IsolationForest(contamination=0.2)\n",
        "    isolation_forest.fit(df[numeric_columns])\n",
        "    df['anomaly'] = isolation_forest.predict(df[numeric_columns])\n",
        "    return df[df['anomaly'] == -1]\n",
        "\n",
        "def evaluate_anomalies(df, ground_truth, numeric_columns):\n",
        "    \"\"\" Evaluate detected anomalies against ground truth. \"\"\"\n",
        "    anomalies = apply_isolation_forest(df, numeric_columns)\n",
        "    anomaly_indices = set(anomalies.index)\n",
        "    injected_indices = set(df[df['issue_injected'] != 'no_issue'].index)\n",
        "    correctly_detected = anomaly_indices.intersection(injected_indices)\n",
        "    false_negatives = injected_indices.difference(anomaly_indices)\n",
        "    false_positives = anomaly_indices.difference(injected_indices)\n",
        "\n",
        "    evaluation_summary = {\n",
        "        'correctly_detected': len(correctly_detected),\n",
        "        'false_negatives': len(false_negatives),\n",
        "        'false_positives': len(false_positives),\n",
        "        'total_injected': len(injected_indices),\n",
        "        'total_detected': len(anomaly_indices),\n",
        "        'details': {\n",
        "            'correctly_detected_indices': list(correctly_detected),\n",
        "            'false_negative_indices': list(false_negatives),\n",
        "            'false_positive_indices': list(false_positives)\n",
        "        }\n",
        "    }\n",
        "    return evaluation_summary\n",
        "\n",
        "def main(path_set_file, original_file_paths, output_dir, num_datasets, column_ranges):\n",
        "    \"\"\" Main function to process data and evaluate anomalies. \"\"\"\n",
        "    with open(path_set_file) as f:\n",
        "        path_set = json.load(f)\n",
        "\n",
        "    evaluations = []\n",
        "    os.makedirs(output_dir, exist_ok=True)\n",
        "\n",
        "    for i, file_path in enumerate(original_file_paths):\n",
        "        df = load_data(file_path)\n",
        "        for j in range(num_datasets):\n",
        "            synthetic_df = generate_synthetic_data(df, column_ranges)\n",
        "            synthetic_df, ground_truth = inject_issue(synthetic_df, path_set, column_ranges)\n",
        "\n",
        "            synthetic_df['textual_representation'] = synthetic_df.apply(create_textual_representation, axis=1)\n",
        "\n",
        "            save_data(synthetic_df, ground_truth, output_dir, f'{i}_{j}')\n",
        "\n",
        "            numeric_columns = df.select_dtypes(include=[np.number]).columns.tolist()\n",
        "            evaluation = evaluate_anomalies(synthetic_df, ground_truth, numeric_columns)\n",
        "            evaluations.append(evaluation)\n",
        "            print(f\"Evaluation for dataset {i}_{j}: {evaluation}\")\n",
        "\n",
        "    save_evaluation_results(evaluations, output_dir)\n",
        "    zip_synthetic_data(output_dir, 'synthetic_data.zip')\n",
        "\n",
        "def save_evaluation_results(evaluations, output_dir):\n",
        "    \"\"\" Save a summary of the evaluations. \"\"\"\n",
        "    eval_df = pd.DataFrame(evaluations)\n",
        "    eval_summary_path = os.path.join(output_dir, 'evaluations_summary.csv')\n",
        "    eval_df.to_csv(eval_summary_path, index=False)\n",
        "    print(eval_df)\n",
        "\n",
        "def zip_synthetic_data(output_dir, zip_filename):\n",
        "    \"\"\" Zip all synthetic data files into a single zip file. \"\"\"\n",
        "    with zipfile.ZipFile(os.path.join(output_dir, zip_filename), 'w') as zipf:\n",
        "        for root, _, files in os.walk(output_dir):\n",
        "            for file in files:\n",
        "                if file.endswith('.csv') or file.endswith('.json'):\n",
        "                    zipf.write(os.path.join(root, file), os.path.relpath(os.path.join(root, file), output_dir))\n",
        "\n",
        "if __name__ == \"__main__\":\n",
        "    path_set_file = '/content/path_sets.json'\n",
        "    original_file_paths = [\n",
        "        '/content/drive/MyDrive/DATA/Transformed_metric_high_test/transformed_transposed_issue17_metrics.csv',\n",
        "        '/content/drive/MyDrive/DATA/Transformed_metric_high_test/transformed_transposed_issue13_metrics.csv',\n",
        "        '/content/drive/MyDrive/DATA/Transformed_metric_high_test/transformed_transposed_issue10_metrics.csv',\n",
        "        '/content/drive/MyDrive/DATA/Transformed_metric_high_test/transformed_transposed_issue2_metrics.csv',\n",
        "        '/content/drive/MyDrive/DATA/Transformed_metric_high_test/transformed_transposed_issue6_metrics.csv',\n",
        "        '/content/drive/MyDrive/DATA/Transformed_metric_high_test/transformed_transposed_issue3_metrics.csv',\n",
        "\n",
        "\n",
        "    ]\n",
        "    output_dir = '/content/High Traffic_test_Synthetic_datasets'\n",
        "    column_ranges = {\n",
        "        'availability_Average': {'min': 0.0, 'max': 100.0},\n",
        "        'latency_Average': {'min': 0.0, 'max': 4.91},\n",
        "        'latency_p50': {'min': 0.0, 'max': 5.83},\n",
        "        'latency_p90': {'min': 0.0, 'max': 6.60},\n",
        "        'latency_p95': {'min': 0.0, 'max': 6.74},\n",
        "        'latency_p99': {'min': 0.0, 'max': 6.76},\n",
        "        'requests_Sum': {'min': 0.0, 'max': 1287.0}\n",
        "    }\n",
        "    main(path_set_file, original_file_paths, output_dir, 10, column_ranges)\n"
      ],
      "metadata": {
        "colab": {
          "base_uri": "https://localhost:8080/"
        },
        "id": "z9_D8cxSqgbC",
        "outputId": "3b2df15c-a545-4efd-c6f9-b2e6979d4678"
      },
      "execution_count": null,
      "outputs": [
        {
          "output_type": "stream",
          "name": "stderr",
          "text": [
            "/usr/local/lib/python3.10/dist-packages/sklearn/base.py:439: UserWarning: X does not have valid feature names, but IsolationForest was fitted with feature names\n",
            "  warnings.warn(\n"
          ]
        },
        {
          "output_type": "stream",
          "name": "stdout",
          "text": [
            "Evaluation for dataset 0_0: {'correctly_detected': 0, 'false_negatives': 10, 'false_positives': 44, 'total_injected': 10, 'total_detected': 44, 'details': {'correctly_detected_indices': [], 'false_negative_indices': [65, 66, 67, 68, 69, 185, 186, 187, 188, 189], 'false_positive_indices': [128, 129, 130, 132, 5, 6, 7, 8, 9, 134, 135, 136, 137, 138, 139, 140, 141, 142, 143, 144, 152, 35, 36, 37, 38, 45, 47, 175, 180, 181, 82, 83, 84, 115, 118, 119, 120, 121, 122, 123, 124, 125, 126, 127]}}\n"
          ]
        },
        {
          "output_type": "stream",
          "name": "stderr",
          "text": [
            "/usr/local/lib/python3.10/dist-packages/sklearn/base.py:439: UserWarning: X does not have valid feature names, but IsolationForest was fitted with feature names\n",
            "  warnings.warn(\n"
          ]
        },
        {
          "output_type": "stream",
          "name": "stdout",
          "text": [
            "Evaluation for dataset 0_1: {'correctly_detected': 3, 'false_negatives': 7, 'false_positives': 41, 'total_injected': 10, 'total_detected': 44, 'details': {'correctly_detected_indices': [36, 37, 39], 'false_negative_indices': [35, 38, 185, 186, 187, 188, 189], 'false_positive_indices': [128, 129, 130, 131, 5, 6, 7, 8, 9, 133, 135, 136, 137, 138, 139, 140, 141, 142, 143, 144, 152, 157, 46, 180, 181, 182, 184, 82, 83, 84, 115, 118, 119, 120, 121, 122, 123, 124, 125, 126, 127]}}\n"
          ]
        },
        {
          "output_type": "stream",
          "name": "stderr",
          "text": [
            "/usr/local/lib/python3.10/dist-packages/sklearn/base.py:439: UserWarning: X does not have valid feature names, but IsolationForest was fitted with feature names\n",
            "  warnings.warn(\n"
          ]
        },
        {
          "output_type": "stream",
          "name": "stdout",
          "text": [
            "Evaluation for dataset 0_2: {'correctly_detected': 0, 'false_negatives': 10, 'false_positives': 44, 'total_injected': 10, 'total_detected': 44, 'details': {'correctly_detected_indices': [], 'false_negative_indices': [100, 101, 102, 103, 104, 170, 171, 172, 173, 174], 'false_positive_indices': [128, 129, 130, 131, 132, 5, 6, 7, 8, 9, 133, 134, 135, 136, 137, 138, 139, 140, 141, 142, 143, 144, 152, 157, 35, 46, 48, 180, 183, 82, 83, 84, 94, 115, 118, 119, 120, 121, 122, 123, 124, 125, 126, 127]}}\n"
          ]
        },
        {
          "output_type": "stream",
          "name": "stderr",
          "text": [
            "/usr/local/lib/python3.10/dist-packages/sklearn/base.py:439: UserWarning: X does not have valid feature names, but IsolationForest was fitted with feature names\n",
            "  warnings.warn(\n"
          ]
        },
        {
          "output_type": "stream",
          "name": "stdout",
          "text": [
            "Evaluation for dataset 0_3: {'correctly_detected': 0, 'false_negatives': 10, 'false_positives': 44, 'total_injected': 10, 'total_detected': 44, 'details': {'correctly_detected_indices': [], 'false_negative_indices': [45, 46, 47, 48, 49, 145, 146, 147, 148, 149], 'false_positive_indices': [128, 129, 130, 131, 132, 5, 6, 7, 8, 9, 133, 134, 135, 136, 137, 138, 139, 140, 141, 142, 143, 144, 152, 157, 37, 52, 181, 183, 74, 82, 83, 84, 101, 115, 118, 119, 120, 121, 122, 123, 124, 125, 126, 127]}}\n"
          ]
        },
        {
          "output_type": "stream",
          "name": "stderr",
          "text": [
            "/usr/local/lib/python3.10/dist-packages/sklearn/base.py:439: UserWarning: X does not have valid feature names, but IsolationForest was fitted with feature names\n",
            "  warnings.warn(\n"
          ]
        },
        {
          "output_type": "stream",
          "name": "stdout",
          "text": [
            "Evaluation for dataset 0_4: {'correctly_detected': 1, 'false_negatives': 9, 'false_positives': 43, 'total_injected': 10, 'total_detected': 44, 'details': {'correctly_detected_indices': [49], 'false_negative_indices': [65, 66, 67, 68, 69, 45, 46, 47, 48], 'false_positive_indices': [128, 129, 130, 131, 132, 5, 6, 7, 8, 9, 133, 134, 135, 136, 137, 138, 139, 140, 141, 142, 143, 144, 152, 157, 35, 36, 37, 39, 181, 82, 83, 84, 115, 118, 119, 120, 121, 122, 123, 124, 125, 126, 127]}}\n"
          ]
        },
        {
          "output_type": "stream",
          "name": "stderr",
          "text": [
            "/usr/local/lib/python3.10/dist-packages/sklearn/base.py:439: UserWarning: X does not have valid feature names, but IsolationForest was fitted with feature names\n",
            "  warnings.warn(\n"
          ]
        },
        {
          "output_type": "stream",
          "name": "stdout",
          "text": [
            "Evaluation for dataset 0_5: {'correctly_detected': 0, 'false_negatives': 10, 'false_positives': 44, 'total_injected': 10, 'total_detected': 44, 'details': {'correctly_detected_indices': [], 'false_negative_indices': [10, 11, 12, 13, 14, 185, 186, 187, 188, 189], 'false_positive_indices': [128, 129, 130, 131, 132, 5, 6, 7, 8, 9, 133, 134, 135, 136, 137, 138, 139, 140, 141, 152, 157, 36, 37, 39, 179, 180, 183, 184, 206, 82, 83, 84, 100, 115, 118, 119, 120, 121, 122, 123, 124, 125, 126, 127]}}\n"
          ]
        },
        {
          "output_type": "stream",
          "name": "stderr",
          "text": [
            "/usr/local/lib/python3.10/dist-packages/sklearn/base.py:439: UserWarning: X does not have valid feature names, but IsolationForest was fitted with feature names\n",
            "  warnings.warn(\n"
          ]
        },
        {
          "output_type": "stream",
          "name": "stdout",
          "text": [
            "Evaluation for dataset 0_6: {'correctly_detected': 10, 'false_negatives': 0, 'false_positives': 34, 'total_injected': 10, 'total_detected': 44, 'details': {'correctly_detected_indices': [128, 129, 120, 121, 122, 123, 124, 125, 126, 127], 'false_negative_indices': [], 'false_positive_indices': [130, 131, 132, 5, 6, 7, 8, 9, 134, 135, 136, 137, 138, 140, 141, 142, 143, 144, 152, 157, 45, 46, 47, 180, 181, 182, 185, 80, 82, 83, 84, 115, 118, 119]}}\n"
          ]
        },
        {
          "output_type": "stream",
          "name": "stderr",
          "text": [
            "/usr/local/lib/python3.10/dist-packages/sklearn/base.py:439: UserWarning: X does not have valid feature names, but IsolationForest was fitted with feature names\n",
            "  warnings.warn(\n"
          ]
        },
        {
          "output_type": "stream",
          "name": "stdout",
          "text": [
            "Evaluation for dataset 0_7: {'correctly_detected': 1, 'false_negatives': 9, 'false_positives': 43, 'total_injected': 10, 'total_detected': 44, 'details': {'correctly_detected_indices': [46], 'false_negative_indices': [170, 171, 172, 45, 173, 47, 48, 49, 174], 'false_positive_indices': [128, 129, 130, 131, 132, 5, 6, 7, 8, 9, 133, 134, 135, 136, 137, 138, 139, 140, 142, 143, 144, 152, 157, 36, 37, 38, 54, 182, 82, 83, 84, 100, 115, 118, 119, 120, 121, 122, 123, 124, 125, 126, 127]}}\n"
          ]
        },
        {
          "output_type": "stream",
          "name": "stderr",
          "text": [
            "/usr/local/lib/python3.10/dist-packages/sklearn/base.py:439: UserWarning: X does not have valid feature names, but IsolationForest was fitted with feature names\n",
            "  warnings.warn(\n"
          ]
        },
        {
          "output_type": "stream",
          "name": "stdout",
          "text": [
            "Evaluation for dataset 0_8: {'correctly_detected': 0, 'false_negatives': 10, 'false_positives': 44, 'total_injected': 10, 'total_detected': 44, 'details': {'correctly_detected_indices': [], 'false_negative_indices': [192, 193, 194, 185, 186, 187, 188, 189, 190, 191], 'false_positive_indices': [128, 129, 130, 131, 132, 5, 6, 7, 8, 9, 134, 135, 136, 137, 138, 139, 140, 141, 142, 143, 144, 152, 157, 36, 38, 48, 49, 182, 183, 82, 83, 84, 87, 115, 118, 119, 120, 121, 122, 123, 124, 125, 126, 127]}}\n"
          ]
        },
        {
          "output_type": "stream",
          "name": "stderr",
          "text": [
            "/usr/local/lib/python3.10/dist-packages/sklearn/base.py:439: UserWarning: X does not have valid feature names, but IsolationForest was fitted with feature names\n",
            "  warnings.warn(\n"
          ]
        },
        {
          "output_type": "stream",
          "name": "stdout",
          "text": [
            "Evaluation for dataset 0_9: {'correctly_detected': 10, 'false_negatives': 0, 'false_positives': 34, 'total_injected': 10, 'total_detected': 44, 'details': {'correctly_detected_indices': [128, 129, 120, 121, 122, 123, 124, 125, 126, 127], 'false_negative_indices': [], 'false_positive_indices': [131, 132, 5, 6, 7, 8, 9, 133, 134, 135, 136, 137, 139, 141, 142, 143, 144, 152, 157, 36, 38, 39, 49, 180, 181, 182, 183, 206, 82, 83, 84, 111, 115, 119]}}\n"
          ]
        },
        {
          "output_type": "stream",
          "name": "stderr",
          "text": [
            "/usr/local/lib/python3.10/dist-packages/sklearn/base.py:439: UserWarning: X does not have valid feature names, but IsolationForest was fitted with feature names\n",
            "  warnings.warn(\n"
          ]
        },
        {
          "output_type": "stream",
          "name": "stdout",
          "text": [
            "Evaluation for dataset 1_0: {'correctly_detected': 1, 'false_negatives': 9, 'false_positives': 43, 'total_injected': 10, 'total_detected': 44, 'details': {'correctly_detected_indices': [57], 'false_negative_indices': [155, 55, 56, 58, 59, 156, 157, 158, 159], 'false_positive_indices': [128, 129, 5, 6, 7, 8, 9, 133, 134, 135, 136, 137, 138, 139, 140, 141, 142, 143, 144, 150, 36, 37, 39, 180, 182, 183, 184, 63, 82, 83, 84, 102, 107, 117, 119, 120, 121, 122, 123, 124, 125, 126, 127]}}\n"
          ]
        },
        {
          "output_type": "stream",
          "name": "stderr",
          "text": [
            "/usr/local/lib/python3.10/dist-packages/sklearn/base.py:439: UserWarning: X does not have valid feature names, but IsolationForest was fitted with feature names\n",
            "  warnings.warn(\n"
          ]
        },
        {
          "output_type": "stream",
          "name": "stdout",
          "text": [
            "Evaluation for dataset 1_1: {'correctly_detected': 0, 'false_negatives': 10, 'false_positives': 44, 'total_injected': 10, 'total_detected': 44, 'details': {'correctly_detected_indices': [], 'false_negative_indices': [105, 106, 107, 108, 45, 46, 47, 48, 49, 109], 'false_positive_indices': [128, 129, 5, 6, 7, 8, 9, 133, 134, 135, 136, 137, 138, 139, 140, 141, 142, 143, 144, 155, 156, 36, 38, 181, 182, 184, 82, 83, 84, 87, 102, 110, 112, 114, 117, 119, 120, 121, 122, 123, 124, 125, 126, 127]}}\n"
          ]
        },
        {
          "output_type": "stream",
          "name": "stderr",
          "text": [
            "/usr/local/lib/python3.10/dist-packages/sklearn/base.py:439: UserWarning: X does not have valid feature names, but IsolationForest was fitted with feature names\n",
            "  warnings.warn(\n"
          ]
        },
        {
          "output_type": "stream",
          "name": "stdout",
          "text": [
            "Evaluation for dataset 1_2: {'correctly_detected': 3, 'false_negatives': 7, 'false_positives': 41, 'total_injected': 10, 'total_detected': 44, 'details': {'correctly_detected_indices': [82, 83, 84], 'false_negative_indices': [80, 81, 20, 21, 22, 23, 24], 'false_positive_indices': [128, 129, 5, 6, 7, 8, 9, 133, 134, 135, 136, 137, 138, 139, 140, 141, 142, 143, 144, 156, 35, 36, 37, 163, 173, 46, 47, 175, 180, 182, 183, 117, 119, 120, 121, 122, 123, 124, 125, 126, 127]}}\n"
          ]
        },
        {
          "output_type": "stream",
          "name": "stderr",
          "text": [
            "/usr/local/lib/python3.10/dist-packages/sklearn/base.py:439: UserWarning: X does not have valid feature names, but IsolationForest was fitted with feature names\n",
            "  warnings.warn(\n"
          ]
        },
        {
          "output_type": "stream",
          "name": "stdout",
          "text": [
            "Evaluation for dataset 1_3: {'correctly_detected': 0, 'false_negatives': 10, 'false_positives': 44, 'total_injected': 10, 'total_detected': 44, 'details': {'correctly_detected_indices': [], 'false_negative_indices': [170, 171, 172, 173, 174, 90, 91, 92, 93, 94], 'false_positive_indices': [128, 129, 5, 6, 7, 8, 9, 133, 134, 135, 136, 137, 138, 139, 140, 141, 142, 143, 144, 147, 148, 37, 38, 39, 46, 47, 48, 181, 182, 206, 82, 83, 84, 112, 117, 119, 120, 121, 122, 123, 124, 125, 126, 127]}}\n"
          ]
        },
        {
          "output_type": "stream",
          "name": "stderr",
          "text": [
            "/usr/local/lib/python3.10/dist-packages/sklearn/base.py:439: UserWarning: X does not have valid feature names, but IsolationForest was fitted with feature names\n",
            "  warnings.warn(\n"
          ]
        },
        {
          "output_type": "stream",
          "name": "stdout",
          "text": [
            "Evaluation for dataset 1_4: {'correctly_detected': 4, 'false_negatives': 6, 'false_positives': 40, 'total_injected': 10, 'total_detected': 44, 'details': {'correctly_detected_indices': [185, 36, 38, 39], 'false_negative_indices': [35, 37, 186, 187, 188, 189], 'false_positive_indices': [128, 129, 5, 6, 7, 8, 9, 133, 134, 135, 136, 137, 138, 139, 17, 140, 141, 142, 143, 144, 23, 48, 51, 181, 183, 184, 82, 83, 84, 108, 117, 119, 120, 121, 122, 123, 124, 125, 126, 127]}}\n"
          ]
        },
        {
          "output_type": "stream",
          "name": "stderr",
          "text": [
            "/usr/local/lib/python3.10/dist-packages/sklearn/base.py:439: UserWarning: X does not have valid feature names, but IsolationForest was fitted with feature names\n",
            "  warnings.warn(\n"
          ]
        },
        {
          "output_type": "stream",
          "name": "stdout",
          "text": [
            "Evaluation for dataset 1_5: {'correctly_detected': 1, 'false_negatives': 9, 'false_positives': 43, 'total_injected': 10, 'total_detected': 44, 'details': {'correctly_detected_indices': [45], 'false_negative_indices': [46, 47, 48, 49, 150, 151, 152, 153, 154], 'false_positive_indices': [128, 129, 5, 6, 7, 8, 9, 133, 134, 135, 136, 137, 138, 139, 140, 141, 142, 143, 144, 158, 169, 172, 183, 184, 201, 82, 83, 84, 86, 218, 100, 107, 113, 117, 119, 120, 121, 122, 123, 124, 125, 126, 127]}}\n"
          ]
        },
        {
          "output_type": "stream",
          "name": "stderr",
          "text": [
            "/usr/local/lib/python3.10/dist-packages/sklearn/base.py:439: UserWarning: X does not have valid feature names, but IsolationForest was fitted with feature names\n",
            "  warnings.warn(\n"
          ]
        },
        {
          "output_type": "stream",
          "name": "stdout",
          "text": [
            "Evaluation for dataset 1_6: {'correctly_detected': 0, 'false_negatives': 10, 'false_positives': 44, 'total_injected': 10, 'total_detected': 44, 'details': {'correctly_detected_indices': [], 'false_negative_indices': [45, 46, 47, 48, 49, 185, 186, 187, 188, 189], 'false_positive_indices': [128, 129, 5, 6, 7, 8, 9, 133, 134, 135, 136, 137, 138, 139, 140, 141, 142, 143, 144, 146, 39, 181, 182, 183, 201, 207, 82, 83, 84, 101, 102, 108, 112, 113, 117, 119, 120, 121, 122, 123, 124, 125, 126, 127]}}\n"
          ]
        },
        {
          "output_type": "stream",
          "name": "stderr",
          "text": [
            "/usr/local/lib/python3.10/dist-packages/sklearn/base.py:439: UserWarning: X does not have valid feature names, but IsolationForest was fitted with feature names\n",
            "  warnings.warn(\n"
          ]
        },
        {
          "output_type": "stream",
          "name": "stdout",
          "text": [
            "Evaluation for dataset 1_7: {'correctly_detected': 1, 'false_negatives': 9, 'false_positives': 43, 'total_injected': 10, 'total_detected': 44, 'details': {'correctly_detected_indices': [113], 'false_negative_indices': [32, 33, 34, 110, 111, 112, 114, 30, 31], 'false_positive_indices': [128, 129, 3, 5, 6, 7, 8, 9, 133, 134, 135, 136, 137, 138, 139, 140, 141, 142, 143, 144, 151, 36, 37, 39, 48, 49, 180, 182, 183, 203, 82, 83, 84, 117, 119, 120, 121, 122, 123, 124, 125, 126, 127]}}\n"
          ]
        },
        {
          "output_type": "stream",
          "name": "stderr",
          "text": [
            "/usr/local/lib/python3.10/dist-packages/sklearn/base.py:439: UserWarning: X does not have valid feature names, but IsolationForest was fitted with feature names\n",
            "  warnings.warn(\n"
          ]
        },
        {
          "output_type": "stream",
          "name": "stdout",
          "text": [
            "Evaluation for dataset 1_8: {'correctly_detected': 7, 'false_negatives': 3, 'false_positives': 37, 'total_injected': 10, 'total_detected': 44, 'details': {'correctly_detected_indices': [35, 36, 37, 38, 39, 46, 49], 'false_negative_indices': [48, 45, 47], 'false_positive_indices': [128, 129, 5, 6, 7, 8, 9, 133, 134, 135, 136, 137, 138, 139, 140, 141, 142, 143, 144, 180, 182, 183, 184, 82, 83, 84, 113, 117, 119, 120, 121, 122, 123, 124, 125, 126, 127]}}\n"
          ]
        },
        {
          "output_type": "stream",
          "name": "stderr",
          "text": [
            "/usr/local/lib/python3.10/dist-packages/sklearn/base.py:439: UserWarning: X does not have valid feature names, but IsolationForest was fitted with feature names\n",
            "  warnings.warn(\n"
          ]
        },
        {
          "output_type": "stream",
          "name": "stdout",
          "text": [
            "Evaluation for dataset 1_9: {'correctly_detected': 0, 'false_negatives': 10, 'false_positives': 44, 'total_injected': 10, 'total_detected': 44, 'details': {'correctly_detected_indices': [], 'false_negative_indices': [170, 171, 172, 173, 174, 215, 216, 217, 218, 219], 'false_positive_indices': [128, 129, 130, 5, 6, 7, 8, 9, 133, 134, 135, 136, 137, 138, 139, 140, 141, 142, 143, 144, 146, 31, 36, 165, 38, 39, 47, 181, 183, 184, 193, 82, 83, 84, 117, 119, 120, 121, 122, 123, 124, 125, 126, 127]}}\n"
          ]
        },
        {
          "output_type": "stream",
          "name": "stderr",
          "text": [
            "/usr/local/lib/python3.10/dist-packages/sklearn/base.py:439: UserWarning: X does not have valid feature names, but IsolationForest was fitted with feature names\n",
            "  warnings.warn(\n"
          ]
        },
        {
          "output_type": "stream",
          "name": "stdout",
          "text": [
            "Evaluation for dataset 2_0: {'correctly_detected': 4, 'false_negatives': 6, 'false_positives': 40, 'total_injected': 10, 'total_detected': 44, 'details': {'correctly_detected_indices': [48, 49, 45, 47], 'false_negative_indices': [46, 210, 211, 212, 213, 214], 'false_positive_indices': [129, 130, 131, 5, 6, 135, 136, 9, 138, 139, 140, 141, 144, 154, 159, 36, 37, 38, 39, 173, 180, 182, 184, 58, 59, 70, 198, 76, 80, 81, 218, 111, 115, 116, 119, 120, 121, 124, 125, 126]}}\n"
          ]
        },
        {
          "output_type": "stream",
          "name": "stderr",
          "text": [
            "/usr/local/lib/python3.10/dist-packages/sklearn/base.py:439: UserWarning: X does not have valid feature names, but IsolationForest was fitted with feature names\n",
            "  warnings.warn(\n"
          ]
        },
        {
          "output_type": "stream",
          "name": "stdout",
          "text": [
            "Evaluation for dataset 2_1: {'correctly_detected': 0, 'false_negatives': 10, 'false_positives': 44, 'total_injected': 10, 'total_detected': 44, 'details': {'correctly_detected_indices': [], 'false_negative_indices': [192, 193, 194, 185, 186, 187, 188, 189, 190, 191], 'false_positive_indices': [0, 129, 130, 131, 5, 6, 135, 136, 9, 139, 140, 141, 142, 144, 154, 159, 35, 36, 37, 38, 39, 45, 47, 175, 180, 181, 182, 183, 184, 79, 80, 81, 83, 95, 101, 106, 115, 116, 119, 120, 121, 124, 125, 126]}}\n"
          ]
        },
        {
          "output_type": "stream",
          "name": "stderr",
          "text": [
            "/usr/local/lib/python3.10/dist-packages/sklearn/base.py:439: UserWarning: X does not have valid feature names, but IsolationForest was fitted with feature names\n",
            "  warnings.warn(\n"
          ]
        },
        {
          "output_type": "stream",
          "name": "stdout",
          "text": [
            "Evaluation for dataset 2_2: {'correctly_detected': 1, 'false_negatives': 4, 'false_positives': 43, 'total_injected': 5, 'total_detected': 44, 'details': {'correctly_detected_indices': [22], 'false_negative_indices': [24, 20, 21, 23], 'false_positive_indices': [129, 130, 131, 5, 6, 135, 8, 9, 136, 139, 140, 141, 144, 149, 154, 159, 37, 38, 39, 45, 174, 47, 179, 180, 181, 183, 184, 59, 61, 62, 71, 207, 80, 81, 115, 116, 118, 119, 120, 121, 124, 125, 126]}}\n"
          ]
        },
        {
          "output_type": "stream",
          "name": "stderr",
          "text": [
            "/usr/local/lib/python3.10/dist-packages/sklearn/base.py:439: UserWarning: X does not have valid feature names, but IsolationForest was fitted with feature names\n",
            "  warnings.warn(\n"
          ]
        },
        {
          "output_type": "stream",
          "name": "stdout",
          "text": [
            "Evaluation for dataset 2_3: {'correctly_detected': 1, 'false_negatives': 9, 'false_positives': 43, 'total_injected': 10, 'total_detected': 44, 'details': {'correctly_detected_indices': [48], 'false_negative_indices': [32, 33, 34, 45, 46, 47, 49, 30, 31], 'false_positive_indices': [0, 129, 130, 131, 5, 6, 135, 136, 9, 139, 140, 141, 142, 144, 151, 154, 159, 35, 36, 37, 39, 180, 181, 182, 183, 184, 59, 189, 64, 196, 80, 81, 85, 99, 112, 115, 116, 119, 120, 121, 124, 125, 126]}}\n"
          ]
        },
        {
          "output_type": "stream",
          "name": "stderr",
          "text": [
            "/usr/local/lib/python3.10/dist-packages/sklearn/base.py:439: UserWarning: X does not have valid feature names, but IsolationForest was fitted with feature names\n",
            "  warnings.warn(\n"
          ]
        },
        {
          "output_type": "stream",
          "name": "stdout",
          "text": [
            "Evaluation for dataset 2_4: {'correctly_detected': 7, 'false_negatives': 3, 'false_positives': 37, 'total_injected': 10, 'total_detected': 44, 'details': {'correctly_detected_indices': [135, 136, 139, 140, 141, 142, 144], 'false_negative_indices': [137, 138, 143], 'false_positive_indices': [129, 130, 131, 4, 5, 6, 9, 149, 154, 159, 35, 36, 37, 39, 41, 170, 172, 48, 176, 180, 181, 182, 183, 184, 70, 80, 81, 85, 89, 115, 116, 119, 120, 121, 124, 125, 126]}}\n"
          ]
        },
        {
          "output_type": "stream",
          "name": "stderr",
          "text": [
            "/usr/local/lib/python3.10/dist-packages/sklearn/base.py:439: UserWarning: X does not have valid feature names, but IsolationForest was fitted with feature names\n",
            "  warnings.warn(\n"
          ]
        },
        {
          "output_type": "stream",
          "name": "stdout",
          "text": [
            "Evaluation for dataset 2_5: {'correctly_detected': 3, 'false_negatives': 7, 'false_positives': 41, 'total_injected': 10, 'total_detected': 44, 'details': {'correctly_detected_indices': [154, 156, 159], 'false_negative_indices': [150, 151, 152, 153, 155, 157, 158], 'false_positive_indices': [129, 130, 131, 5, 6, 135, 136, 9, 139, 140, 141, 144, 24, 35, 37, 38, 39, 46, 48, 49, 50, 180, 181, 182, 183, 184, 58, 60, 62, 80, 81, 83, 102, 115, 116, 119, 120, 121, 124, 125, 126]}}\n"
          ]
        },
        {
          "output_type": "stream",
          "name": "stderr",
          "text": [
            "/usr/local/lib/python3.10/dist-packages/sklearn/base.py:439: UserWarning: X does not have valid feature names, but IsolationForest was fitted with feature names\n",
            "  warnings.warn(\n"
          ]
        },
        {
          "output_type": "stream",
          "name": "stdout",
          "text": [
            "Evaluation for dataset 2_6: {'correctly_detected': 6, 'false_negatives': 4, 'false_positives': 38, 'total_injected': 10, 'total_detected': 44, 'details': {'correctly_detected_indices': [5, 6, 135, 136, 9, 139], 'false_negative_indices': [8, 137, 138, 7], 'false_positive_indices': [129, 130, 131, 4, 132, 140, 141, 144, 149, 154, 159, 35, 36, 37, 38, 39, 173, 177, 180, 181, 182, 183, 184, 70, 71, 204, 80, 81, 85, 115, 116, 117, 119, 120, 121, 124, 125, 126]}}\n"
          ]
        },
        {
          "output_type": "stream",
          "name": "stderr",
          "text": [
            "/usr/local/lib/python3.10/dist-packages/sklearn/base.py:439: UserWarning: X does not have valid feature names, but IsolationForest was fitted with feature names\n",
            "  warnings.warn(\n"
          ]
        },
        {
          "output_type": "stream",
          "name": "stdout",
          "text": [
            "Evaluation for dataset 2_7: {'correctly_detected': 2, 'false_negatives': 8, 'false_positives': 42, 'total_injected': 10, 'total_detected': 44, 'details': {'correctly_detected_indices': [173, 47], 'false_negative_indices': [170, 171, 172, 45, 46, 174, 48, 49], 'false_positive_indices': [129, 2, 130, 131, 5, 6, 135, 136, 9, 138, 139, 140, 141, 144, 21, 154, 156, 159, 35, 37, 38, 39, 175, 180, 181, 183, 184, 62, 71, 199, 80, 81, 115, 116, 119, 120, 121, 122, 124, 125, 126, 127]}}\n"
          ]
        },
        {
          "output_type": "stream",
          "name": "stderr",
          "text": [
            "/usr/local/lib/python3.10/dist-packages/sklearn/base.py:439: UserWarning: X does not have valid feature names, but IsolationForest was fitted with feature names\n",
            "  warnings.warn(\n"
          ]
        },
        {
          "output_type": "stream",
          "name": "stdout",
          "text": [
            "Evaluation for dataset 2_8: {'correctly_detected': 3, 'false_negatives': 7, 'false_positives': 41, 'total_injected': 10, 'total_detected': 44, 'details': {'correctly_detected_indices': [48, 49, 46], 'false_negative_indices': [45, 47, 90, 91, 92, 93, 94], 'false_positive_indices': [129, 130, 131, 5, 6, 135, 136, 9, 137, 139, 140, 141, 144, 17, 146, 148, 149, 150, 154, 159, 35, 36, 38, 167, 173, 180, 181, 183, 184, 62, 80, 81, 111, 115, 116, 119, 120, 121, 124, 125, 126]}}\n"
          ]
        },
        {
          "output_type": "stream",
          "name": "stderr",
          "text": [
            "/usr/local/lib/python3.10/dist-packages/sklearn/base.py:439: UserWarning: X does not have valid feature names, but IsolationForest was fitted with feature names\n",
            "  warnings.warn(\n"
          ]
        },
        {
          "output_type": "stream",
          "name": "stdout",
          "text": [
            "Evaluation for dataset 2_9: {'correctly_detected': 5, 'false_negatives': 5, 'false_positives': 39, 'total_injected': 10, 'total_detected': 44, 'details': {'correctly_detected_indices': [35, 36, 38, 46, 48], 'false_negative_indices': [37, 39, 45, 47, 49], 'false_positive_indices': [1, 129, 130, 131, 5, 6, 135, 136, 9, 139, 140, 141, 144, 154, 159, 165, 173, 180, 183, 184, 62, 204, 207, 80, 81, 209, 87, 90, 115, 116, 118, 119, 120, 121, 122, 124, 125, 126, 127]}}\n"
          ]
        },
        {
          "output_type": "stream",
          "name": "stderr",
          "text": [
            "/usr/local/lib/python3.10/dist-packages/sklearn/base.py:439: UserWarning: X does not have valid feature names, but IsolationForest was fitted with feature names\n",
            "  warnings.warn(\n"
          ]
        },
        {
          "output_type": "stream",
          "name": "stdout",
          "text": [
            "Evaluation for dataset 3_0: {'correctly_detected': 10, 'false_negatives': 0, 'false_positives': 34, 'total_injected': 10, 'total_detected': 44, 'details': {'correctly_detected_indices': [135, 136, 137, 138, 139, 140, 141, 142, 143, 144], 'false_negative_indices': [], 'false_positive_indices': [128, 129, 130, 131, 132, 5, 6, 7, 8, 9, 133, 134, 152, 35, 38, 49, 180, 181, 184, 80, 81, 82, 83, 84, 102, 116, 120, 121, 122, 123, 124, 125, 126, 127]}}\n"
          ]
        },
        {
          "output_type": "stream",
          "name": "stderr",
          "text": [
            "/usr/local/lib/python3.10/dist-packages/sklearn/base.py:439: UserWarning: X does not have valid feature names, but IsolationForest was fitted with feature names\n",
            "  warnings.warn(\n"
          ]
        },
        {
          "output_type": "stream",
          "name": "stdout",
          "text": [
            "Evaluation for dataset 3_1: {'correctly_detected': 1, 'false_negatives': 9, 'false_positives': 43, 'total_injected': 10, 'total_detected': 44, 'details': {'correctly_detected_indices': [49], 'false_negative_indices': [70, 71, 72, 73, 74, 45, 46, 47, 48], 'false_positive_indices': [128, 129, 2, 130, 131, 5, 6, 7, 8, 9, 132, 133, 134, 135, 136, 137, 138, 139, 140, 141, 142, 143, 144, 157, 37, 169, 181, 182, 184, 80, 81, 82, 83, 84, 102, 120, 121, 122, 123, 124, 125, 126, 127]}}\n"
          ]
        },
        {
          "output_type": "stream",
          "name": "stderr",
          "text": [
            "/usr/local/lib/python3.10/dist-packages/sklearn/base.py:439: UserWarning: X does not have valid feature names, but IsolationForest was fitted with feature names\n",
            "  warnings.warn(\n"
          ]
        },
        {
          "output_type": "stream",
          "name": "stdout",
          "text": [
            "Evaluation for dataset 3_2: {'correctly_detected': 10, 'false_negatives': 0, 'false_positives': 34, 'total_injected': 10, 'total_detected': 44, 'details': {'correctly_detected_indices': [140, 141, 142, 143, 80, 81, 82, 83, 84, 144], 'false_negative_indices': [], 'false_positive_indices': [128, 129, 130, 131, 132, 5, 6, 7, 8, 9, 133, 134, 135, 136, 137, 138, 139, 37, 38, 45, 179, 180, 181, 182, 102, 105, 120, 121, 122, 123, 124, 125, 126, 127]}}\n"
          ]
        },
        {
          "output_type": "stream",
          "name": "stderr",
          "text": [
            "/usr/local/lib/python3.10/dist-packages/sklearn/base.py:439: UserWarning: X does not have valid feature names, but IsolationForest was fitted with feature names\n",
            "  warnings.warn(\n"
          ]
        },
        {
          "output_type": "stream",
          "name": "stdout",
          "text": [
            "Evaluation for dataset 3_3: {'correctly_detected': 5, 'false_negatives': 5, 'false_positives': 39, 'total_injected': 10, 'total_detected': 44, 'details': {'correctly_detected_indices': [5, 6, 7, 8, 9], 'false_negative_indices': [150, 151, 152, 153, 154], 'false_positive_indices': [128, 129, 130, 131, 133, 134, 135, 136, 137, 138, 139, 140, 141, 142, 143, 144, 36, 37, 45, 175, 180, 182, 183, 200, 80, 81, 82, 83, 84, 208, 102, 120, 121, 122, 123, 124, 125, 126, 127]}}\n"
          ]
        },
        {
          "output_type": "stream",
          "name": "stderr",
          "text": [
            "/usr/local/lib/python3.10/dist-packages/sklearn/base.py:439: UserWarning: X does not have valid feature names, but IsolationForest was fitted with feature names\n",
            "  warnings.warn(\n"
          ]
        },
        {
          "output_type": "stream",
          "name": "stdout",
          "text": [
            "Evaluation for dataset 3_4: {'correctly_detected': 4, 'false_negatives': 6, 'false_positives': 40, 'total_injected': 10, 'total_detected': 44, 'details': {'correctly_detected_indices': [184, 180, 181, 182], 'false_negative_indices': [32, 33, 34, 183, 30, 31], 'false_positive_indices': [128, 129, 130, 132, 5, 6, 7, 8, 9, 133, 134, 135, 136, 138, 139, 140, 141, 142, 143, 144, 35, 37, 38, 48, 80, 81, 82, 83, 84, 102, 104, 119, 120, 121, 122, 123, 124, 125, 126, 127]}}\n"
          ]
        },
        {
          "output_type": "stream",
          "name": "stderr",
          "text": [
            "/usr/local/lib/python3.10/dist-packages/sklearn/base.py:439: UserWarning: X does not have valid feature names, but IsolationForest was fitted with feature names\n",
            "  warnings.warn(\n"
          ]
        },
        {
          "output_type": "stream",
          "name": "stdout",
          "text": [
            "Evaluation for dataset 3_5: {'correctly_detected': 5, 'false_negatives': 5, 'false_positives': 39, 'total_injected': 10, 'total_detected': 44, 'details': {'correctly_detected_indices': [5, 6, 7, 8, 9], 'false_negative_indices': [15, 16, 17, 18, 19], 'false_positive_indices': [128, 129, 130, 131, 132, 133, 134, 135, 136, 137, 138, 139, 140, 141, 142, 143, 144, 150, 35, 38, 45, 49, 181, 182, 80, 81, 82, 83, 84, 102, 115, 120, 121, 122, 123, 124, 125, 126, 127]}}\n"
          ]
        },
        {
          "output_type": "stream",
          "name": "stderr",
          "text": [
            "/usr/local/lib/python3.10/dist-packages/sklearn/base.py:439: UserWarning: X does not have valid feature names, but IsolationForest was fitted with feature names\n",
            "  warnings.warn(\n"
          ]
        },
        {
          "output_type": "stream",
          "name": "stdout",
          "text": [
            "Evaluation for dataset 3_6: {'correctly_detected': 3, 'false_negatives': 7, 'false_positives': 41, 'total_injected': 10, 'total_detected': 44, 'details': {'correctly_detected_indices': [48, 38, 47], 'false_negative_indices': [35, 36, 37, 39, 45, 46, 49], 'false_positive_indices': [128, 129, 130, 132, 5, 6, 7, 8, 9, 133, 134, 135, 136, 137, 138, 139, 140, 141, 142, 144, 180, 181, 182, 183, 184, 80, 81, 82, 83, 84, 102, 113, 116, 120, 121, 122, 123, 124, 125, 126, 127]}}\n"
          ]
        },
        {
          "output_type": "stream",
          "name": "stderr",
          "text": [
            "/usr/local/lib/python3.10/dist-packages/sklearn/base.py:439: UserWarning: X does not have valid feature names, but IsolationForest was fitted with feature names\n",
            "  warnings.warn(\n"
          ]
        },
        {
          "output_type": "stream",
          "name": "stdout",
          "text": [
            "Evaluation for dataset 3_7: {'correctly_detected': 0, 'false_negatives': 10, 'false_positives': 44, 'total_injected': 10, 'total_detected': 44, 'details': {'correctly_detected_indices': [], 'false_negative_indices': [150, 151, 152, 153, 154, 155, 156, 157, 158, 159], 'false_positive_indices': [128, 1, 129, 130, 131, 5, 6, 7, 8, 9, 132, 133, 134, 135, 136, 137, 138, 139, 140, 141, 142, 143, 144, 37, 39, 48, 49, 180, 183, 184, 80, 81, 82, 83, 84, 102, 120, 121, 122, 123, 124, 125, 126, 127]}}\n"
          ]
        },
        {
          "output_type": "stream",
          "name": "stderr",
          "text": [
            "/usr/local/lib/python3.10/dist-packages/sklearn/base.py:439: UserWarning: X does not have valid feature names, but IsolationForest was fitted with feature names\n",
            "  warnings.warn(\n"
          ]
        },
        {
          "output_type": "stream",
          "name": "stdout",
          "text": [
            "Evaluation for dataset 3_8: {'correctly_detected': 0, 'false_negatives': 10, 'false_positives': 44, 'total_injected': 10, 'total_detected': 44, 'details': {'correctly_detected_indices': [], 'false_negative_indices': [170, 171, 172, 173, 174, 215, 216, 217, 218, 219], 'false_positive_indices': [128, 129, 130, 131, 132, 5, 6, 7, 8, 9, 133, 134, 135, 136, 137, 138, 139, 140, 141, 142, 143, 144, 35, 38, 45, 178, 180, 182, 184, 80, 81, 82, 83, 84, 209, 102, 120, 121, 122, 123, 124, 125, 126, 127]}}\n"
          ]
        },
        {
          "output_type": "stream",
          "name": "stderr",
          "text": [
            "/usr/local/lib/python3.10/dist-packages/sklearn/base.py:439: UserWarning: X does not have valid feature names, but IsolationForest was fitted with feature names\n",
            "  warnings.warn(\n"
          ]
        },
        {
          "output_type": "stream",
          "name": "stdout",
          "text": [
            "Evaluation for dataset 3_9: {'correctly_detected': 10, 'false_negatives': 0, 'false_positives': 34, 'total_injected': 10, 'total_detected': 44, 'details': {'correctly_detected_indices': [5, 6, 7, 8, 9, 80, 81, 82, 83, 84], 'false_negative_indices': [], 'false_positive_indices': [128, 129, 130, 131, 132, 133, 134, 135, 136, 137, 138, 140, 141, 142, 143, 144, 162, 35, 37, 39, 46, 175, 181, 183, 184, 102, 120, 121, 122, 123, 124, 125, 126, 127]}}\n"
          ]
        },
        {
          "output_type": "stream",
          "name": "stderr",
          "text": [
            "/usr/local/lib/python3.10/dist-packages/sklearn/base.py:439: UserWarning: X does not have valid feature names, but IsolationForest was fitted with feature names\n",
            "  warnings.warn(\n"
          ]
        },
        {
          "output_type": "stream",
          "name": "stdout",
          "text": [
            "Evaluation for dataset 4_0: {'correctly_detected': 3, 'false_negatives': 7, 'false_positives': 41, 'total_injected': 10, 'total_detected': 44, 'details': {'correctly_detected_indices': [171, 45, 47], 'false_negative_indices': [170, 172, 173, 46, 174, 48, 49], 'false_positive_indices': [128, 129, 131, 132, 5, 6, 7, 8, 9, 133, 134, 135, 136, 137, 138, 139, 140, 141, 142, 143, 144, 157, 35, 37, 38, 177, 51, 180, 181, 184, 68, 90, 115, 120, 121, 122, 123, 124, 125, 126, 127]}}\n"
          ]
        },
        {
          "output_type": "stream",
          "name": "stderr",
          "text": [
            "/usr/local/lib/python3.10/dist-packages/sklearn/base.py:439: UserWarning: X does not have valid feature names, but IsolationForest was fitted with feature names\n",
            "  warnings.warn(\n"
          ]
        },
        {
          "output_type": "stream",
          "name": "stdout",
          "text": [
            "Evaluation for dataset 4_1: {'correctly_detected': 2, 'false_negatives': 8, 'false_positives': 42, 'total_injected': 10, 'total_detected': 44, 'details': {'correctly_detected_indices': [48, 171], 'false_negative_indices': [170, 172, 45, 46, 47, 173, 49, 174], 'false_positive_indices': [128, 129, 131, 132, 5, 6, 7, 8, 9, 133, 134, 135, 136, 137, 138, 139, 140, 141, 142, 143, 144, 147, 35, 36, 37, 38, 39, 51, 180, 182, 183, 187, 85, 115, 120, 121, 122, 123, 124, 125, 126, 127]}}\n"
          ]
        },
        {
          "output_type": "stream",
          "name": "stderr",
          "text": [
            "/usr/local/lib/python3.10/dist-packages/sklearn/base.py:439: UserWarning: X does not have valid feature names, but IsolationForest was fitted with feature names\n",
            "  warnings.warn(\n"
          ]
        },
        {
          "output_type": "stream",
          "name": "stdout",
          "text": [
            "Evaluation for dataset 4_2: {'correctly_detected': 10, 'false_negatives': 0, 'false_positives': 34, 'total_injected': 10, 'total_detected': 44, 'details': {'correctly_detected_indices': [5, 6, 7, 8, 9, 120, 121, 122, 123, 124], 'false_negative_indices': [], 'false_positive_indices': [128, 129, 2, 132, 133, 134, 135, 136, 137, 138, 139, 140, 141, 142, 143, 144, 22, 35, 39, 46, 47, 48, 180, 181, 182, 183, 184, 202, 113, 115, 118, 125, 126, 127]}}\n"
          ]
        },
        {
          "output_type": "stream",
          "name": "stderr",
          "text": [
            "/usr/local/lib/python3.10/dist-packages/sklearn/base.py:439: UserWarning: X does not have valid feature names, but IsolationForest was fitted with feature names\n",
            "  warnings.warn(\n"
          ]
        },
        {
          "output_type": "stream",
          "name": "stdout",
          "text": [
            "Evaluation for dataset 4_3: {'correctly_detected': 3, 'false_negatives': 7, 'false_positives': 41, 'total_injected': 10, 'total_detected': 44, 'details': {'correctly_detected_indices': [45, 46, 47], 'false_negative_indices': [48, 49, 185, 186, 187, 188, 189], 'false_positive_indices': [128, 129, 3, 132, 5, 6, 7, 8, 9, 133, 134, 135, 136, 137, 138, 139, 140, 141, 142, 143, 144, 35, 36, 37, 38, 39, 180, 181, 182, 183, 184, 208, 115, 120, 121, 122, 123, 124, 125, 126, 127]}}\n"
          ]
        },
        {
          "output_type": "stream",
          "name": "stderr",
          "text": [
            "/usr/local/lib/python3.10/dist-packages/sklearn/base.py:439: UserWarning: X does not have valid feature names, but IsolationForest was fitted with feature names\n",
            "  warnings.warn(\n"
          ]
        },
        {
          "output_type": "stream",
          "name": "stdout",
          "text": [
            "Evaluation for dataset 4_4: {'correctly_detected': 8, 'false_negatives': 2, 'false_positives': 36, 'total_injected': 10, 'total_detected': 44, 'details': {'correctly_detected_indices': [5, 6, 7, 8, 9, 46, 47, 48], 'false_negative_indices': [49, 45], 'false_positive_indices': [128, 1, 129, 132, 133, 134, 135, 136, 137, 138, 139, 140, 141, 142, 143, 144, 35, 36, 37, 38, 39, 181, 183, 184, 205, 211, 98, 115, 120, 121, 122, 123, 124, 125, 126, 127]}}\n"
          ]
        },
        {
          "output_type": "stream",
          "name": "stderr",
          "text": [
            "/usr/local/lib/python3.10/dist-packages/sklearn/base.py:439: UserWarning: X does not have valid feature names, but IsolationForest was fitted with feature names\n",
            "  warnings.warn(\n"
          ]
        },
        {
          "output_type": "stream",
          "name": "stdout",
          "text": [
            "Evaluation for dataset 4_5: {'correctly_detected': 10, 'false_negatives': 0, 'false_positives': 34, 'total_injected': 10, 'total_detected': 44, 'details': {'correctly_detected_indices': [128, 129, 5, 6, 7, 8, 9, 125, 126, 127], 'false_negative_indices': [], 'false_positive_indices': [3, 131, 132, 133, 134, 135, 136, 137, 138, 139, 140, 141, 142, 143, 144, 153, 35, 38, 39, 171, 45, 46, 47, 178, 180, 53, 183, 184, 115, 120, 121, 122, 123, 124]}}\n"
          ]
        },
        {
          "output_type": "stream",
          "name": "stderr",
          "text": [
            "/usr/local/lib/python3.10/dist-packages/sklearn/base.py:439: UserWarning: X does not have valid feature names, but IsolationForest was fitted with feature names\n",
            "  warnings.warn(\n"
          ]
        },
        {
          "output_type": "stream",
          "name": "stdout",
          "text": [
            "Evaluation for dataset 4_6: {'correctly_detected': 5, 'false_negatives': 0, 'false_positives': 39, 'total_injected': 5, 'total_detected': 44, 'details': {'correctly_detected_indices': [140, 141, 142, 143, 144], 'false_negative_indices': [], 'false_positive_indices': [128, 129, 132, 5, 6, 7, 8, 9, 133, 134, 135, 136, 137, 138, 139, 35, 37, 38, 39, 174, 47, 49, 180, 181, 182, 183, 184, 80, 93, 101, 115, 120, 121, 122, 123, 124, 125, 126, 127]}}\n"
          ]
        },
        {
          "output_type": "stream",
          "name": "stderr",
          "text": [
            "/usr/local/lib/python3.10/dist-packages/sklearn/base.py:439: UserWarning: X does not have valid feature names, but IsolationForest was fitted with feature names\n",
            "  warnings.warn(\n"
          ]
        },
        {
          "output_type": "stream",
          "name": "stdout",
          "text": [
            "Evaluation for dataset 4_7: {'correctly_detected': 5, 'false_negatives': 0, 'false_positives': 39, 'total_injected': 5, 'total_detected': 44, 'details': {'correctly_detected_indices': [120, 121, 122, 123, 124], 'false_negative_indices': [], 'false_positive_indices': [128, 129, 131, 132, 5, 6, 7, 8, 9, 133, 134, 135, 136, 137, 138, 139, 140, 141, 142, 143, 144, 156, 36, 39, 171, 48, 49, 51, 180, 53, 183, 56, 184, 196, 207, 115, 125, 126, 127]}}\n"
          ]
        },
        {
          "output_type": "stream",
          "name": "stderr",
          "text": [
            "/usr/local/lib/python3.10/dist-packages/sklearn/base.py:439: UserWarning: X does not have valid feature names, but IsolationForest was fitted with feature names\n",
            "  warnings.warn(\n"
          ]
        },
        {
          "output_type": "stream",
          "name": "stdout",
          "text": [
            "Evaluation for dataset 4_8: {'correctly_detected': 0, 'false_negatives': 10, 'false_positives': 44, 'total_injected': 10, 'total_detected': 44, 'details': {'correctly_detected_indices': [], 'false_negative_indices': [15, 16, 17, 18, 19, 150, 151, 152, 153, 154], 'false_positive_indices': [128, 129, 2, 131, 132, 5, 6, 7, 8, 9, 133, 134, 135, 136, 137, 138, 139, 140, 141, 142, 143, 144, 158, 36, 38, 39, 173, 49, 179, 180, 181, 182, 183, 60, 61, 115, 120, 121, 122, 123, 124, 125, 126, 127]}}\n"
          ]
        },
        {
          "output_type": "stream",
          "name": "stderr",
          "text": [
            "/usr/local/lib/python3.10/dist-packages/sklearn/base.py:439: UserWarning: X does not have valid feature names, but IsolationForest was fitted with feature names\n",
            "  warnings.warn(\n"
          ]
        },
        {
          "output_type": "stream",
          "name": "stdout",
          "text": [
            "Evaluation for dataset 4_9: {'correctly_detected': 5, 'false_negatives': 5, 'false_positives': 39, 'total_injected': 10, 'total_detected': 44, 'details': {'correctly_detected_indices': [140, 141, 142, 143, 144], 'false_negative_indices': [20, 21, 22, 23, 24], 'false_positive_indices': [128, 129, 132, 5, 6, 7, 8, 9, 133, 134, 135, 136, 137, 138, 139, 157, 35, 38, 39, 47, 48, 180, 181, 182, 183, 184, 205, 206, 79, 114, 115, 120, 121, 122, 123, 124, 125, 126, 127]}}\n"
          ]
        },
        {
          "output_type": "stream",
          "name": "stderr",
          "text": [
            "/usr/local/lib/python3.10/dist-packages/sklearn/base.py:439: UserWarning: X does not have valid feature names, but IsolationForest was fitted with feature names\n",
            "  warnings.warn(\n"
          ]
        },
        {
          "output_type": "stream",
          "name": "stdout",
          "text": [
            "Evaluation for dataset 5_0: {'correctly_detected': 6, 'false_negatives': 4, 'false_positives': 38, 'total_injected': 10, 'total_detected': 44, 'details': {'correctly_detected_indices': [35, 37, 38, 187, 188, 189], 'false_negative_indices': [185, 186, 36, 39], 'false_positive_indices': [128, 129, 5, 6, 7, 8, 9, 133, 138, 139, 140, 144, 180, 182, 183, 184, 68, 197, 199, 80, 81, 82, 83, 84, 212, 213, 115, 116, 117, 118, 120, 121, 122, 123, 124, 125, 126, 127]}}\n"
          ]
        },
        {
          "output_type": "stream",
          "name": "stderr",
          "text": [
            "/usr/local/lib/python3.10/dist-packages/sklearn/base.py:439: UserWarning: X does not have valid feature names, but IsolationForest was fitted with feature names\n",
            "  warnings.warn(\n"
          ]
        },
        {
          "output_type": "stream",
          "name": "stdout",
          "text": [
            "Evaluation for dataset 5_1: {'correctly_detected': 10, 'false_negatives': 0, 'false_positives': 34, 'total_injected': 10, 'total_detected': 44, 'details': {'correctly_detected_indices': [5, 6, 7, 8, 9, 80, 81, 82, 83, 84], 'false_negative_indices': [], 'false_positive_indices': [128, 129, 132, 136, 138, 139, 140, 35, 37, 38, 42, 49, 180, 181, 184, 187, 68, 197, 199, 202, 212, 213, 115, 116, 117, 118, 120, 121, 122, 123, 124, 125, 126, 127]}}\n"
          ]
        },
        {
          "output_type": "stream",
          "name": "stderr",
          "text": [
            "/usr/local/lib/python3.10/dist-packages/sklearn/base.py:439: UserWarning: X does not have valid feature names, but IsolationForest was fitted with feature names\n",
            "  warnings.warn(\n"
          ]
        },
        {
          "output_type": "stream",
          "name": "stdout",
          "text": [
            "Evaluation for dataset 5_2: {'correctly_detected': 2, 'false_negatives': 8, 'false_positives': 42, 'total_injected': 10, 'total_detected': 44, 'details': {'correctly_detected_indices': [42, 44], 'false_negative_indices': [40, 41, 10, 11, 12, 13, 14, 43], 'false_positive_indices': [128, 129, 131, 5, 6, 7, 8, 9, 133, 134, 136, 138, 140, 142, 144, 37, 38, 39, 47, 180, 182, 184, 68, 197, 199, 80, 81, 82, 83, 84, 213, 115, 116, 118, 120, 121, 122, 123, 124, 125, 126, 127]}}\n"
          ]
        },
        {
          "output_type": "stream",
          "name": "stderr",
          "text": [
            "/usr/local/lib/python3.10/dist-packages/sklearn/base.py:439: UserWarning: X does not have valid feature names, but IsolationForest was fitted with feature names\n",
            "  warnings.warn(\n"
          ]
        },
        {
          "output_type": "stream",
          "name": "stdout",
          "text": [
            "Evaluation for dataset 5_3: {'correctly_detected': 0, 'false_negatives': 10, 'false_positives': 44, 'total_injected': 10, 'total_detected': 44, 'details': {'correctly_detected_indices': [], 'false_negative_indices': [32, 33, 34, 161, 160, 162, 163, 164, 30, 31], 'false_positive_indices': [128, 129, 5, 6, 7, 8, 9, 133, 134, 135, 138, 139, 143, 144, 36, 38, 39, 42, 47, 180, 182, 183, 187, 68, 197, 199, 80, 81, 82, 83, 84, 212, 213, 116, 117, 118, 120, 121, 122, 123, 124, 125, 126, 127]}}\n"
          ]
        },
        {
          "output_type": "stream",
          "name": "stderr",
          "text": [
            "/usr/local/lib/python3.10/dist-packages/sklearn/base.py:439: UserWarning: X does not have valid feature names, but IsolationForest was fitted with feature names\n",
            "  warnings.warn(\n"
          ]
        },
        {
          "output_type": "stream",
          "name": "stdout",
          "text": [
            "Evaluation for dataset 5_4: {'correctly_detected': 1, 'false_negatives': 9, 'false_positives': 43, 'total_injected': 10, 'total_detected': 44, 'details': {'correctly_detected_indices': [187], 'false_negative_indices': [26, 28, 29, 185, 186, 27, 188, 189, 25], 'false_positive_indices': [128, 129, 5, 6, 7, 8, 9, 134, 138, 141, 35, 36, 37, 38, 46, 47, 49, 180, 181, 182, 183, 184, 68, 197, 199, 80, 81, 82, 83, 84, 212, 213, 102, 115, 116, 120, 121, 122, 123, 124, 125, 126, 127]}}\n"
          ]
        },
        {
          "output_type": "stream",
          "name": "stderr",
          "text": [
            "/usr/local/lib/python3.10/dist-packages/sklearn/base.py:439: UserWarning: X does not have valid feature names, but IsolationForest was fitted with feature names\n",
            "  warnings.warn(\n"
          ]
        },
        {
          "output_type": "stream",
          "name": "stdout",
          "text": [
            "Evaluation for dataset 5_5: {'correctly_detected': 2, 'false_negatives': 8, 'false_positives': 42, 'total_injected': 10, 'total_detected': 44, 'details': {'correctly_detected_indices': [187, 189], 'false_negative_indices': [192, 193, 194, 185, 186, 188, 190, 191], 'false_positive_indices': [128, 129, 5, 6, 7, 8, 9, 133, 136, 138, 140, 143, 144, 37, 38, 39, 49, 182, 183, 184, 67, 68, 197, 199, 80, 81, 82, 83, 84, 212, 213, 105, 116, 118, 120, 121, 122, 123, 124, 125, 126, 127]}}\n"
          ]
        },
        {
          "output_type": "stream",
          "name": "stderr",
          "text": [
            "/usr/local/lib/python3.10/dist-packages/sklearn/base.py:439: UserWarning: X does not have valid feature names, but IsolationForest was fitted with feature names\n",
            "  warnings.warn(\n"
          ]
        },
        {
          "output_type": "stream",
          "name": "stdout",
          "text": [
            "Evaluation for dataset 5_6: {'correctly_detected': 0, 'false_negatives': 10, 'false_positives': 44, 'total_injected': 10, 'total_detected': 44, 'details': {'correctly_detected_indices': [], 'false_negative_indices': [96, 97, 98, 99, 170, 171, 172, 173, 174, 95], 'false_positive_indices': [128, 129, 5, 6, 7, 8, 9, 138, 139, 141, 143, 35, 37, 38, 39, 42, 49, 180, 181, 182, 183, 184, 187, 189, 68, 197, 199, 80, 81, 82, 83, 84, 115, 116, 117, 118, 120, 121, 122, 123, 124, 125, 126, 127]}}\n"
          ]
        },
        {
          "output_type": "stream",
          "name": "stderr",
          "text": [
            "/usr/local/lib/python3.10/dist-packages/sklearn/base.py:439: UserWarning: X does not have valid feature names, but IsolationForest was fitted with feature names\n",
            "  warnings.warn(\n"
          ]
        },
        {
          "output_type": "stream",
          "name": "stdout",
          "text": [
            "Evaluation for dataset 5_7: {'correctly_detected': 4, 'false_negatives': 6, 'false_positives': 40, 'total_injected': 10, 'total_detected': 44, 'details': {'correctly_detected_indices': [35, 37, 38, 39], 'false_negative_indices': [0, 1, 2, 3, 4, 36], 'false_positive_indices': [128, 129, 131, 5, 6, 7, 8, 9, 134, 135, 138, 141, 143, 182, 183, 184, 187, 189, 68, 197, 199, 80, 81, 82, 83, 84, 212, 213, 115, 116, 117, 118, 120, 121, 122, 123, 124, 125, 126, 127]}}\n"
          ]
        },
        {
          "output_type": "stream",
          "name": "stderr",
          "text": [
            "/usr/local/lib/python3.10/dist-packages/sklearn/base.py:439: UserWarning: X does not have valid feature names, but IsolationForest was fitted with feature names\n",
            "  warnings.warn(\n"
          ]
        },
        {
          "output_type": "stream",
          "name": "stdout",
          "text": [
            "Evaluation for dataset 5_8: {'correctly_detected': 3, 'false_negatives': 7, 'false_positives': 41, 'total_injected': 10, 'total_detected': 44, 'details': {'correctly_detected_indices': [187, 37, 38], 'false_negative_indices': [35, 36, 39, 185, 186, 188, 189], 'false_positive_indices': [128, 129, 132, 5, 6, 7, 8, 9, 138, 142, 163, 45, 48, 49, 180, 181, 182, 183, 184, 68, 197, 206, 80, 81, 82, 83, 84, 212, 213, 115, 116, 117, 118, 120, 121, 122, 123, 124, 125, 126, 127]}}\n"
          ]
        },
        {
          "output_type": "stream",
          "name": "stderr",
          "text": [
            "/usr/local/lib/python3.10/dist-packages/sklearn/base.py:439: UserWarning: X does not have valid feature names, but IsolationForest was fitted with feature names\n",
            "  warnings.warn(\n"
          ]
        },
        {
          "output_type": "stream",
          "name": "stdout",
          "text": [
            "Evaluation for dataset 5_9: {'correctly_detected': 5, 'false_negatives': 0, 'false_positives': 39, 'total_injected': 5, 'total_detected': 44, 'details': {'correctly_detected_indices': [128, 129, 125, 126, 127], 'false_negative_indices': [], 'false_positive_indices': [131, 5, 6, 7, 8, 9, 136, 138, 143, 144, 35, 36, 37, 38, 39, 42, 47, 180, 181, 182, 183, 184, 187, 68, 197, 199, 80, 81, 82, 83, 84, 212, 116, 117, 120, 121, 122, 123, 124]}}\n",
            "    correctly_detected  false_negatives  false_positives  total_injected  \\\n",
            "0                    0               10               44              10   \n",
            "1                    3                7               41              10   \n",
            "2                    0               10               44              10   \n",
            "3                    0               10               44              10   \n",
            "4                    1                9               43              10   \n",
            "5                    0               10               44              10   \n",
            "6                   10                0               34              10   \n",
            "7                    1                9               43              10   \n",
            "8                    0               10               44              10   \n",
            "9                   10                0               34              10   \n",
            "10                   1                9               43              10   \n",
            "11                   0               10               44              10   \n",
            "12                   3                7               41              10   \n",
            "13                   0               10               44              10   \n",
            "14                   4                6               40              10   \n",
            "15                   1                9               43              10   \n",
            "16                   0               10               44              10   \n",
            "17                   1                9               43              10   \n",
            "18                   7                3               37              10   \n",
            "19                   0               10               44              10   \n",
            "20                   4                6               40              10   \n",
            "21                   0               10               44              10   \n",
            "22                   1                4               43               5   \n",
            "23                   1                9               43              10   \n",
            "24                   7                3               37              10   \n",
            "25                   3                7               41              10   \n",
            "26                   6                4               38              10   \n",
            "27                   2                8               42              10   \n",
            "28                   3                7               41              10   \n",
            "29                   5                5               39              10   \n",
            "30                  10                0               34              10   \n",
            "31                   1                9               43              10   \n",
            "32                  10                0               34              10   \n",
            "33                   5                5               39              10   \n",
            "34                   4                6               40              10   \n",
            "35                   5                5               39              10   \n",
            "36                   3                7               41              10   \n",
            "37                   0               10               44              10   \n",
            "38                   0               10               44              10   \n",
            "39                  10                0               34              10   \n",
            "40                   3                7               41              10   \n",
            "41                   2                8               42              10   \n",
            "42                  10                0               34              10   \n",
            "43                   3                7               41              10   \n",
            "44                   8                2               36              10   \n",
            "45                  10                0               34              10   \n",
            "46                   5                0               39               5   \n",
            "47                   5                0               39               5   \n",
            "48                   0               10               44              10   \n",
            "49                   5                5               39              10   \n",
            "50                   6                4               38              10   \n",
            "51                  10                0               34              10   \n",
            "52                   2                8               42              10   \n",
            "53                   0               10               44              10   \n",
            "54                   1                9               43              10   \n",
            "55                   2                8               42              10   \n",
            "56                   0               10               44              10   \n",
            "57                   4                6               40              10   \n",
            "58                   3                7               41              10   \n",
            "59                   5                0               39               5   \n",
            "\n",
            "    total_detected                                            details  \n",
            "0               44  {'correctly_detected_indices': [], 'false_nega...  \n",
            "1               44  {'correctly_detected_indices': [36, 37, 39], '...  \n",
            "2               44  {'correctly_detected_indices': [], 'false_nega...  \n",
            "3               44  {'correctly_detected_indices': [], 'false_nega...  \n",
            "4               44  {'correctly_detected_indices': [49], 'false_ne...  \n",
            "5               44  {'correctly_detected_indices': [], 'false_nega...  \n",
            "6               44  {'correctly_detected_indices': [128, 129, 120,...  \n",
            "7               44  {'correctly_detected_indices': [46], 'false_ne...  \n",
            "8               44  {'correctly_detected_indices': [], 'false_nega...  \n",
            "9               44  {'correctly_detected_indices': [128, 129, 120,...  \n",
            "10              44  {'correctly_detected_indices': [57], 'false_ne...  \n",
            "11              44  {'correctly_detected_indices': [], 'false_nega...  \n",
            "12              44  {'correctly_detected_indices': [82, 83, 84], '...  \n",
            "13              44  {'correctly_detected_indices': [], 'false_nega...  \n",
            "14              44  {'correctly_detected_indices': [185, 36, 38, 3...  \n",
            "15              44  {'correctly_detected_indices': [45], 'false_ne...  \n",
            "16              44  {'correctly_detected_indices': [], 'false_nega...  \n",
            "17              44  {'correctly_detected_indices': [113], 'false_n...  \n",
            "18              44  {'correctly_detected_indices': [35, 36, 37, 38...  \n",
            "19              44  {'correctly_detected_indices': [], 'false_nega...  \n",
            "20              44  {'correctly_detected_indices': [48, 49, 45, 47...  \n",
            "21              44  {'correctly_detected_indices': [], 'false_nega...  \n",
            "22              44  {'correctly_detected_indices': [22], 'false_ne...  \n",
            "23              44  {'correctly_detected_indices': [48], 'false_ne...  \n",
            "24              44  {'correctly_detected_indices': [135, 136, 139,...  \n",
            "25              44  {'correctly_detected_indices': [154, 156, 159]...  \n",
            "26              44  {'correctly_detected_indices': [5, 6, 135, 136...  \n",
            "27              44  {'correctly_detected_indices': [173, 47], 'fal...  \n",
            "28              44  {'correctly_detected_indices': [48, 49, 46], '...  \n",
            "29              44  {'correctly_detected_indices': [35, 36, 38, 46...  \n",
            "30              44  {'correctly_detected_indices': [135, 136, 137,...  \n",
            "31              44  {'correctly_detected_indices': [49], 'false_ne...  \n",
            "32              44  {'correctly_detected_indices': [140, 141, 142,...  \n",
            "33              44  {'correctly_detected_indices': [5, 6, 7, 8, 9]...  \n",
            "34              44  {'correctly_detected_indices': [184, 180, 181,...  \n",
            "35              44  {'correctly_detected_indices': [5, 6, 7, 8, 9]...  \n",
            "36              44  {'correctly_detected_indices': [48, 38, 47], '...  \n",
            "37              44  {'correctly_detected_indices': [], 'false_nega...  \n",
            "38              44  {'correctly_detected_indices': [], 'false_nega...  \n",
            "39              44  {'correctly_detected_indices': [5, 6, 7, 8, 9,...  \n",
            "40              44  {'correctly_detected_indices': [171, 45, 47], ...  \n",
            "41              44  {'correctly_detected_indices': [48, 171], 'fal...  \n",
            "42              44  {'correctly_detected_indices': [5, 6, 7, 8, 9,...  \n",
            "43              44  {'correctly_detected_indices': [45, 46, 47], '...  \n",
            "44              44  {'correctly_detected_indices': [5, 6, 7, 8, 9,...  \n",
            "45              44  {'correctly_detected_indices': [128, 129, 5, 6...  \n",
            "46              44  {'correctly_detected_indices': [140, 141, 142,...  \n",
            "47              44  {'correctly_detected_indices': [120, 121, 122,...  \n",
            "48              44  {'correctly_detected_indices': [], 'false_nega...  \n",
            "49              44  {'correctly_detected_indices': [140, 141, 142,...  \n",
            "50              44  {'correctly_detected_indices': [35, 37, 38, 18...  \n",
            "51              44  {'correctly_detected_indices': [5, 6, 7, 8, 9,...  \n",
            "52              44  {'correctly_detected_indices': [42, 44], 'fals...  \n",
            "53              44  {'correctly_detected_indices': [], 'false_nega...  \n",
            "54              44  {'correctly_detected_indices': [187], 'false_n...  \n",
            "55              44  {'correctly_detected_indices': [187, 189], 'fa...  \n",
            "56              44  {'correctly_detected_indices': [], 'false_nega...  \n",
            "57              44  {'correctly_detected_indices': [35, 37, 38, 39...  \n",
            "58              44  {'correctly_detected_indices': [187, 37, 38], ...  \n",
            "59              44  {'correctly_detected_indices': [128, 129, 125,...  \n"
          ]
        }
      ]
    },
    {
      "cell_type": "code",
      "source": [],
      "metadata": {
        "id": "xuTlMv4mqgY1"
      },
      "execution_count": null,
      "outputs": []
    },
    {
      "cell_type": "code",
      "source": [],
      "metadata": {
        "id": "1EgR2p75qgWO"
      },
      "execution_count": null,
      "outputs": []
    },
    {
      "cell_type": "code",
      "source": [],
      "metadata": {
        "id": "mIWyQ47HqgTx"
      },
      "execution_count": null,
      "outputs": []
    },
    {
      "cell_type": "code",
      "source": [],
      "metadata": {
        "id": "4qRDmeaUqgRd"
      },
      "execution_count": null,
      "outputs": []
    },
    {
      "cell_type": "code",
      "source": [],
      "metadata": {
        "id": "kADnCMioqgPd"
      },
      "execution_count": null,
      "outputs": []
    },
    {
      "cell_type": "code",
      "source": [],
      "metadata": {
        "id": "tvFDy61JqgON"
      },
      "execution_count": null,
      "outputs": []
    },
    {
      "cell_type": "code",
      "source": [],
      "metadata": {
        "id": "SKd3h4kXqgKR"
      },
      "execution_count": null,
      "outputs": []
    },
    {
      "cell_type": "code",
      "source": [
        "from google.colab import drive\n",
        "drive.mount('/content/drive')"
      ],
      "metadata": {
        "colab": {
          "base_uri": "https://localhost:8080/"
        },
        "id": "aCbk6MMKwmcw",
        "outputId": "6356002f-83f9-4b67-a33d-d0e8778573fc"
      },
      "execution_count": null,
      "outputs": [
        {
          "output_type": "stream",
          "name": "stdout",
          "text": [
            "Mounted at /content/drive\n"
          ]
        }
      ]
    },
    {
      "cell_type": "code",
      "source": [
        "%cd /content/Synthetic_datasets_v1"
      ],
      "metadata": {
        "colab": {
          "base_uri": "https://localhost:8080/"
        },
        "id": "MW5wype6wmZw",
        "outputId": "47d200a0-e0ad-414b-ad7f-536ae3e78877"
      },
      "execution_count": null,
      "outputs": [
        {
          "output_type": "stream",
          "name": "stdout",
          "text": [
            "/content/Synthetic_datasets_v1\n"
          ]
        }
      ]
    },
    {
      "cell_type": "code",
      "source": [
        "!zip -r Synthetic_dataset.zip /content/Synthetic_datasets_v1"
      ],
      "metadata": {
        "colab": {
          "base_uri": "https://localhost:8080/"
        },
        "collapsed": true,
        "id": "HKxdYAPrxBLH",
        "outputId": "915d17d7-56cc-4e18-e280-e5f6228a4e40"
      },
      "execution_count": null,
      "outputs": [
        {
          "output_type": "stream",
          "name": "stdout",
          "text": [
            "  adding: content/Synthetic_datasets_v1/ (stored 0%)\n",
            "  adding: content/Synthetic_datasets_v1/synthetic_data_0_20_issue.csv (deflated 89%)\n",
            "  adding: content/Synthetic_datasets_v1/ground_truth_0_8_issue.json (deflated 50%)\n",
            "  adding: content/Synthetic_datasets_v1/ground_truth_2_28_issue.json (deflated 51%)\n",
            "  adding: content/Synthetic_datasets_v1/synthetic_data_0_46_issue.csv (deflated 89%)\n",
            "  adding: content/Synthetic_datasets_v1/ground_truth_1_26_issue.json (deflated 37%)\n",
            "  adding: content/Synthetic_datasets_v1/synthetic_data_1_9_issue.csv (deflated 89%)\n",
            "  adding: content/Synthetic_datasets_v1/synthetic_data_1_47_issue.csv (deflated 87%)\n",
            "  adding: content/Synthetic_datasets_v1/ground_truth_0_39_issue.json (deflated 36%)\n",
            "  adding: content/Synthetic_datasets_v1/synthetic_data_2_11_issue.csv (deflated 90%)\n",
            "  adding: content/Synthetic_datasets_v1/synthetic_data_1_35_issue.csv (deflated 88%)\n",
            "  adding: content/Synthetic_datasets_v1/synthetic_data_2_13_issue.csv (deflated 88%)\n",
            "  adding: content/Synthetic_datasets_v1/synthetic_data_1_7_issue.csv (deflated 88%)\n",
            "  adding: content/Synthetic_datasets_v1/ground_truth_0_22_issue.json (deflated 38%)\n",
            "  adding: content/Synthetic_datasets_v1/ground_truth_1_32_issue.json (deflated 47%)\n",
            "  adding: content/Synthetic_datasets_v1/synthetic_data_1_44_issue.csv (deflated 88%)\n",
            "  adding: content/Synthetic_datasets_v1/ground_truth_1_29_issue.json (deflated 44%)\n",
            "  adding: content/Synthetic_datasets_v1/synthetic_data_0_47_issue.csv (deflated 88%)\n",
            "  adding: content/Synthetic_datasets_v1/ground_truth_1_41_issue.json (deflated 35%)\n",
            "  adding: content/Synthetic_datasets_v1/ground_truth_2_0_issue.json (deflated 42%)\n",
            "  adding: content/Synthetic_datasets_v1/synthetic_data_2_1_issue.csv (deflated 91%)\n",
            "  adding: content/Synthetic_datasets_v1/ground_truth_0_4_issue.json (deflated 46%)\n",
            "  adding: content/Synthetic_datasets_v1/ground_truth_2_19_issue.json (deflated 43%)\n",
            "  adding: content/Synthetic_datasets_v1/synthetic_data_0_44_issue.csv (deflated 89%)\n",
            "  adding: content/Synthetic_datasets_v1/synthetic_data_1_41_issue.csv (deflated 88%)\n",
            "  adding: content/Synthetic_datasets_v1/ground_truth_1_10_issue.json (deflated 37%)\n",
            "  adding: content/Synthetic_datasets_v1/synthetic_data_0_12_issue.csv (deflated 88%)\n",
            "  adding: content/Synthetic_datasets_v1/ground_truth_0_31_issue.json (deflated 47%)\n",
            "  adding: content/Synthetic_datasets_v1/ground_truth_0_15_issue.json (deflated 35%)\n",
            "  adding: content/Synthetic_datasets_v1/synthetic_data_2_17_issue.csv (deflated 88%)\n",
            "  adding: content/Synthetic_datasets_v1/ground_truth_1_4_issue.json (deflated 46%)\n",
            "  adding: content/Synthetic_datasets_v1/synthetic_data.zip (stored 0%)\n",
            "  adding: content/Synthetic_datasets_v1/ground_truth_1_35_issue.json (deflated 39%)\n",
            "  adding: content/Synthetic_datasets_v1/synthetic_data_1_21_issue.csv (deflated 87%)\n",
            "  adding: content/Synthetic_datasets_v1/ground_truth_0_38_issue.json (deflated 50%)\n",
            "  adding: content/Synthetic_datasets_v1/ground_truth_0_26_issue.json (deflated 34%)\n",
            "  adding: content/Synthetic_datasets_v1/synthetic_data_2_37_issue.csv (deflated 89%)\n",
            "  adding: content/Synthetic_datasets_v1/ground_truth_2_1_issue.json (deflated 49%)\n",
            "  adding: content/Synthetic_datasets_v1/synthetic_data_0_29_issue.csv (deflated 92%)\n",
            "  adding: content/Synthetic_datasets_v1/synthetic_data_0_22_issue.csv (deflated 87%)\n",
            "  adding: content/Synthetic_datasets_v1/synthetic_data_0_49_issue.csv (deflated 87%)\n",
            "  adding: content/Synthetic_datasets_v1/synthetic_data_1_49_issue.csv (deflated 88%)\n",
            "  adding: content/Synthetic_datasets_v1/ground_truth_1_14_issue.json (deflated 45%)\n",
            "  adding: content/Synthetic_datasets_v1/synthetic_data_1_29_issue.csv (deflated 91%)\n",
            "  adding: content/Synthetic_datasets_v1/synthetic_data_1_30_issue.csv (deflated 87%)\n",
            "  adding: content/Synthetic_datasets_v1/ground_truth_0_12_issue.json (deflated 44%)\n",
            "  adding: content/Synthetic_datasets_v1/synthetic_data_1_16_issue.csv (deflated 90%)\n",
            "  adding: content/Synthetic_datasets_v1/synthetic_data_0_33_issue.csv (deflated 89%)\n",
            "  adding: content/Synthetic_datasets_v1/synthetic_data_1_27_issue.csv (deflated 90%)\n",
            "  adding: content/Synthetic_datasets_v1/synthetic_data_2_43_issue.csv (deflated 88%)\n",
            "  adding: content/Synthetic_datasets_v1/synthetic_data_1_13_issue.csv (deflated 89%)\n",
            "  adding: content/Synthetic_datasets_v1/synthetic_data_1_11_issue.csv (deflated 88%)\n",
            "  adding: content/Synthetic_datasets_v1/ground_truth_0_13_issue.json (deflated 44%)\n",
            "  adding: content/Synthetic_datasets_v1/ground_truth_1_0_issue.json (deflated 41%)\n",
            "  adding: content/Synthetic_datasets_v1/ground_truth_2_6_issue.json (deflated 34%)\n",
            "  adding: content/Synthetic_datasets_v1/ground_truth_1_6_issue.json (deflated 45%)\n",
            "  adding: content/Synthetic_datasets_v1/synthetic_data_1_36_issue.csv (deflated 88%)\n",
            "  adding: content/Synthetic_datasets_v1/ground_truth_2_30_issue.json (deflated 36%)\n",
            "  adding: content/Synthetic_datasets_v1/ground_truth_1_7_issue.json (deflated 36%)\n",
            "  adding: content/Synthetic_datasets_v1/synthetic_data_2_28_issue.csv (deflated 90%)\n",
            "  adding: content/Synthetic_datasets_v1/ground_truth_1_33_issue.json (deflated 42%)\n",
            "  adding: content/Synthetic_datasets_v1/ground_truth_0_16_issue.json (deflated 41%)\n",
            "  adding: content/Synthetic_datasets_v1/synthetic_data_0_2_issue.csv (deflated 87%)\n",
            "  adding: content/Synthetic_datasets_v1/synthetic_data_1_0_issue.csv (deflated 89%)\n",
            "  adding: content/Synthetic_datasets_v1/ground_truth_1_28_issue.json (deflated 35%)\n",
            "  adding: content/Synthetic_datasets_v1/synthetic_data_2_47_issue.csv (deflated 87%)\n",
            "  adding: content/Synthetic_datasets_v1/synthetic_data_0_45_issue.csv (deflated 88%)\n",
            "  adding: content/Synthetic_datasets_v1/ground_truth_1_27_issue.json (deflated 46%)\n",
            "  adding: content/Synthetic_datasets_v1/ground_truth_1_21_issue.json (deflated 35%)\n",
            "  adding: content/Synthetic_datasets_v1/ground_truth_2_49_issue.json (deflated 40%)\n",
            "  adding: content/Synthetic_datasets_v1/ground_truth_0_43_issue.json (deflated 49%)\n",
            "  adding: content/Synthetic_datasets_v1/synthetic_data_1_48_issue.csv (deflated 87%)\n",
            "  adding: content/Synthetic_datasets_v1/synthetic_data_2_30_issue.csv (deflated 87%)\n",
            "  adding: content/Synthetic_datasets_v1/synthetic_data_2_7_issue.csv (deflated 86%)\n",
            "  adding: content/Synthetic_datasets_v1/ground_truth_0_40_issue.json (deflated 33%)\n",
            "  adding: content/Synthetic_datasets_v1/ground_truth_0_25_issue.json (deflated 40%)\n",
            "  adding: content/Synthetic_datasets_v1/synthetic_data_2_20_issue.csv (deflated 89%)\n",
            "  adding: content/Synthetic_datasets_v1/ground_truth_2_37_issue.json (deflated 43%)\n",
            "  adding: content/Synthetic_datasets_v1/ground_truth_2_15_issue.json (deflated 46%)\n",
            "  adding: content/Synthetic_datasets_v1/synthetic_data_0_8_issue.csv (deflated 90%)\n",
            "  adding: content/Synthetic_datasets_v1/synthetic_data_2_21_issue.csv (deflated 87%)\n",
            "  adding: content/Synthetic_datasets_v1/ground_truth_1_43_issue.json (deflated 40%)\n",
            "  adding: content/Synthetic_datasets_v1/ground_truth_0_42_issue.json (deflated 36%)\n",
            "  adding: content/Synthetic_datasets_v1/ground_truth_2_10_issue.json (deflated 32%)\n",
            "  adding: content/Synthetic_datasets_v1/ground_truth_1_8_issue.json (deflated 41%)\n",
            "  adding: content/Synthetic_datasets_v1/ground_truth_0_6_issue.json (deflated 37%)\n",
            "  adding: content/Synthetic_datasets_v1/synthetic_data_0_7_issue.csv (deflated 90%)\n",
            "  adding: content/Synthetic_datasets_v1/ground_truth_2_40_issue.json (deflated 35%)\n",
            "  adding: content/Synthetic_datasets_v1/synthetic_data_1_18_issue.csv (deflated 87%)\n",
            "  adding: content/Synthetic_datasets_v1/ground_truth_1_30_issue.json (deflated 36%)\n",
            "  adding: content/Synthetic_datasets_v1/synthetic_data_2_34_issue.csv (deflated 88%)\n",
            "  adding: content/Synthetic_datasets_v1/ground_truth_2_9_issue.json (deflated 34%)\n",
            "  adding: content/Synthetic_datasets_v1/synthetic_data_0_40_issue.csv (deflated 86%)\n",
            "  adding: content/Synthetic_datasets_v1/synthetic_data_2_16_issue.csv (deflated 88%)\n",
            "  adding: content/Synthetic_datasets_v1/ground_truth_2_44_issue.json (deflated 39%)\n",
            "  adding: content/Synthetic_datasets_v1/synthetic_data_0_27_issue.csv (deflated 88%)\n",
            "  adding: content/Synthetic_datasets_v1/ground_truth_2_16_issue.json (deflated 39%)\n",
            "  adding: content/Synthetic_datasets_v1/ground_truth_1_31_issue.json (deflated 36%)\n",
            "  adding: content/Synthetic_datasets_v1/synthetic_data_1_22_issue.csv (deflated 87%)\n",
            "  adding: content/Synthetic_datasets_v1/ground_truth_0_5_issue.json (deflated 35%)\n",
            "  adding: content/Synthetic_datasets_v1/ground_truth_0_2_issue.json (deflated 41%)\n",
            "  adding: content/Synthetic_datasets_v1/synthetic_data_2_12_issue.csv (deflated 88%)\n",
            "  adding: content/Synthetic_datasets_v1/synthetic_data_1_17_issue.csv (deflated 88%)\n",
            "  adding: content/Synthetic_datasets_v1/synthetic_data_0_0_issue.csv (deflated 87%)\n",
            "  adding: content/Synthetic_datasets_v1/synthetic_data_2_19_issue.csv (deflated 88%)\n",
            "  adding: content/Synthetic_datasets_v1/synthetic_data_1_32_issue.csv (deflated 88%)\n",
            "  adding: content/Synthetic_datasets_v1/synthetic_data_0_34_issue.csv (deflated 91%)\n",
            "  adding: content/Synthetic_datasets_v1/ground_truth_0_18_issue.json (deflated 42%)\n",
            "  adding: content/Synthetic_datasets_v1/ground_truth_0_20_issue.json (deflated 46%)\n",
            "  adding: content/Synthetic_datasets_v1/ground_truth_1_17_issue.json (deflated 40%)\n",
            "  adding: content/Synthetic_datasets_v1/ground_truth_0_3_issue.json (deflated 42%)\n",
            "  adding: content/Synthetic_datasets_v1/synthetic_data_0_6_issue.csv (deflated 88%)\n",
            "  adding: content/Synthetic_datasets_v1/synthetic_data_2_0_issue.csv (deflated 87%)\n",
            "  adding: content/Synthetic_datasets_v1/ground_truth_2_12_issue.json (deflated 40%)\n",
            "  adding: content/Synthetic_datasets_v1/ground_truth_0_41_issue.json (deflated 45%)\n",
            "  adding: content/Synthetic_datasets_v1/ground_truth_1_19_issue.json (deflated 49%)\n",
            "  adding: content/Synthetic_datasets_v1/ground_truth_1_24_issue.json (deflated 39%)\n",
            "  adding: content/Synthetic_datasets_v1/ground_truth_2_17_issue.json (deflated 38%)\n",
            "  adding: content/Synthetic_datasets_v1/ground_truth_2_39_issue.json (deflated 46%)\n",
            "  adding: content/Synthetic_datasets_v1/synthetic_data_1_31_issue.csv (deflated 88%)\n",
            "  adding: content/Synthetic_datasets_v1/ground_truth_2_41_issue.json (deflated 49%)\n",
            "  adding: content/Synthetic_datasets_v1/synthetic_data_0_4_issue.csv (deflated 89%)\n",
            "  adding: content/Synthetic_datasets_v1/ground_truth_2_38_issue.json (deflated 47%)\n",
            "  adding: content/Synthetic_datasets_v1/ground_truth_1_40_issue.json (deflated 47%)\n",
            "  adding: content/Synthetic_datasets_v1/synthetic_data_2_31_issue.csv (deflated 91%)\n",
            "  adding: content/Synthetic_datasets_v1/synthetic_data_2_36_issue.csv (deflated 90%)\n",
            "  adding: content/Synthetic_datasets_v1/synthetic_data_2_5_issue.csv (deflated 87%)\n",
            "  adding: content/Synthetic_datasets_v1/ground_truth_0_28_issue.json (deflated 51%)\n",
            "  adding: content/Synthetic_datasets_v1/ground_truth_0_23_issue.json (deflated 44%)\n",
            "  adding: content/Synthetic_datasets_v1/synthetic_data_1_38_issue.csv (deflated 91%)\n",
            "  adding: content/Synthetic_datasets_v1/synthetic_data_0_5_issue.csv (deflated 88%)\n",
            "  adding: content/Synthetic_datasets_v1/ground_truth_1_47_issue.json (deflated 31%)\n",
            "  adding: content/Synthetic_datasets_v1/synthetic_data_2_33_issue.csv (deflated 87%)\n",
            "  adding: content/Synthetic_datasets_v1/synthetic_data_1_28_issue.csv (deflated 87%)\n",
            "  adding: content/Synthetic_datasets_v1/synthetic_data_1_39_issue.csv (deflated 88%)\n",
            "  adding: content/Synthetic_datasets_v1/ground_truth_0_33_issue.json (deflated 40%)\n",
            "  adding: content/Synthetic_datasets_v1/synthetic_data_2_18_issue.csv (deflated 88%)\n",
            "  adding: content/Synthetic_datasets_v1/ground_truth_0_24_issue.json (deflated 44%)\n",
            "  adding: content/Synthetic_datasets_v1/ground_truth_2_14_issue.json (deflated 43%)\n",
            "  adding: content/Synthetic_datasets_v1/ground_truth_0_11_issue.json (deflated 49%)\n",
            "  adding: content/Synthetic_datasets_v1/ground_truth_0_17_issue.json (deflated 38%)\n",
            "  adding: content/Synthetic_datasets_v1/ground_truth_1_9_issue.json (deflated 49%)\n",
            "  adding: content/Synthetic_datasets_v1/synthetic_data_2_27_issue.csv (deflated 88%)\n",
            "  adding: content/Synthetic_datasets_v1/synthetic_data_1_33_issue.csv (deflated 87%)\n",
            "  adding: content/Synthetic_datasets_v1/ground_truth_0_0_issue.json (deflated 39%)\n",
            "  adding: content/Synthetic_datasets_v1/synthetic_data_2_26_issue.csv (deflated 87%)\n",
            "  adding: content/Synthetic_datasets_v1/synthetic_data_2_40_issue.csv (deflated 88%)\n",
            "  adding: content/Synthetic_datasets_v1/ground_truth_2_4_issue.json (deflated 39%)\n",
            "  adding: content/Synthetic_datasets_v1/ground_truth_1_42_issue.json (deflated 37%)\n",
            "  adding: content/Synthetic_datasets_v1/ground_truth_0_7_issue.json (deflated 50%)\n",
            "  adding: content/Synthetic_datasets_v1/synthetic_data_2_15_issue.csv (deflated 90%)\n",
            "  adding: content/Synthetic_datasets_v1/ground_truth_0_44_issue.json (deflated 42%)\n",
            "  adding: content/Synthetic_datasets_v1/evaluations_summary.csv (deflated 91%)\n",
            "  adding: content/Synthetic_datasets_v1/synthetic_data_1_6_issue.csv (deflated 89%)\n",
            "  adding: content/Synthetic_datasets_v1/synthetic_data_0_42_issue.csv (deflated 88%)\n",
            "  adding: content/Synthetic_datasets_v1/ground_truth_1_18_issue.json (deflated 37%)\n",
            "  adding: content/Synthetic_datasets_v1/ground_truth_2_47_issue.json (deflated 37%)\n",
            "  adding: content/Synthetic_datasets_v1/ground_truth_0_19_issue.json (deflated 41%)\n",
            "  adding: content/Synthetic_datasets_v1/ground_truth_1_38_issue.json (deflated 43%)\n",
            "  adding: content/Synthetic_datasets_v1/synthetic_data_0_41_issue.csv (deflated 89%)\n",
            "  adding: content/Synthetic_datasets_v1/synthetic_data_0_17_issue.csv (deflated 88%)\n",
            "  adding: content/Synthetic_datasets_v1/ground_truth_1_11_issue.json (deflated 34%)\n",
            "  adding: content/Synthetic_datasets_v1/ground_truth_1_16_issue.json (deflated 50%)\n",
            "  adding: content/Synthetic_datasets_v1/ground_truth_0_45_issue.json (deflated 40%)\n",
            "  adding: content/Synthetic_datasets_v1/synthetic_data_0_11_issue.csv (deflated 91%)\n",
            "  adding: content/Synthetic_datasets_v1/synthetic_data_1_42_issue.csv (deflated 87%)\n",
            "  adding: content/Synthetic_datasets_v1/synthetic_data_1_14_issue.csv (deflated 90%)\n",
            "  adding: content/Synthetic_datasets_v1/ground_truth_0_27_issue.json (deflated 34%)\n",
            "  adding: content/Synthetic_datasets_v1/ground_truth_1_2_issue.json (deflated 29%)\n",
            "  adding: content/Synthetic_datasets_v1/ground_truth_1_39_issue.json (deflated 41%)\n",
            "  adding: content/Synthetic_datasets_v1/synthetic_data_2_41_issue.csv (deflated 90%)\n",
            "  adding: content/Synthetic_datasets_v1/ground_truth_2_36_issue.json (deflated 44%)\n",
            "  adding: content/Synthetic_datasets_v1/ground_truth_2_23_issue.json (deflated 48%)\n",
            "  adding: content/Synthetic_datasets_v1/ground_truth_2_45_issue.json (deflated 40%)\n",
            "  adding: content/Synthetic_datasets_v1/synthetic_data_2_38_issue.csv (deflated 89%)\n",
            "  adding: content/Synthetic_datasets_v1/synthetic_data_2_4_issue.csv (deflated 88%)\n",
            "  adding: content/Synthetic_datasets_v1/ground_truth_2_18_issue.json (deflated 32%)\n",
            "  adding: content/Synthetic_datasets_v1/ground_truth_0_48_issue.json (deflated 40%)\n",
            "  adding: content/Synthetic_datasets_v1/synthetic_data_1_20_issue.csv (deflated 88%)\n",
            "  adding: content/Synthetic_datasets_v1/synthetic_data_1_46_issue.csv (deflated 90%)\n",
            "  adding: content/Synthetic_datasets_v1/synthetic_data_1_40_issue.csv (deflated 89%)\n",
            "  adding: content/Synthetic_datasets_v1/ground_truth_2_22_issue.json (deflated 31%)\n",
            "  adding: content/Synthetic_datasets_v1/synthetic_data_0_39_issue.csv (deflated 87%)\n",
            "  adding: content/Synthetic_datasets_v1/ground_truth_2_21_issue.json (deflated 39%)\n",
            "  adding: content/Synthetic_datasets_v1/ground_truth_1_13_issue.json (deflated 48%)\n",
            "  adding: content/Synthetic_datasets_v1/ground_truth_0_46_issue.json (deflated 40%)\n",
            "  adding: content/Synthetic_datasets_v1/synthetic_data_2_3_issue.csv (deflated 91%)\n",
            "  adding: content/Synthetic_datasets_v1/synthetic_data_1_10_issue.csv (deflated 87%)\n",
            "  adding: content/Synthetic_datasets_v1/ground_truth_0_35_issue.json (deflated 35%)\n",
            "  adding: content/Synthetic_datasets_v1/ground_truth_1_1_issue.json (deflated 39%)\n",
            "  adding: content/Synthetic_datasets_v1/ground_truth_0_21_issue.json (deflated 42%)\n",
            "  adding: content/Synthetic_datasets_v1/synthetic_data_1_1_issue.csv (deflated 88%)\n",
            "  adding: content/Synthetic_datasets_v1/ground_truth_0_49_issue.json (deflated 35%)\n",
            "  adding: content/Synthetic_datasets_v1/synthetic_data_2_10_issue.csv (deflated 87%)\n",
            "  adding: content/Synthetic_datasets_v1/synthetic_data_2_22_issue.csv (deflated 87%)\n",
            "  adding: content/Synthetic_datasets_v1/synthetic_data_2_2_issue.csv (deflated 89%)\n",
            "  adding: content/Synthetic_datasets_v1/synthetic_data_2_45_issue.csv (deflated 88%)\n",
            "  adding: content/Synthetic_datasets_v1/ground_truth_0_9_issue.json (deflated 41%)\n",
            "  adding: content/Synthetic_datasets_v1/ground_truth_1_15_issue.json (deflated 42%)\n",
            "  adding: content/Synthetic_datasets_v1/synthetic_data_0_23_issue.csv (deflated 88%)\n",
            "  adding: content/Synthetic_datasets_v1/synthetic_data_0_3_issue.csv (deflated 89%)\n",
            "  adding: content/Synthetic_datasets_v1/synthetic_data_1_23_issue.csv (deflated 87%)\n",
            "  adding: content/Synthetic_datasets_v1/synthetic_data_2_49_issue.csv (deflated 88%)\n",
            "  adding: content/Synthetic_datasets_v1/ground_truth_1_20_issue.json (deflated 34%)\n",
            "  adding: content/Synthetic_datasets_v1/ground_truth_1_12_issue.json (deflated 40%)\n",
            "  adding: content/Synthetic_datasets_v1/synthetic_data_0_38_issue.csv (deflated 90%)\n",
            "  adding: content/Synthetic_datasets_v1/ground_truth_2_5_issue.json (deflated 37%)\n",
            "  adding: content/Synthetic_datasets_v1/synthetic_data_2_48_issue.csv (deflated 90%)\n",
            "  adding: content/Synthetic_datasets_v1/ground_truth_2_32_issue.json (deflated 34%)\n",
            "  adding: content/Synthetic_datasets_v1/synthetic_data_0_48_issue.csv (deflated 88%)\n",
            "  adding: content/Synthetic_datasets_v1/ground_truth_2_29_issue.json (deflated 35%)\n",
            "  adding: content/Synthetic_datasets_v1/synthetic_data_0_21_issue.csv (deflated 90%)\n",
            "  adding: content/Synthetic_datasets_v1/ground_truth_2_25_issue.json (deflated 45%)\n",
            "  adding: content/Synthetic_datasets_v1/synthetic_data_0_36_issue.csv (deflated 88%)\n",
            "  adding: content/Synthetic_datasets_v1/synthetic_data_0_35_issue.csv (deflated 88%)\n",
            "  adding: content/Synthetic_datasets_v1/synthetic_data_2_14_issue.csv (deflated 87%)\n",
            "  adding: content/Synthetic_datasets_v1/ground_truth_2_7_issue.json (deflated 34%)\n",
            "  adding: content/Synthetic_datasets_v1/ground_truth_1_45_issue.json (deflated 48%)\n",
            "  adding: content/Synthetic_datasets_v1/ground_truth_0_34_issue.json (deflated 51%)\n",
            "  adding: content/Synthetic_datasets_v1/ground_truth_2_11_issue.json (deflated 47%)\n",
            "  adding: content/Synthetic_datasets_v1/synthetic_data_2_44_issue.csv (deflated 88%)\n",
            "  adding: content/Synthetic_datasets_v1/synthetic_data_0_14_issue.csv (deflated 88%)\n",
            "  adding: content/Synthetic_datasets_v1/ground_truth_2_24_issue.json (deflated 38%)\n",
            "  adding: content/Synthetic_datasets_v1/ground_truth_1_37_issue.json (deflated 35%)\n",
            "  adding: content/Synthetic_datasets_v1/ground_truth_1_5_issue.json (deflated 48%)\n",
            "  adding: content/Synthetic_datasets_v1/synthetic_data_1_15_issue.csv (deflated 88%)\n",
            "  adding: content/Synthetic_datasets_v1/synthetic_data_1_2_issue.csv (deflated 86%)\n",
            "  adding: content/Synthetic_datasets_v1/synthetic_data_2_42_issue.csv (deflated 91%)\n",
            "  adding: content/Synthetic_datasets_v1/synthetic_data_0_19_issue.csv (deflated 88%)\n",
            "  adding: content/Synthetic_datasets_v1/ground_truth_0_10_issue.json (deflated 42%)\n",
            "  adding: content/Synthetic_datasets_v1/synthetic_data_2_24_issue.csv (deflated 88%)\n",
            "  adding: content/Synthetic_datasets_v1/synthetic_data_1_24_issue.csv (deflated 88%)\n",
            "  adding: content/Synthetic_datasets_v1/synthetic_data_0_1_issue.csv (deflated 86%)\n",
            "  adding: content/Synthetic_datasets_v1/ground_truth_0_30_issue.json (deflated 46%)\n",
            "  adding: content/Synthetic_datasets_v1/ground_truth_2_43_issue.json (deflated 47%)\n",
            "  adding: content/Synthetic_datasets_v1/synthetic_data_2_6_issue.csv (deflated 87%)\n",
            "  adding: content/Synthetic_datasets_v1/ground_truth_2_26_issue.json (deflated 39%)\n",
            "  adding: content/Synthetic_datasets_v1/ground_truth_0_36_issue.json (deflated 46%)\n",
            "  adding: content/Synthetic_datasets_v1/ground_truth_2_35_issue.json (deflated 35%)\n",
            "  adding: content/Synthetic_datasets_v1/ground_truth_0_14_issue.json (deflated 36%)\n",
            "  adding: content/Synthetic_datasets_v1/ground_truth_2_34_issue.json (deflated 49%)\n",
            "  adding: content/Synthetic_datasets_v1/ground_truth_2_42_issue.json (deflated 49%)\n",
            "  adding: content/Synthetic_datasets_v1/synthetic_data_2_23_issue.csv (deflated 91%)\n",
            "  adding: content/Synthetic_datasets_v1/ground_truth_1_48_issue.json (deflated 33%)\n",
            "  adding: content/Synthetic_datasets_v1/synthetic_data_0_28_issue.csv (deflated 90%)\n",
            "  adding: content/Synthetic_datasets_v1/synthetic_data_1_4_issue.csv (deflated 90%)\n",
            "  adding: content/Synthetic_datasets_v1/synthetic_data_2_46_issue.csv (deflated 87%)\n",
            "  adding: content/Synthetic_datasets_v1/ground_truth_1_25_issue.json (deflated 41%)\n",
            "  adding: content/Synthetic_datasets_v1/ground_truth_2_3_issue.json (deflated 50%)\n",
            "  adding: content/Synthetic_datasets_v1/ground_truth_0_47_issue.json (deflated 34%)\n",
            "  adding: content/Synthetic_datasets_v1/ground_truth_2_27_issue.json (deflated 35%)\n",
            "  adding: content/Synthetic_datasets_v1/synthetic_data_0_31_issue.csv (deflated 91%)\n",
            "  adding: content/Synthetic_datasets_v1/synthetic_data_0_10_issue.csv (deflated 87%)\n",
            "  adding: content/Synthetic_datasets_v1/synthetic_data_0_9_issue.csv (deflated 89%)\n",
            "  adding: content/Synthetic_datasets_v1/ground_truth_1_44_issue.json (deflated 40%)\n",
            "  adding: content/Synthetic_datasets_v1/synthetic_data_1_26_issue.csv (deflated 87%)\n",
            "  adding: content/Synthetic_datasets_v1/synthetic_data_0_30_issue.csv (deflated 90%)\n",
            "  adding: content/Synthetic_datasets_v1/synthetic_data_2_39_issue.csv (deflated 88%)\n",
            "  adding: content/Synthetic_datasets_v1/ground_truth_1_3_issue.json (deflated 34%)\n",
            "  adding: content/Synthetic_datasets_v1/synthetic_data_0_24_issue.csv (deflated 90%)\n",
            "  adding: content/Synthetic_datasets_v1/ground_truth_1_36_issue.json (deflated 38%)\n",
            "  adding: content/Synthetic_datasets_v1/synthetic_data_2_35_issue.csv (deflated 86%)\n",
            "  adding: content/Synthetic_datasets_v1/ground_truth_0_1_issue.json (deflated 34%)\n",
            "  adding: content/Synthetic_datasets_v1/ground_truth_1_23_issue.json (deflated 35%)\n",
            "  adding: content/Synthetic_datasets_v1/synthetic_data_1_8_issue.csv (deflated 88%)\n",
            "  adding: content/Synthetic_datasets_v1/synthetic_data_1_3_issue.csv (deflated 86%)\n",
            "  adding: content/Synthetic_datasets_v1/synthetic_data_0_13_issue.csv (deflated 90%)\n",
            "  adding: content/Synthetic_datasets_v1/ground_truth_2_48_issue.json (deflated 51%)\n",
            "  adding: content/Synthetic_datasets_v1/synthetic_data_1_45_issue.csv (deflated 89%)\n",
            "  adding: content/Synthetic_datasets_v1/synthetic_data_1_43_issue.csv (deflated 88%)\n",
            "  adding: content/Synthetic_datasets_v1/ground_truth_1_49_issue.json (deflated 50%)\n",
            "  adding: content/Synthetic_datasets_v1/synthetic_data_0_16_issue.csv (deflated 88%)\n",
            "  adding: content/Synthetic_datasets_v1/ground_truth_2_31_issue.json (deflated 48%)\n",
            "  adding: content/Synthetic_datasets_v1/synthetic_data_0_18_issue.csv (deflated 88%)\n",
            "  adding: content/Synthetic_datasets_v1/ground_truth_2_46_issue.json (deflated 36%)\n",
            "  adding: content/Synthetic_datasets_v1/ground_truth_1_22_issue.json (deflated 38%)\n",
            "  adding: content/Synthetic_datasets_v1/synthetic_data_2_32_issue.csv (deflated 87%)\n",
            "  adding: content/Synthetic_datasets_v1/ground_truth_0_29_issue.json (deflated 47%)\n",
            "  adding: content/Synthetic_datasets_v1/synthetic_data_1_34_issue.csv (deflated 88%)\n",
            "  adding: content/Synthetic_datasets_v1/synthetic_data_0_43_issue.csv (deflated 91%)\n",
            "  adding: content/Synthetic_datasets_v1/ground_truth_2_33_issue.json (deflated 35%)\n",
            "  adding: content/Synthetic_datasets_v1/synthetic_data_2_29_issue.csv (deflated 88%)\n",
            "  adding: content/Synthetic_datasets_v1/ground_truth_2_20_issue.json (deflated 40%)\n",
            "  adding: content/Synthetic_datasets_v1/synthetic_data_2_25_issue.csv (deflated 88%)\n",
            "  adding: content/Synthetic_datasets_v1/ground_truth_2_2_issue.json (deflated 43%)\n",
            "  adding: content/Synthetic_datasets_v1/ground_truth_0_32_issue.json (deflated 33%)\n",
            "  adding: content/Synthetic_datasets_v1/synthetic_data_1_37_issue.csv (deflated 87%)\n",
            "  adding: content/Synthetic_datasets_v1/synthetic_data_2_9_issue.csv (deflated 87%)\n",
            "  adding: content/Synthetic_datasets_v1/ground_truth_1_34_issue.json (deflated 38%)\n",
            "  adding: content/Synthetic_datasets_v1/synthetic_data_1_25_issue.csv (deflated 88%)\n",
            "  adding: content/Synthetic_datasets_v1/synthetic_data_1_19_issue.csv (deflated 90%)\n",
            "  adding: content/Synthetic_datasets_v1/synthetic_data_0_37_issue.csv (deflated 91%)\n",
            "  adding: content/Synthetic_datasets_v1/synthetic_data_2_8_issue.csv (deflated 88%)\n",
            "  adding: content/Synthetic_datasets_v1/ground_truth_0_37_issue.json (deflated 47%)\n",
            "  adding: content/Synthetic_datasets_v1/ground_truth_2_13_issue.json (deflated 45%)\n",
            "  adding: content/Synthetic_datasets_v1/synthetic_data_0_32_issue.csv (deflated 87%)\n",
            "  adding: content/Synthetic_datasets_v1/synthetic_data_1_5_issue.csv (deflated 88%)\n",
            "  adding: content/Synthetic_datasets_v1/ground_truth_2_8_issue.json (deflated 44%)\n",
            "  adding: content/Synthetic_datasets_v1/synthetic_data_0_15_issue.csv (deflated 88%)\n",
            "  adding: content/Synthetic_datasets_v1/synthetic_data_0_25_issue.csv (deflated 88%)\n",
            "  adding: content/Synthetic_datasets_v1/synthetic_data_0_26_issue.csv (deflated 87%)\n",
            "  adding: content/Synthetic_datasets_v1/synthetic_data_1_12_issue.csv (deflated 88%)\n",
            "  adding: content/Synthetic_datasets_v1/ground_truth_1_46_issue.json (deflated 44%)\n"
          ]
        }
      ]
    },
    {
      "cell_type": "code",
      "source": [
        "from google.colab import files\n",
        "files.download('dataset.zip')\n"
      ],
      "metadata": {
        "id": "JfSJloAbxOfU"
      },
      "execution_count": null,
      "outputs": []
    },
    {
      "cell_type": "code",
      "source": [],
      "metadata": {
        "id": "wugkWVzazcH7"
      },
      "execution_count": null,
      "outputs": []
    },
    {
      "cell_type": "code",
      "source": [],
      "metadata": {
        "id": "IltpyUUHzcGC"
      },
      "execution_count": null,
      "outputs": []
    },
    {
      "cell_type": "code",
      "source": [
        "import pandas as pd\n",
        "import os\n",
        "\n",
        "directory = '/content/Synthetic_datasets'\n",
        "csv_files = [f for f in os.listdir(directory) if f.endswith('.csv')]\n",
        "\n",
        "combined_datasets_df = pd.DataFrame()\n",
        "\n",
        "for file_name in csv_files:\n",
        "    file_path = os.path.join(directory, file_name)\n",
        "    df = pd.read_csv(file_path)\n",
        "    df['source_file'] = file_name\n",
        "    combined_datasets_df = pd.concat([combined_datasets_df, df], ignore_index=True)\n"
      ],
      "metadata": {
        "id": "T7qZYWRJzcDD"
      },
      "execution_count": null,
      "outputs": []
    },
    {
      "cell_type": "code",
      "source": [
        "import json\n",
        "\n",
        "json_files = [f for f in os.listdir(directory) if f.endswith('.json')]\n",
        "ground_truth_data = []\n",
        "\n",
        "for file_name in json_files:\n",
        "    file_path = os.path.join(directory, file_name)\n",
        "    with open(file_path, 'r') as file:\n",
        "        data = json.load(file)\n",
        "        data['source_file'] = file_name\n",
        "        ground_truth_data.append(data)\n",
        "\n",
        "ground_truth_df = pd.DataFrame(ground_truth_data)\n"
      ],
      "metadata": {
        "id": "H0OncvW4zppA"
      },
      "execution_count": null,
      "outputs": []
    },
    {
      "cell_type": "code",
      "source": [
        "combined_datasets_df.to_csv('/content/combined_Synthetic_datasets.csv', index=False)\n",
        "ground_truth_df.to_csv('/content/combined_Synthetic_ground_truth.csv', index=False)\n"
      ],
      "metadata": {
        "id": "DvdASn5Vzsok"
      },
      "execution_count": null,
      "outputs": []
    },
    {
      "cell_type": "code",
      "source": [],
      "metadata": {
        "id": "ApHw7vib4Sc7"
      },
      "execution_count": null,
      "outputs": []
    },
    {
      "cell_type": "code",
      "source": [],
      "metadata": {
        "id": "Zfmlt67g4SaU"
      },
      "execution_count": null,
      "outputs": []
    },
    {
      "cell_type": "code",
      "source": [],
      "metadata": {
        "id": "L1qQS35L4SXs"
      },
      "execution_count": null,
      "outputs": []
    }
  ]
}